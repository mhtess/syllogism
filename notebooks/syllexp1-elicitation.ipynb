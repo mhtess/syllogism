{
 "metadata": {
  "name": "",
  "signature": "sha256:b2c5d616f435de66f1d621eb4f73ecd96c4f637022d6b1622243c95531cca4b5"
 },
 "nbformat": 3,
 "nbformat_minor": 0,
 "worksheets": [
  {
   "cells": [
    {
     "cell_type": "markdown",
     "metadata": {},
     "source": [
      "# Experiment 1: prior elicitation\n",
      "\n",
      "Experiment to elicit priors for 6 causal domains. This notebook takes the mturk data and writes the relevant data to a csv. It writes a second file with just the means. Further down, it looks at the priors in more detail; primarily, to see if the priors could have been generated from 3 independent coin flips (something like \"unstructured knowledge\")."
     ]
    },
    {
     "cell_type": "code",
     "collapsed": false,
     "input": [
      "import csv\n",
      "import numpy as np\n",
      "import pandas as pd\n",
      "from scipy.optimize import minimize\n",
      "import matplotlib.pyplot as plt\n",
      "%matplotlib inline \n",
      "import ast\n",
      "import glob"
     ],
     "language": "python",
     "metadata": {},
     "outputs": [],
     "prompt_number": 5
    },
    {
     "cell_type": "code",
     "collapsed": false,
     "input": [
      "expname = '03syllogism_prior_psychjs'\n",
      "priorpath = ('/Users/mht/Documents/research/syllogism/experiments/%s' % (expname))\n",
      "datapath = ('/Users/mht/Documents/research/syllogism/data/%s' % (expname))\n",
      "priorfile = priorpath + '/prior-exp-mturk.tsv'\n",
      "priors = pd.read_csv(priorfile,sep='\\t')"
     ],
     "language": "python",
     "metadata": {},
     "outputs": [],
     "prompt_number": 6
    },
    {
     "cell_type": "code",
     "collapsed": false,
     "input": [
      "a = priors[\"Answer.2\"] # data for elicitation trials\n",
      "b = [ast.literal_eval(x) for x in a] #literalize the mturk data"
     ],
     "language": "python",
     "metadata": {},
     "outputs": [],
     "prompt_number": 7
    },
    {
     "cell_type": "code",
     "collapsed": false,
     "input": [
      "all_priors = pd.DataFrame() # start new data frame for all subjects data\n",
      "for i, subj_info in enumerate(b): # loop through subjects\n",
      "    temp = pd.DataFrame.from_dict(subj_info) # turn subj data into df\n",
      "    temp.insert(0,\"subj\",\"s\"+str(i)) # insert subject identifier\n",
      "    all_priors = pd.concat([all_priors,temp],ignore_index=True) # add subj df to all_subj df\n",
      "# convert \"trial_domain\" (obj) into \"domain\" (string)\n",
      "all_priors[\"domain\"] = pd.Series([item for sublist in all_priors.trial_domain for item in sublist])"
     ],
     "language": "python",
     "metadata": {},
     "outputs": [],
     "prompt_number": 8
    },
    {
     "cell_type": "markdown",
     "metadata": {},
     "source": [
      "#### 1. Normed means by domain and dependent measure"
     ]
    },
    {
     "cell_type": "code",
     "collapsed": false,
     "input": [
      "# property labels\n",
      "property_labels = list(all_priors.columns.values[1:9])\n",
      "# New df for the means\n",
      "pr_means = pd.DataFrame(columns=(['domain','condition'] + property_labels))\n",
      "\n",
      "for j in range(2): # loop through condition (plausibility / frequency)\n",
      "    for i, dom in enumerate(list(set(all_priors[\"domain\"]))): # through domain\n",
      "        df0 = all_priors[((all_priors.domain == dom) & (all_priors.condition == j))][property_labels] # subset by domain\n",
      "        normed_means = df0.div(df0.sum(axis=1),axis=0).apply(np.mean) # Normalize each item, take means\n",
      "        pr_means.loc[i+6*j] = pd.Series([dom,j],[\"domain\",\"condition\"]).append(normed_means) # Load normed means\n",
      "        \n",
      "# reorder columns so that it's monotonic in number of present properties\n",
      "cols = pr_means.columns.tolist()\n",
      "cols = cols[0:5] + [cols[6]] + [cols[5]] + cols[7::]\n",
      "pr_means = pr_means[cols]\n",
      "pr_means.columns = [\"domain\",\"condition\",\"111\",\"110\",\"101\",\"011\",\"100\",\"010\",\"001\",\"000\"]\n",
      "pr_means.condition = pr_means.condition.replace(0,\"plausibility\")\n",
      "pr_means.condition = pr_means.condition.replace(1,\"frequency\")"
     ],
     "language": "python",
     "metadata": {},
     "outputs": [],
     "prompt_number": 50
    },
    {
     "cell_type": "markdown",
     "metadata": {},
     "source": [
      "#### 2. Alternatively: collapse across dependent measures"
     ]
    },
    {
     "cell_type": "code",
     "collapsed": false,
     "input": [
      "# property labels\n",
      "property_labels = list(all_priors.columns.values[1:9])\n",
      "# New df for the means\n",
      "pr_means = pd.DataFrame(columns=(['domain','condition'] + property_labels))\n",
      "\n",
      "for i, dom in enumerate(list(set(all_priors[\"domain\"]))): # through domain\n",
      "    df0 = all_priors[(all_priors.domain == dom)][property_labels] # subset by domain\n",
      "    normed_means = df0.div(df0.sum(axis=1),axis=0).apply(np.mean) # Normalize each item, take means\n",
      "    pr_means.loc[i] = pd.Series([dom,'tfbt'],[\"domain\",\"condition\"]).append(normed_means) # Load normed means\n",
      "        \n",
      "# reorder columns so that it's monotonic in number of present properties\n",
      "cols = pr_means.columns.tolist()\n",
      "cols = cols[0:5] + [cols[6]] + [cols[5]] + cols[7::]\n",
      "pr_means = pr_means[cols]\n",
      "pr_means.columns = [\"domain\",\"condition\",\"111\",\"110\",\"101\",\"011\",\"100\",\"010\",\"001\",\"000\"]\n",
      "\n",
      "pr_means.to_csv(datapath+'/prior-exp-mturk_collapsed_means_n71.csv')"
     ],
     "language": "python",
     "metadata": {},
     "outputs": [],
     "prompt_number": 10
    },
    {
     "cell_type": "raw",
     "metadata": {},
     "source": [
      "pr_means.to_csv(datapath+'/prior-exp-mturk_means_n71.csv')\n",
      "all_priors.to_csv(datapath+'/prior-exp-mturk_all_n71.csv')"
     ]
    },
    {
     "cell_type": "markdown",
     "metadata": {},
     "source": [
      "## Could these priors (means) have been generated by independent coin flips?"
     ]
    },
    {
     "cell_type": "markdown",
     "metadata": {},
     "source": [
      "### A, B, C ~ Bernoulli ( <code>a, b, c</code>) i.d. (not identical)"
     ]
    },
    {
     "cell_type": "raw",
     "metadata": {},
     "source": [
      "# test case for code\n",
      "\n",
      "test_case = pd.DataFrame(columns=(['domain','condition'] + property_labels))\n",
      "a, b, c = 0.3, 0.4, 0.5\n",
      "tst = ['cats', 0, (a*b*c), (a*b*(1-c)), (a*(1-b)*c), (a*(1-b)*(1-c)), \\\n",
      "       ((1-a)*b*c), ((1-a)*b*(1-c)), ((1-a)*(1-b)*c), ((1-a)*(1-b)*(1-c))]\n",
      "test_case.loc[0] = tst\n",
      "\n",
      "a, b, c = 0.2, 0.1, 0.8\n",
      "tst = ['rats', 1, (a*b*c), (a*b*(1-c)), (a*(1-b)*c), (a*(1-b)*(1-c)), \\\n",
      "       ((1-a)*b*c), ((1-a)*b*(1-c)), ((1-a)*(1-b)*c), ((1-a)*(1-b)*(1-c))]\n",
      "\n",
      "test_case.loc[1] = tst\n",
      "\n",
      "pr_means = test_case\n",
      "pr_means"
     ]
    },
    {
     "cell_type": "code",
     "collapsed": false,
     "input": [],
     "language": "python",
     "metadata": {},
     "outputs": [],
     "prompt_number": 6
    },
    {
     "cell_type": "code",
     "collapsed": false,
     "input": [
      "# define objective function to minimize\n",
      "\n",
      "def fun1(a,b,c):\n",
      "    return a*b*c\n",
      "\n",
      "def fun2(a,b,c):\n",
      "    return a*b*(1-c)\n",
      "\n",
      "def fun3(a,b,c):\n",
      "    return a*(1-b)*(1-c)\n",
      "\n",
      "def fun4(a,b,c):\n",
      "    return (1-a)*(1-b)*(1-c)\n",
      "\n",
      "def objective(x,priors,plabels):\n",
      "    \n",
      "    p1dev = ((fun1(x[0],x[1],x[2])-priors[plabels[0]])**2).sum()\n",
      "    \n",
      "    p2dev = ((fun2(x[0],x[1],x[2])-priors[plabels[1]])**2).sum()+ \\\n",
      "            ((fun2(x[2],x[0],x[1])-priors[plabels[2]])**2).sum()+ \\\n",
      "            ((fun2(x[1],x[2],x[0])-priors[plabels[3]])**2).sum()\n",
      "    \n",
      "    p3dev = ((fun3(x[0],x[1],x[2])-priors[plabels[4]])**2).sum()+ \\\n",
      "            ((fun3(x[1],x[2],x[0])-priors[plabels[5]])**2).sum()+ \\\n",
      "            ((fun3(x[2],x[0],x[1])-priors[plabels[6]])**2).sum()\n",
      "            \n",
      "    p4dev = ((fun1(x[0],x[1],x[2])-priors[plabels[7]])**2).sum()\n",
      "    \n",
      "    return p1dev+p2dev+p3dev+p4dev"
     ],
     "language": "python",
     "metadata": {},
     "outputs": [],
     "prompt_number": 6
    },
    {
     "cell_type": "code",
     "collapsed": false,
     "input": [
      "x0 = np.array([0.3,0.45,0.5]) #starting guess\n",
      "opt_br = []\n",
      "param_labels = pr_means.columns.tolist()[2:10]\n",
      "\n",
      "for pr in pr_means.iterrows():\n",
      "    min_out = minimize(objective,x0,args=(pr[1],param_labels),method='nelder-mead')\n",
      "    opt_br.append(min_out.x)"
     ],
     "language": "python",
     "metadata": {},
     "outputs": [],
     "prompt_number": 7
    },
    {
     "cell_type": "code",
     "collapsed": false,
     "input": [
      "# use best fit (flips) to generate distribution over 3 properties\n",
      "bf_predall = pd.DataFrame(columns=pr_means.columns.values)\n",
      "\n",
      "for i, br in enumerate(opt_br):\n",
      "    bf_pred = []\n",
      "    bf_pred.append(pr_means.loc[i][0])\n",
      "    bf_pred.append(pr_means.loc[i][1])\n",
      "    bf_pred.append(fun1(br[0],br[1],br[2]))\n",
      "\n",
      "    bf_pred.append(fun2(br[0],br[1],br[2]))\n",
      "    bf_pred.append(fun2(br[2],br[0],br[1]))\n",
      "    bf_pred.append(fun2(br[0],br[1],br[0]))\n",
      "\n",
      "    bf_pred.append(fun3(br[0],br[1],br[2]))\n",
      "    bf_pred.append(fun3(br[1],br[2],br[0]))\n",
      "    bf_pred.append(fun3(br[2],br[0],br[1]))\n",
      "\n",
      "    bf_pred.append(fun4(br[0],br[1],br[2]))\n",
      "\n",
      "    bf_predall.loc[i] = bf_pred\n",
      "    \n",
      "pr_melt=pd.melt(pr_means,id_vars=['domain','condition'])"
     ],
     "language": "python",
     "metadata": {},
     "outputs": [],
     "prompt_number": 8
    },
    {
     "cell_type": "code",
     "collapsed": false,
     "input": [
      "# correlation between all elicited priors and best fit (flips)\n",
      "pr_melt=pd.melt(pr_means,id_vars=['domain','condition'])\n",
      "bf_melt=pd.melt(bf_predall,id_vars=['domain','condition'])\n",
      "a = pd.merge(bf_melt,pr_melt,on=['variable','domain','condition'])\n",
      "corr = a[\"value_x\"].corr(a[\"value_y\"])\n",
      "print corr\n",
      "print a.query('condition == \"plausibility\"').value_x.corr(a.query('condition == \"plausibility\"').value_y)\n",
      "print a.query('condition == \"frequency\"').value_x.corr(a.query('condition == \"frequency\"').value_y)"
     ],
     "language": "python",
     "metadata": {},
     "outputs": [
      {
       "output_type": "stream",
       "stream": "stdout",
       "text": [
        "0.656490459903\n",
        "0.317658209065\n",
        "0.777893141422\n"
       ]
      }
     ],
     "prompt_number": 12
    },
    {
     "cell_type": "markdown",
     "metadata": {},
     "source": [
      "Seems that the frequency priors are more \"independent\" than the plausibility priors. I wonder if that actually translates into better model differentiation. "
     ]
    },
    {
     "cell_type": "code",
     "collapsed": false,
     "input": [
      "#plot (some of) that shit\n",
      "x = np.arange(len(bf_predall.columns.values[2::]))\n",
      "\n",
      "fig, ((ax, bx),(cx, dx), (ex, fx)) = plt.subplots(nrows=3, ncols=2)\n",
      "fig.set_size_inches(10,6)\n",
      "plt.setp(((ax, bx),(cx, dx), (ex, fx)), xticks=x+0.2, \n",
      "         xticklabels=('111','110','101','011','100','010','001','000'))\n",
      "\n",
      "\n",
      "#ax = plt.subplot(211)\n",
      "ax.bar(x+0.2, bf_predall.loc[0][2::], width=0.4,color='r',alpha=0.5)\n",
      "ax.bar(x-0.2, pr_means.iloc[0][2::],width=0.4,color='y',alpha=0.5)\n",
      "ax.set_ylim((0,0.200))\n",
      "\n",
      "#bx = plt.subplot(212)\n",
      "bx.bar(x+0.2, bf_predall.loc[1][2::], width=0.4,color='r',alpha=0.5)\n",
      "bx.bar(x-0.2, pr_means.iloc[1][2::],width=0.4,color='y',alpha=0.5)\n",
      "bx.set_ylim((0,0.200))\n",
      "\n",
      "#cx = plt.subplot(221)\n",
      "cx.bar(x+0.2, bf_predall.loc[2][2::], width=0.4,color='r',alpha=0.5)\n",
      "cx.bar(x-0.2, pr_means.iloc[2][2::],width=0.4,color='y',alpha=0.5)\n",
      "cx.set_ylim((0,0.200))\n",
      "\n",
      "#dx = plt.subplot(222)\n",
      "dx.bar(x+0.2, bf_predall.loc[3][2::], width=0.4,color='r',alpha=0.5)\n",
      "dx.bar(x-0.2, pr_means.iloc[3][2::],width=0.4,color='y',alpha=0.5)\n",
      "dx.set_ylim((0,0.200))\n",
      "\n",
      "#cx = plt.subplot(221)\n",
      "ex.bar(x+0.2, bf_predall.loc[4][2::], width=0.4,color='r',alpha=0.5)\n",
      "ex.bar(x-0.2, pr_means.iloc[4][2::],width=0.4,color='y',alpha=0.5)\n",
      "ex.set_ylim((0,0.200))\n",
      "\n",
      "#dx = plt.subplot(222)\n",
      "fx.bar(x+0.2, bf_predall.loc[5][2::], width=0.4,color='r',alpha=0.5)\n",
      "fx.bar(x-0.2, pr_means.iloc[5][2::],width=0.4,color='y',alpha=0.5)\n",
      "fx.set_ylim((0,0.200))\n",
      "\n",
      "plt.show()"
     ],
     "language": "python",
     "metadata": {},
     "outputs": [
      {
       "metadata": {},
       "output_type": "display_data",
       "png": "[encoded data removed]",
       "text": [
        "<matplotlib.figure.Figure at 0x108228c10>"
       ]
      }
     ],
     "prompt_number": 11
    },
    {
     "cell_type": "markdown",
     "metadata": {},
     "source": [
      "# Syllogism model with (mean) empirical priors"
     ]
    },
    {
     "cell_type": "code",
     "collapsed": false,
     "input": [
      "expname = 'prior-exp-mturk_means_n71'\n",
      "priorpath = ('/Users/mht/Documents/research/syllogism/data/03syllogism_prior_psychjs/')\n",
      "priorfile = priorpath + expname +'.csv'"
     ],
     "language": "python",
     "metadata": {},
     "outputs": [],
     "prompt_number": 3
    },
    {
     "cell_type": "code",
     "collapsed": false,
     "input": [
      "import os\n",
      "os.chdir(\"/Users/mht/Documents/research/syllogism/models\")\n",
      "from syll_model import syllogism_model\n",
      "\n",
      "n_obj, br, ndepth, mdepth, alphq, alphr = 4, 0, 0, 0, 1, 1\n",
      "serv, nvc, vc, vcord, exp, fig, lis, EPin = 0, 0, 4,'CA','AIEO', 'Full', 'lis', 1"
     ],
     "language": "python",
     "metadata": {},
     "outputs": [],
     "prompt_number": 4
    },
    {
     "cell_type": "code",
     "collapsed": false,
     "input": [
      "allpriors = ['lightbulb','tomatoplant','cracker', \\\n",
      "             'strawberry','painting','knife'] \n",
      "alltypes = ['plausibility','frequency']"
     ],
     "language": "python",
     "metadata": {},
     "outputs": [],
     "prompt_number": 5
    },
    {
     "cell_type": "code",
     "collapsed": false,
     "input": [
      "# OED for pragmatics, compare across a range of param vals\n",
      "n_objects = [7]\n",
      "alphas = [3]\n",
      "tested_priors = ['lightbulb','cracker','strawberry','knife']\n",
      "#tested_priors = ['cracker','strawberry','knife']\n",
      "at = 'frequency'\n",
      "for ap in tested_priors:\n",
      "    for n_obj in n_objects:\n",
      "        syllorder, model_data = syllogism_model(n_obj,br,0,0,1,1,domain=ap,priortype=at)\n",
      "        syllorder, model_data = syllogism_model(n_obj,br,1,0,3,1,domain=ap,priortype=at)\n",
      "        #syllorder, model_data = syllogism_model(n_obj,br,1,0,5,1,domain=ap,priortype=at)"
     ],
     "language": "python",
     "metadata": {},
     "outputs": [
      {
       "output_type": "stream",
       "stream": "stdout",
       "text": [
        "sampling and featurizing 7 lightbulbs frequencySame\n",
        "7 = n balls"
       ]
      },
      {
       "output_type": "stream",
       "stream": "stdout",
       "text": [
        "\n",
        "listening, reasoning, speaking... alpha1\n",
        "listening, reasoning, speaking... alpha0"
       ]
      },
      {
       "output_type": "stream",
       "stream": "stdout",
       "text": [
        "\n",
        "sampling and featurizing 7 lightbulbs frequencySame"
       ]
      },
      {
       "output_type": "stream",
       "stream": "stdout",
       "text": [
        "\n",
        "listening, reasoning, speaking... alpha3\n",
        "listening, reasoning, speaking... alpha0"
       ]
      },
      {
       "output_type": "stream",
       "stream": "stdout",
       "text": [
        "\n",
        "sampling and featurizing 7 crackers frequencySame"
       ]
      },
      {
       "output_type": "stream",
       "stream": "stdout",
       "text": [
        "\n",
        "7 = n balls"
       ]
      },
      {
       "output_type": "stream",
       "stream": "stdout",
       "text": [
        "\n",
        "listening, reasoning, speaking... alpha1\n",
        "listening, reasoning, speaking... alpha0"
       ]
      },
      {
       "output_type": "stream",
       "stream": "stdout",
       "text": [
        "\n",
        "sampling and featurizing 7 crackers frequencySame"
       ]
      },
      {
       "output_type": "stream",
       "stream": "stdout",
       "text": [
        "\n",
        "listening, reasoning, speaking... alpha3\n",
        "listening, reasoning, speaking... alpha0"
       ]
      },
      {
       "output_type": "stream",
       "stream": "stdout",
       "text": [
        "\n",
        "sampling and featurizing 7 strawberrys frequencySame"
       ]
      },
      {
       "output_type": "stream",
       "stream": "stdout",
       "text": [
        "\n",
        "7 = n balls"
       ]
      },
      {
       "output_type": "stream",
       "stream": "stdout",
       "text": [
        "\n",
        "listening, reasoning, speaking... alpha1\n",
        "listening, reasoning, speaking... alpha0"
       ]
      },
      {
       "output_type": "stream",
       "stream": "stdout",
       "text": [
        "\n",
        "sampling and featurizing 7 strawberrys frequencySame"
       ]
      },
      {
       "output_type": "stream",
       "stream": "stdout",
       "text": [
        "\n",
        "listening, reasoning, speaking... alpha3\n",
        "listening, reasoning, speaking... alpha0"
       ]
      },
      {
       "output_type": "stream",
       "stream": "stdout",
       "text": [
        "\n",
        "sampling and featurizing 7 knifes frequencySame"
       ]
      },
      {
       "output_type": "stream",
       "stream": "stdout",
       "text": [
        "\n",
        "7 = n balls"
       ]
      },
      {
       "output_type": "stream",
       "stream": "stdout",
       "text": [
        "\n",
        "listening, reasoning, speaking... alpha1\n",
        "listening, reasoning, speaking... alpha0"
       ]
      },
      {
       "output_type": "stream",
       "stream": "stdout",
       "text": [
        "\n",
        "sampling and featurizing 7 knifes frequencySame"
       ]
      },
      {
       "output_type": "stream",
       "stream": "stdout",
       "text": [
        "\n",
        "listening, reasoning, speaking... alpha3\n",
        "listening, reasoning, speaking... alpha0"
       ]
      },
      {
       "output_type": "stream",
       "stream": "stdout",
       "text": [
        "\n"
       ]
      }
     ],
     "prompt_number": 6
    },
    {
     "cell_type": "code",
     "collapsed": false,
     "input": [
      "for ap in allpriors:\n",
      "    for at in alltypes:\n",
      "        syllorder, model_data = syllogism_model(n_obj,br,ndepth,mdepth,alphq,alphr,\\\n",
      "                                            domain=ap,\\\n",
      "                                            priortype=at)"
     ],
     "language": "python",
     "metadata": {},
     "outputs": [
      {
       "output_type": "stream",
       "stream": "stdout",
       "text": [
        "listening, reasoning, speaking... alpha5\n",
        "listening, reasoning, speaking... alpha5"
       ]
      },
      {
       "output_type": "stream",
       "stream": "stdout",
       "text": [
        "\n",
        "listening, reasoning, speaking... alpha5"
       ]
      },
      {
       "output_type": "stream",
       "stream": "stdout",
       "text": [
        "\n",
        "listening, reasoning, speaking... alpha5"
       ]
      },
      {
       "output_type": "stream",
       "stream": "stdout",
       "text": [
        "\n",
        "listening, reasoning, speaking... alpha5"
       ]
      },
      {
       "output_type": "stream",
       "stream": "stdout",
       "text": [
        "\n",
        "listening, reasoning, speaking... alpha5"
       ]
      },
      {
       "output_type": "stream",
       "stream": "stdout",
       "text": [
        "\n",
        "listening, reasoning, speaking... alpha5"
       ]
      },
      {
       "output_type": "stream",
       "stream": "stdout",
       "text": [
        "\n",
        "listening, reasoning, speaking... alpha5"
       ]
      },
      {
       "output_type": "stream",
       "stream": "stdout",
       "text": [
        "\n",
        "listening, reasoning, speaking... alpha5"
       ]
      },
      {
       "output_type": "stream",
       "stream": "stdout",
       "text": [
        "\n",
        "listening, reasoning, speaking... alpha5"
       ]
      },
      {
       "output_type": "stream",
       "stream": "stdout",
       "text": [
        "\n",
        "listening, reasoning, speaking... alpha5"
       ]
      },
      {
       "output_type": "stream",
       "stream": "stdout",
       "text": [
        "\n",
        "listening, reasoning, speaking... alpha5"
       ]
      },
      {
       "output_type": "stream",
       "stream": "stdout",
       "text": [
        "\n"
       ]
      }
     ],
     "prompt_number": 33
    },
    {
     "cell_type": "code",
     "collapsed": false,
     "input": [
      "syllorder, model_data = syllogism_model(6,0.50,0,0,1,1,\\\n",
      "                                    domain='naive',\\\n",
      "                                    priortype='iid')"
     ],
     "language": "python",
     "metadata": {},
     "outputs": [
      {
       "output_type": "stream",
       "stream": "stdout",
       "text": [
        "listening, reasoning, speaking... alpha1\n"
       ]
      }
     ],
     "prompt_number": 16
    },
    {
     "cell_type": "code",
     "collapsed": false,
     "input": [
      "n_obj"
     ],
     "language": "python",
     "metadata": {},
     "outputs": []
    },
    {
     "cell_type": "markdown",
     "metadata": {},
     "source": [
      "# Syllogism model with {bootstrapped} empirical priors"
     ]
    },
    {
     "cell_type": "code",
     "collapsed": false,
     "input": [
      "expname = '/prior-exp-mturk_all_n71'\n",
      "priorpath = ('/Users/mht/Documents/research/syllogism/data/03syllogism_prior_psychjs/')\n",
      "priorfile = priorpath + expname +'.csv'"
     ],
     "language": "python",
     "metadata": {},
     "outputs": [],
     "prompt_number": 6
    },
    {
     "cell_type": "code",
     "collapsed": false,
     "input": [
      "import os\n",
      "os.chdir(\"/Users/mht/Documents/research/syllogism/models\")\n",
      "from syll_model import syllogism_model\n",
      "\n",
      "n_obj, br, ndepth, mdepth, alphq, alphr = 6, 0, 0, 0, 1, 1\n",
      "serv, nvc, vc, vcord, exp, fig, lis, EPin = 0, 0, 4,'CA','AIEO', 'Full', 'lis', 1\n",
      "prrs, prrt = 'MC_EE_ec', 'causal'"
     ],
     "language": "python",
     "metadata": {},
     "outputs": [],
     "prompt_number": 24
    },
    {
     "cell_type": "code",
     "collapsed": false,
     "input": [
      "allpriors = ['lightbulb','cracker', \\\n",
      "             'strawberry','knife'] \n",
      "alltypes = ['plausibility','frequency']"
     ],
     "language": "python",
     "metadata": {},
     "outputs": [],
     "prompt_number": 8
    },
    {
     "cell_type": "raw",
     "metadata": {},
     "source": [
      "# test case\n",
      "syllorder, model_data = syllogism_model(4,br,ndepth,mdepth,alphq,alphr,\\\n",
      "                                    domain='lightbulb',\\\n",
      "                                    priortype='bootstrap')"
     ]
    },
    {
     "cell_type": "code",
     "collapsed": false,
     "input": [
      "for ap in allpriors:\n",
      "    syllorder, model_data = syllogism_model(n_obj,br,ndepth,mdepth,alphq,alphr,\\\n",
      "                                        domain=ap,\\\n",
      "                                        priortype='bootstrap')"
     ],
     "language": "python",
     "metadata": {},
     "outputs": [
      {
       "output_type": "stream",
       "stream": "stdout",
       "text": [
        "sampling and featurizing 6 lightbulbs plausibility\n",
        "6 = n balls"
       ]
      },
      {
       "output_type": "stream",
       "stream": "stdout",
       "text": [
        "\n",
        "listening, reasoning, speaking... alpha1\n",
        "listening, reasoning, speaking... alpha0"
       ]
      },
      {
       "output_type": "stream",
       "stream": "stdout",
       "text": [
        "\n",
        "sampling and featurizing 6 lightbulbs frequency"
       ]
      },
      {
       "output_type": "stream",
       "stream": "stdout",
       "text": [
        "\n",
        "6 = n balls"
       ]
      },
      {
       "output_type": "stream",
       "stream": "stdout",
       "text": [
        "\n",
        "listening, reasoning, speaking... alpha1\n",
        "listening, reasoning, speaking... alpha0"
       ]
      },
      {
       "output_type": "stream",
       "stream": "stdout",
       "text": [
        "\n",
        "sampling and featurizing 6 tomatoplants plausibility"
       ]
      },
      {
       "output_type": "stream",
       "stream": "stdout",
       "text": [
        "\n",
        "6 = n balls"
       ]
      },
      {
       "output_type": "stream",
       "stream": "stdout",
       "text": [
        "\n",
        "listening, reasoning, speaking... alpha1\n",
        "listening, reasoning, speaking... alpha0"
       ]
      },
      {
       "output_type": "stream",
       "stream": "stdout",
       "text": [
        "\n",
        "sampling and featurizing 6 tomatoplants frequency"
       ]
      },
      {
       "output_type": "stream",
       "stream": "stdout",
       "text": [
        "\n",
        "6 = n balls"
       ]
      },
      {
       "output_type": "stream",
       "stream": "stdout",
       "text": [
        "\n",
        "listening, reasoning, speaking... alpha1\n",
        "listening, reasoning, speaking... alpha0"
       ]
      },
      {
       "output_type": "stream",
       "stream": "stdout",
       "text": [
        "\n",
        "sampling and featurizing 6 crackers plausibility"
       ]
      },
      {
       "output_type": "stream",
       "stream": "stdout",
       "text": [
        "\n",
        "6 = n balls"
       ]
      },
      {
       "output_type": "stream",
       "stream": "stdout",
       "text": [
        "\n",
        "listening, reasoning, speaking... alpha1\n",
        "listening, reasoning, speaking... alpha0"
       ]
      },
      {
       "output_type": "stream",
       "stream": "stdout",
       "text": [
        "\n",
        "sampling and featurizing 6 crackers frequency"
       ]
      },
      {
       "output_type": "stream",
       "stream": "stdout",
       "text": [
        "\n",
        "6 = n balls"
       ]
      },
      {
       "output_type": "stream",
       "stream": "stdout",
       "text": [
        "\n",
        "listening, reasoning, speaking... alpha1\n",
        "listening, reasoning, speaking... alpha0"
       ]
      },
      {
       "output_type": "stream",
       "stream": "stdout",
       "text": [
        "\n",
        "sampling and featurizing 6 strawberrys plausibility"
       ]
      },
      {
       "output_type": "stream",
       "stream": "stdout",
       "text": [
        "\n",
        "6 = n balls"
       ]
      },
      {
       "output_type": "stream",
       "stream": "stdout",
       "text": [
        "\n",
        "listening, reasoning, speaking... alpha1\n",
        "listening, reasoning, speaking... alpha0"
       ]
      },
      {
       "output_type": "stream",
       "stream": "stdout",
       "text": [
        "\n",
        "listening, reasoning, speaking... alpha1"
       ]
      },
      {
       "output_type": "stream",
       "stream": "stdout",
       "text": [
        "\n",
        "sampling and featurizing 6 paintings plausibility"
       ]
      },
      {
       "output_type": "stream",
       "stream": "stdout",
       "text": [
        "\n",
        "6 = n balls"
       ]
      },
      {
       "output_type": "stream",
       "stream": "stdout",
       "text": [
        "\n",
        "listening, reasoning, speaking... alpha1\n",
        "listening, reasoning, speaking... alpha0"
       ]
      },
      {
       "output_type": "stream",
       "stream": "stdout",
       "text": [
        "\n",
        "sampling and featurizing 6 paintings frequency"
       ]
      },
      {
       "output_type": "stream",
       "stream": "stdout",
       "text": [
        "\n",
        "6 = n balls"
       ]
      },
      {
       "output_type": "stream",
       "stream": "stdout",
       "text": [
        "\n",
        "listening, reasoning, speaking... alpha1\n",
        "listening, reasoning, speaking... alpha0"
       ]
      },
      {
       "output_type": "stream",
       "stream": "stdout",
       "text": [
        "\n",
        "sampling and featurizing 6 knifes plausibility"
       ]
      },
      {
       "output_type": "stream",
       "stream": "stdout",
       "text": [
        "\n",
        "6 = n balls"
       ]
      },
      {
       "output_type": "stream",
       "stream": "stdout",
       "text": [
        "\n",
        "listening, reasoning, speaking... alpha1\n",
        "listening, reasoning, speaking... alpha0"
       ]
      },
      {
       "output_type": "stream",
       "stream": "stdout",
       "text": [
        "\n",
        "sampling and featurizing 6 knifes frequency"
       ]
      },
      {
       "output_type": "stream",
       "stream": "stdout",
       "text": [
        "\n",
        "6 = n balls"
       ]
      },
      {
       "output_type": "stream",
       "stream": "stdout",
       "text": [
        "\n",
        "listening, reasoning, speaking... alpha1\n",
        "listening, reasoning, speaking... alpha0"
       ]
      },
      {
       "output_type": "stream",
       "stream": "stdout",
       "text": [
        "\n"
       ]
      }
     ],
     "prompt_number": 18
    },
    {
     "cell_type": "code",
     "collapsed": false,
     "input": [
      "prior = 'painting'\n",
      "responses = ['all.C-A','none.C-A','some.C-A','not-all.C-A']\n",
      "bs_fpath = ('modeldata/LATTICE_4_bootstrap/00/csv/lis_N0_M0_bootstrap%s*.csv' % prior)\n",
      "bs_files = glob.glob(bs_fpath)"
     ],
     "language": "python",
     "metadata": {},
     "outputs": [],
     "prompt_number": 96
    },
    {
     "cell_type": "code",
     "collapsed": false,
     "input": [
      "df = pd.read_csv(bs_files[0]) # get dimensions of one set of model predictions\n",
      "bs_data_all = pd.DataFrame(columns=(['sample'] + list(df.columns.values)))\n",
      "for i, bs_file in enumerate(bs_files):\n",
      "    bs_data = pd.read_csv(bs_file)\n",
      "    bs_data.insert(0,'sample',i)\n",
      "    bs_data_all = bs_data_all.append(bs_data,ignore_index=True)"
     ],
     "language": "python",
     "metadata": {},
     "outputs": [],
     "prompt_number": 97
    },
    {
     "cell_type": "code",
     "collapsed": false,
     "input": [
      "bs_data_quantiles = pd.DataFrame(columns = (['syll','quantile']+responses))\n",
      "for a in bs_data_all['# syll'].unique():\n",
      "    syllq = bs_data_all[bs_data_all['# syll']==a][responses].quantile([0.025, 0.5, 0.975],axis=0)\n",
      "    syllq.index.name = 'quantile'\n",
      "    syllq.reset_index(inplace=True)\n",
      "    syllq.insert(0,'syll',a)\n",
      "    bs_data_quantiles = bs_data_quantiles.append(syllq,ignore_index=True)"
     ],
     "language": "python",
     "metadata": {},
     "outputs": [],
     "prompt_number": 98
    },
    {
     "cell_type": "code",
     "collapsed": false,
     "input": [
      "bs_data_quantiles"
     ],
     "language": "python",
     "metadata": {},
     "outputs": [
      {
       "html": [
        "<div style=\"max-height:1000px;max-width:1500px;overflow:auto;\">\n",
        "<table border=\"1\" class=\"dataframe\">\n",
        "  <thead>\n",
        "    <tr style=\"text-align: right;\">\n",
        "      <th></th>\n",
        "      <th>syll</th>\n",
        "      <th>quantile</th>\n",
        "      <th>all.C-A</th>\n",
        "      <th>none.C-A</th>\n",
        "      <th>some.C-A</th>\n",
        "      <th>not-all.C-A</th>\n",
        "    </tr>\n",
        "  </thead>\n",
        "  <tbody>\n",
        "    <tr>\n",
        "      <th>0  </th>\n",
        "      <td> AA1</td>\n",
        "      <td> 0.025</td>\n",
        "      <td> 0.500000</td>\n",
        "      <td> 0.000000</td>\n",
        "      <td> 0.500000</td>\n",
        "      <td> 0.000000</td>\n",
        "    </tr>\n",
        "    <tr>\n",
        "      <th>1  </th>\n",
        "      <td> AA1</td>\n",
        "      <td> 0.500</td>\n",
        "      <td> 0.500000</td>\n",
        "      <td> 0.000000</td>\n",
        "      <td> 0.500000</td>\n",
        "      <td> 0.000000</td>\n",
        "    </tr>\n",
        "    <tr>\n",
        "      <th>2  </th>\n",
        "      <td> AA1</td>\n",
        "      <td> 0.975</td>\n",
        "      <td> 0.500000</td>\n",
        "      <td> 0.000000</td>\n",
        "      <td> 0.500000</td>\n",
        "      <td> 0.000000</td>\n",
        "    </tr>\n",
        "    <tr>\n",
        "      <th>3  </th>\n",
        "      <td> AE1</td>\n",
        "      <td> 0.025</td>\n",
        "      <td> 0.121568</td>\n",
        "      <td> 0.079874</td>\n",
        "      <td> 0.397703</td>\n",
        "      <td> 0.336671</td>\n",
        "    </tr>\n",
        "    <tr>\n",
        "      <th>4  </th>\n",
        "      <td> AE1</td>\n",
        "      <td> 0.500</td>\n",
        "      <td> 0.134570</td>\n",
        "      <td> 0.091850</td>\n",
        "      <td> 0.408150</td>\n",
        "      <td> 0.365430</td>\n",
        "    </tr>\n",
        "    <tr>\n",
        "      <th>5  </th>\n",
        "      <td> AE1</td>\n",
        "      <td> 0.975</td>\n",
        "      <td> 0.163329</td>\n",
        "      <td> 0.102297</td>\n",
        "      <td> 0.420126</td>\n",
        "      <td> 0.378432</td>\n",
        "    </tr>\n",
        "    <tr>\n",
        "      <th>6  </th>\n",
        "      <td> AI1</td>\n",
        "      <td> 0.025</td>\n",
        "      <td> 0.173147</td>\n",
        "      <td> 0.000000</td>\n",
        "      <td> 0.500000</td>\n",
        "      <td> 0.285447</td>\n",
        "    </tr>\n",
        "    <tr>\n",
        "      <th>7  </th>\n",
        "      <td> AI1</td>\n",
        "      <td> 0.500</td>\n",
        "      <td> 0.183231</td>\n",
        "      <td> 0.000000</td>\n",
        "      <td> 0.500000</td>\n",
        "      <td> 0.316769</td>\n",
        "    </tr>\n",
        "    <tr>\n",
        "      <th>8  </th>\n",
        "      <td> AI1</td>\n",
        "      <td> 0.975</td>\n",
        "      <td> 0.214553</td>\n",
        "      <td> 0.000000</td>\n",
        "      <td> 0.500000</td>\n",
        "      <td> 0.326853</td>\n",
        "    </tr>\n",
        "    <tr>\n",
        "      <th>9  </th>\n",
        "      <td> AO1</td>\n",
        "      <td> 0.025</td>\n",
        "      <td> 0.136995</td>\n",
        "      <td> 0.030255</td>\n",
        "      <td> 0.458221</td>\n",
        "      <td> 0.321553</td>\n",
        "    </tr>\n",
        "    <tr>\n",
        "      <th>10 </th>\n",
        "      <td> AO1</td>\n",
        "      <td> 0.500</td>\n",
        "      <td> 0.146616</td>\n",
        "      <td> 0.036035</td>\n",
        "      <td> 0.463965</td>\n",
        "      <td> 0.353384</td>\n",
        "    </tr>\n",
        "    <tr>\n",
        "      <th>11 </th>\n",
        "      <td> AO1</td>\n",
        "      <td> 0.975</td>\n",
        "      <td> 0.178447</td>\n",
        "      <td> 0.041779</td>\n",
        "      <td> 0.469745</td>\n",
        "      <td> 0.363005</td>\n",
        "    </tr>\n",
        "    <tr>\n",
        "      <th>12 </th>\n",
        "      <td> EA1</td>\n",
        "      <td> 0.025</td>\n",
        "      <td> 0.000000</td>\n",
        "      <td> 0.500000</td>\n",
        "      <td> 0.000000</td>\n",
        "      <td> 0.500000</td>\n",
        "    </tr>\n",
        "    <tr>\n",
        "      <th>13 </th>\n",
        "      <td> EA1</td>\n",
        "      <td> 0.500</td>\n",
        "      <td> 0.000000</td>\n",
        "      <td> 0.500000</td>\n",
        "      <td> 0.000000</td>\n",
        "      <td> 0.500000</td>\n",
        "    </tr>\n",
        "    <tr>\n",
        "      <th>14 </th>\n",
        "      <td> EA1</td>\n",
        "      <td> 0.975</td>\n",
        "      <td> 0.000000</td>\n",
        "      <td> 0.500000</td>\n",
        "      <td> 0.000000</td>\n",
        "      <td> 0.500000</td>\n",
        "    </tr>\n",
        "    <tr>\n",
        "      <th>15 </th>\n",
        "      <td> EE1</td>\n",
        "      <td> 0.025</td>\n",
        "      <td> 0.149725</td>\n",
        "      <td> 0.046247</td>\n",
        "      <td> 0.430496</td>\n",
        "      <td> 0.313570</td>\n",
        "    </tr>\n",
        "    <tr>\n",
        "      <th>16 </th>\n",
        "      <td> EE1</td>\n",
        "      <td> 0.500</td>\n",
        "      <td> 0.159570</td>\n",
        "      <td> 0.056117</td>\n",
        "      <td> 0.443883</td>\n",
        "      <td> 0.340430</td>\n",
        "    </tr>\n",
        "    <tr>\n",
        "      <th>17 </th>\n",
        "      <td> EE1</td>\n",
        "      <td> 0.975</td>\n",
        "      <td> 0.186430</td>\n",
        "      <td> 0.069504</td>\n",
        "      <td> 0.453753</td>\n",
        "      <td> 0.350275</td>\n",
        "    </tr>\n",
        "    <tr>\n",
        "      <th>18 </th>\n",
        "      <td> EI1</td>\n",
        "      <td> 0.025</td>\n",
        "      <td> 0.000000</td>\n",
        "      <td> 0.074594</td>\n",
        "      <td> 0.398608</td>\n",
        "      <td> 0.500000</td>\n",
        "    </tr>\n",
        "    <tr>\n",
        "      <th>19 </th>\n",
        "      <td> EI1</td>\n",
        "      <td> 0.500</td>\n",
        "      <td> 0.000000</td>\n",
        "      <td> 0.086035</td>\n",
        "      <td> 0.413965</td>\n",
        "      <td> 0.500000</td>\n",
        "    </tr>\n",
        "    <tr>\n",
        "      <th>20 </th>\n",
        "      <td> EI1</td>\n",
        "      <td> 0.975</td>\n",
        "      <td> 0.000000</td>\n",
        "      <td> 0.101392</td>\n",
        "      <td> 0.425406</td>\n",
        "      <td> 0.500000</td>\n",
        "    </tr>\n",
        "    <tr>\n",
        "      <th>21 </th>\n",
        "      <td> EO1</td>\n",
        "      <td> 0.025</td>\n",
        "      <td> 0.094386</td>\n",
        "      <td> 0.046724</td>\n",
        "      <td> 0.431118</td>\n",
        "      <td> 0.381184</td>\n",
        "    </tr>\n",
        "    <tr>\n",
        "      <th>22 </th>\n",
        "      <td> EO1</td>\n",
        "      <td> 0.500</td>\n",
        "      <td> 0.098697</td>\n",
        "      <td> 0.057500</td>\n",
        "      <td> 0.442500</td>\n",
        "      <td> 0.401303</td>\n",
        "    </tr>\n",
        "    <tr>\n",
        "      <th>23 </th>\n",
        "      <td> EO1</td>\n",
        "      <td> 0.975</td>\n",
        "      <td> 0.118816</td>\n",
        "      <td> 0.068882</td>\n",
        "      <td> 0.453276</td>\n",
        "      <td> 0.405614</td>\n",
        "    </tr>\n",
        "    <tr>\n",
        "      <th>24 </th>\n",
        "      <td> IA1</td>\n",
        "      <td> 0.025</td>\n",
        "      <td> 0.239357</td>\n",
        "      <td> 0.088204</td>\n",
        "      <td> 0.384583</td>\n",
        "      <td> 0.227334</td>\n",
        "    </tr>\n",
        "    <tr>\n",
        "      <th>25 </th>\n",
        "      <td> IA1</td>\n",
        "      <td> 0.500</td>\n",
        "      <td> 0.258657</td>\n",
        "      <td> 0.096996</td>\n",
        "      <td> 0.403004</td>\n",
        "      <td> 0.241343</td>\n",
        "    </tr>\n",
        "    <tr>\n",
        "      <th>26 </th>\n",
        "      <td> IA1</td>\n",
        "      <td> 0.975</td>\n",
        "      <td> 0.272666</td>\n",
        "      <td> 0.115417</td>\n",
        "      <td> 0.411796</td>\n",
        "      <td> 0.260643</td>\n",
        "    </tr>\n",
        "    <tr>\n",
        "      <th>27 </th>\n",
        "      <td> IE1</td>\n",
        "      <td> 0.025</td>\n",
        "      <td> 0.163440</td>\n",
        "      <td> 0.106789</td>\n",
        "      <td> 0.364765</td>\n",
        "      <td> 0.301692</td>\n",
        "    </tr>\n",
        "    <tr>\n",
        "      <th>28 </th>\n",
        "      <td> IE1</td>\n",
        "      <td> 0.500</td>\n",
        "      <td> 0.169951</td>\n",
        "      <td> 0.128206</td>\n",
        "      <td> 0.371794</td>\n",
        "      <td> 0.330049</td>\n",
        "    </tr>\n",
        "    <tr>\n",
        "      <th>29 </th>\n",
        "      <td> IE1</td>\n",
        "      <td> 0.975</td>\n",
        "      <td> 0.198308</td>\n",
        "      <td> 0.135235</td>\n",
        "      <td> 0.393211</td>\n",
        "      <td> 0.336560</td>\n",
        "    </tr>\n",
        "    <tr>\n",
        "      <th>...</th>\n",
        "      <td>...</td>\n",
        "      <td>...</td>\n",
        "      <td>...</td>\n",
        "      <td>...</td>\n",
        "      <td>...</td>\n",
        "      <td>...</td>\n",
        "    </tr>\n",
        "    <tr>\n",
        "      <th>162</th>\n",
        "      <td> EI4</td>\n",
        "      <td> 0.025</td>\n",
        "      <td> 0.000000</td>\n",
        "      <td> 0.074594</td>\n",
        "      <td> 0.398608</td>\n",
        "      <td> 0.500000</td>\n",
        "    </tr>\n",
        "    <tr>\n",
        "      <th>163</th>\n",
        "      <td> EI4</td>\n",
        "      <td> 0.500</td>\n",
        "      <td> 0.000000</td>\n",
        "      <td> 0.086035</td>\n",
        "      <td> 0.413965</td>\n",
        "      <td> 0.500000</td>\n",
        "    </tr>\n",
        "    <tr>\n",
        "      <th>164</th>\n",
        "      <td> EI4</td>\n",
        "      <td> 0.975</td>\n",
        "      <td> 0.000000</td>\n",
        "      <td> 0.101392</td>\n",
        "      <td> 0.425406</td>\n",
        "      <td> 0.500000</td>\n",
        "    </tr>\n",
        "    <tr>\n",
        "      <th>165</th>\n",
        "      <td> EO4</td>\n",
        "      <td> 0.025</td>\n",
        "      <td> 0.099808</td>\n",
        "      <td> 0.058171</td>\n",
        "      <td> 0.415161</td>\n",
        "      <td> 0.372897</td>\n",
        "    </tr>\n",
        "    <tr>\n",
        "      <th>166</th>\n",
        "      <td> EO4</td>\n",
        "      <td> 0.500</td>\n",
        "      <td> 0.104897</td>\n",
        "      <td> 0.068293</td>\n",
        "      <td> 0.431707</td>\n",
        "      <td> 0.395103</td>\n",
        "    </tr>\n",
        "    <tr>\n",
        "      <th>167</th>\n",
        "      <td> EO4</td>\n",
        "      <td> 0.975</td>\n",
        "      <td> 0.127103</td>\n",
        "      <td> 0.084839</td>\n",
        "      <td> 0.441829</td>\n",
        "      <td> 0.400192</td>\n",
        "    </tr>\n",
        "    <tr>\n",
        "      <th>168</th>\n",
        "      <td> IA4</td>\n",
        "      <td> 0.025</td>\n",
        "      <td> 0.078842</td>\n",
        "      <td> 0.000000</td>\n",
        "      <td> 0.500000</td>\n",
        "      <td> 0.392757</td>\n",
        "    </tr>\n",
        "    <tr>\n",
        "      <th>169</th>\n",
        "      <td> IA4</td>\n",
        "      <td> 0.500</td>\n",
        "      <td> 0.085106</td>\n",
        "      <td> 0.000000</td>\n",
        "      <td> 0.500000</td>\n",
        "      <td> 0.414894</td>\n",
        "    </tr>\n",
        "    <tr>\n",
        "      <th>170</th>\n",
        "      <td> IA4</td>\n",
        "      <td> 0.975</td>\n",
        "      <td> 0.107243</td>\n",
        "      <td> 0.000000</td>\n",
        "      <td> 0.500000</td>\n",
        "      <td> 0.421158</td>\n",
        "    </tr>\n",
        "    <tr>\n",
        "      <th>171</th>\n",
        "      <td> IE4</td>\n",
        "      <td> 0.025</td>\n",
        "      <td> 0.163440</td>\n",
        "      <td> 0.106789</td>\n",
        "      <td> 0.364765</td>\n",
        "      <td> 0.301692</td>\n",
        "    </tr>\n",
        "    <tr>\n",
        "      <th>172</th>\n",
        "      <td> IE4</td>\n",
        "      <td> 0.500</td>\n",
        "      <td> 0.169951</td>\n",
        "      <td> 0.128206</td>\n",
        "      <td> 0.371794</td>\n",
        "      <td> 0.330049</td>\n",
        "    </tr>\n",
        "    <tr>\n",
        "      <th>173</th>\n",
        "      <td> IE4</td>\n",
        "      <td> 0.975</td>\n",
        "      <td> 0.198308</td>\n",
        "      <td> 0.135235</td>\n",
        "      <td> 0.393211</td>\n",
        "      <td> 0.336560</td>\n",
        "    </tr>\n",
        "    <tr>\n",
        "      <th>174</th>\n",
        "      <td> II4</td>\n",
        "      <td> 0.025</td>\n",
        "      <td> 0.136383</td>\n",
        "      <td> 0.034259</td>\n",
        "      <td> 0.452016</td>\n",
        "      <td> 0.338827</td>\n",
        "    </tr>\n",
        "    <tr>\n",
        "      <th>175</th>\n",
        "      <td> II4</td>\n",
        "      <td> 0.500</td>\n",
        "      <td> 0.139093</td>\n",
        "      <td> 0.041252</td>\n",
        "      <td> 0.458748</td>\n",
        "      <td> 0.360907</td>\n",
        "    </tr>\n",
        "    <tr>\n",
        "      <th>176</th>\n",
        "      <td> II4</td>\n",
        "      <td> 0.975</td>\n",
        "      <td> 0.161173</td>\n",
        "      <td> 0.047984</td>\n",
        "      <td> 0.465741</td>\n",
        "      <td> 0.363617</td>\n",
        "    </tr>\n",
        "    <tr>\n",
        "      <th>177</th>\n",
        "      <td> IO4</td>\n",
        "      <td> 0.025</td>\n",
        "      <td> 0.149594</td>\n",
        "      <td> 0.059317</td>\n",
        "      <td> 0.423045</td>\n",
        "      <td> 0.323762</td>\n",
        "    </tr>\n",
        "    <tr>\n",
        "      <th>178</th>\n",
        "      <td> IO4</td>\n",
        "      <td> 0.500</td>\n",
        "      <td> 0.151867</td>\n",
        "      <td> 0.070959</td>\n",
        "      <td> 0.429041</td>\n",
        "      <td> 0.348133</td>\n",
        "    </tr>\n",
        "    <tr>\n",
        "      <th>179</th>\n",
        "      <td> IO4</td>\n",
        "      <td> 0.975</td>\n",
        "      <td> 0.176238</td>\n",
        "      <td> 0.076955</td>\n",
        "      <td> 0.440683</td>\n",
        "      <td> 0.350406</td>\n",
        "    </tr>\n",
        "    <tr>\n",
        "      <th>180</th>\n",
        "      <td> OA4</td>\n",
        "      <td> 0.025</td>\n",
        "      <td> 0.065133</td>\n",
        "      <td> 0.010442</td>\n",
        "      <td> 0.481655</td>\n",
        "      <td> 0.409687</td>\n",
        "    </tr>\n",
        "    <tr>\n",
        "      <th>181</th>\n",
        "      <td> OA4</td>\n",
        "      <td> 0.500</td>\n",
        "      <td> 0.069442</td>\n",
        "      <td> 0.014939</td>\n",
        "      <td> 0.485061</td>\n",
        "      <td> 0.430558</td>\n",
        "    </tr>\n",
        "    <tr>\n",
        "      <th>182</th>\n",
        "      <td> OA4</td>\n",
        "      <td> 0.975</td>\n",
        "      <td> 0.090313</td>\n",
        "      <td> 0.018345</td>\n",
        "      <td> 0.489558</td>\n",
        "      <td> 0.434867</td>\n",
        "    </tr>\n",
        "    <tr>\n",
        "      <th>183</th>\n",
        "      <td> OE4</td>\n",
        "      <td> 0.025</td>\n",
        "      <td> 0.179092</td>\n",
        "      <td> 0.048839</td>\n",
        "      <td> 0.430372</td>\n",
        "      <td> 0.285477</td>\n",
        "    </tr>\n",
        "    <tr>\n",
        "      <th>184</th>\n",
        "      <td> OE4</td>\n",
        "      <td> 0.500</td>\n",
        "      <td> 0.188794</td>\n",
        "      <td> 0.057021</td>\n",
        "      <td> 0.442979</td>\n",
        "      <td> 0.311206</td>\n",
        "    </tr>\n",
        "    <tr>\n",
        "      <th>185</th>\n",
        "      <td> OE4</td>\n",
        "      <td> 0.975</td>\n",
        "      <td> 0.214523</td>\n",
        "      <td> 0.069628</td>\n",
        "      <td> 0.451161</td>\n",
        "      <td> 0.320908</td>\n",
        "    </tr>\n",
        "    <tr>\n",
        "      <th>186</th>\n",
        "      <td> OI4</td>\n",
        "      <td> 0.025</td>\n",
        "      <td> 0.130167</td>\n",
        "      <td> 0.023125</td>\n",
        "      <td> 0.463516</td>\n",
        "      <td> 0.343270</td>\n",
        "    </tr>\n",
        "    <tr>\n",
        "      <th>187</th>\n",
        "      <td> OI4</td>\n",
        "      <td> 0.500</td>\n",
        "      <td> 0.134200</td>\n",
        "      <td> 0.030200</td>\n",
        "      <td> 0.469800</td>\n",
        "      <td> 0.365800</td>\n",
        "    </tr>\n",
        "    <tr>\n",
        "      <th>188</th>\n",
        "      <td> OI4</td>\n",
        "      <td> 0.975</td>\n",
        "      <td> 0.156730</td>\n",
        "      <td> 0.036484</td>\n",
        "      <td> 0.476875</td>\n",
        "      <td> 0.369833</td>\n",
        "    </tr>\n",
        "    <tr>\n",
        "      <th>189</th>\n",
        "      <td> OO4</td>\n",
        "      <td> 0.025</td>\n",
        "      <td> 0.157222</td>\n",
        "      <td> 0.034688</td>\n",
        "      <td> 0.449028</td>\n",
        "      <td> 0.314390</td>\n",
        "    </tr>\n",
        "    <tr>\n",
        "      <th>190</th>\n",
        "      <td> OO4</td>\n",
        "      <td> 0.500</td>\n",
        "      <td> 0.159986</td>\n",
        "      <td> 0.041553</td>\n",
        "      <td> 0.458447</td>\n",
        "      <td> 0.340014</td>\n",
        "    </tr>\n",
        "    <tr>\n",
        "      <th>191</th>\n",
        "      <td> OO4</td>\n",
        "      <td> 0.975</td>\n",
        "      <td> 0.185610</td>\n",
        "      <td> 0.050972</td>\n",
        "      <td> 0.465312</td>\n",
        "      <td> 0.342778</td>\n",
        "    </tr>\n",
        "  </tbody>\n",
        "</table>\n",
        "<p>192 rows \u00d7 6 columns</p>\n",
        "</div>"
       ],
       "metadata": {},
       "output_type": "pyout",
       "prompt_number": 99,
       "text": [
        "    syll  quantile   all.C-A  none.C-A  some.C-A  not-all.C-A\n",
        "0    AA1     0.025  0.500000  0.000000  0.500000     0.000000\n",
        "1    AA1     0.500  0.500000  0.000000  0.500000     0.000000\n",
        "2    AA1     0.975  0.500000  0.000000  0.500000     0.000000\n",
        "3    AE1     0.025  0.121568  0.079874  0.397703     0.336671\n",
        "4    AE1     0.500  0.134570  0.091850  0.408150     0.365430\n",
        "5    AE1     0.975  0.163329  0.102297  0.420126     0.378432\n",
        "6    AI1     0.025  0.173147  0.000000  0.500000     0.285447\n",
        "7    AI1     0.500  0.183231  0.000000  0.500000     0.316769\n",
        "8    AI1     0.975  0.214553  0.000000  0.500000     0.326853\n",
        "9    AO1     0.025  0.136995  0.030255  0.458221     0.321553\n",
        "10   AO1     0.500  0.146616  0.036035  0.463965     0.353384\n",
        "11   AO1     0.975  0.178447  0.041779  0.469745     0.363005\n",
        "12   EA1     0.025  0.000000  0.500000  0.000000     0.500000\n",
        "13   EA1     0.500  0.000000  0.500000  0.000000     0.500000\n",
        "14   EA1     0.975  0.000000  0.500000  0.000000     0.500000\n",
        "15   EE1     0.025  0.149725  0.046247  0.430496     0.313570\n",
        "16   EE1     0.500  0.159570  0.056117  0.443883     0.340430\n",
        "17   EE1     0.975  0.186430  0.069504  0.453753     0.350275\n",
        "18   EI1     0.025  0.000000  0.074594  0.398608     0.500000\n",
        "19   EI1     0.500  0.000000  0.086035  0.413965     0.500000\n",
        "20   EI1     0.975  0.000000  0.101392  0.425406     0.500000\n",
        "21   EO1     0.025  0.094386  0.046724  0.431118     0.381184\n",
        "22   EO1     0.500  0.098697  0.057500  0.442500     0.401303\n",
        "23   EO1     0.975  0.118816  0.068882  0.453276     0.405614\n",
        "24   IA1     0.025  0.239357  0.088204  0.384583     0.227334\n",
        "25   IA1     0.500  0.258657  0.096996  0.403004     0.241343\n",
        "26   IA1     0.975  0.272666  0.115417  0.411796     0.260643\n",
        "27   IE1     0.025  0.163440  0.106789  0.364765     0.301692\n",
        "28   IE1     0.500  0.169951  0.128206  0.371794     0.330049\n",
        "29   IE1     0.975  0.198308  0.135235  0.393211     0.336560\n",
        "..   ...       ...       ...       ...       ...          ...\n",
        "162  EI4     0.025  0.000000  0.074594  0.398608     0.500000\n",
        "163  EI4     0.500  0.000000  0.086035  0.413965     0.500000\n",
        "164  EI4     0.975  0.000000  0.101392  0.425406     0.500000\n",
        "165  EO4     0.025  0.099808  0.058171  0.415161     0.372897\n",
        "166  EO4     0.500  0.104897  0.068293  0.431707     0.395103\n",
        "167  EO4     0.975  0.127103  0.084839  0.441829     0.400192\n",
        "168  IA4     0.025  0.078842  0.000000  0.500000     0.392757\n",
        "169  IA4     0.500  0.085106  0.000000  0.500000     0.414894\n",
        "170  IA4     0.975  0.107243  0.000000  0.500000     0.421158\n",
        "171  IE4     0.025  0.163440  0.106789  0.364765     0.301692\n",
        "172  IE4     0.500  0.169951  0.128206  0.371794     0.330049\n",
        "173  IE4     0.975  0.198308  0.135235  0.393211     0.336560\n",
        "174  II4     0.025  0.136383  0.034259  0.452016     0.338827\n",
        "175  II4     0.500  0.139093  0.041252  0.458748     0.360907\n",
        "176  II4     0.975  0.161173  0.047984  0.465741     0.363617\n",
        "177  IO4     0.025  0.149594  0.059317  0.423045     0.323762\n",
        "178  IO4     0.500  0.151867  0.070959  0.429041     0.348133\n",
        "179  IO4     0.975  0.176238  0.076955  0.440683     0.350406\n",
        "180  OA4     0.025  0.065133  0.010442  0.481655     0.409687\n",
        "181  OA4     0.500  0.069442  0.014939  0.485061     0.430558\n",
        "182  OA4     0.975  0.090313  0.018345  0.489558     0.434867\n",
        "183  OE4     0.025  0.179092  0.048839  0.430372     0.285477\n",
        "184  OE4     0.500  0.188794  0.057021  0.442979     0.311206\n",
        "185  OE4     0.975  0.214523  0.069628  0.451161     0.320908\n",
        "186  OI4     0.025  0.130167  0.023125  0.463516     0.343270\n",
        "187  OI4     0.500  0.134200  0.030200  0.469800     0.365800\n",
        "188  OI4     0.975  0.156730  0.036484  0.476875     0.369833\n",
        "189  OO4     0.025  0.157222  0.034688  0.449028     0.314390\n",
        "190  OO4     0.500  0.159986  0.041553  0.458447     0.340014\n",
        "191  OO4     0.975  0.185610  0.050972  0.465312     0.342778\n",
        "\n",
        "[192 rows x 6 columns]"
       ]
      }
     ],
     "prompt_number": 99
    },
    {
     "cell_type": "markdown",
     "metadata": {},
     "source": [
      "## OED"
     ]
    },
    {
     "cell_type": "code",
     "collapsed": false,
     "input": [
      "import sys\n",
      "sys.path.append('/Users/mht/Documents/research/oed_py/oed/')\n",
      "\n",
      "import oed\n",
      "import pmf\n",
      "import church\n",
      "\n",
      "import copy\n",
      "import csv\n",
      "\n",
      "import itertools \n",
      "\n",
      "fpath = '/Users/mht/Documents/research/syllogism/models/modeldata/'\n",
      "domains = ['lightbulb','tomatoplant','cracker','strawberry','painting','knife'] \n",
      "priors = ['plausibility','frequency']\n",
      "prior = priors[0]\n",
      "printout = False\n",
      "n_obj = 6\n",
      "fig = 'Full'\n",
      "best_fit_br = '0.50'\n",
      "ndepth = '0'\n",
      "alphq = '1'\n",
      "outfile = 'oed_'+prior+'_depth' + ndepth+'_alpha'+alphq+'iidArgStr_emprArgStr_emprCLonly'"
     ],
     "language": "python",
     "metadata": {},
     "outputs": [],
     "prompt_number": 18
    },
    {
     "cell_type": "code",
     "collapsed": false,
     "input": [
      "f0 = fpath+('LATTICE_4_%s/00/csv/lis_N0_M0_%s%s_qud1fig%s_AIEOc4CAEP1_n%d_base0.00_s100k_alphQ1_alphR1.csv'\\\n",
      "          % (prior,prior,domains[0],fig, n_obj))\n",
      "df = pd.read_csv(f0)\n",
      "experiments = df[\"# syll\"]\n",
      "responses = df.columns.values[5:9]"
     ],
     "language": "python",
     "metadata": {},
     "outputs": [],
     "prompt_number": 19
    },
    {
     "cell_type": "code",
     "collapsed": false,
     "input": [
      "# define church programs\n",
      "# -- models is a PMF of the belief distribution for all the mdoels\n",
      "# -- the first arguments are the filename of each church program\n",
      "# -- the second arguments are the prior belief distribution of each church program (which is uniform in this example)\n",
      "\n",
      "mnames = ['argstr_iid','argstr_empr','clonly_empr']\n",
      "\n",
      "models = pmf.PMF(3)\n",
      "models[0] = pmf.P(mnames[0]+\".church\", 1.0)\n",
      "models[1] = pmf.P(mnames[1]+\".church\", 1.0)\n",
      "models[2] = pmf.P(mnames[2]+\".church\", 1.0)\n",
      "models.normalize()\n",
      "\n",
      "alldata = np.zeros((len(models),\n",
      "                    len(experiments),\n",
      "                    len(responses)*len(domains))) # domains (empirical) vs naive\n",
      "\n",
      "alldata.shape"
     ],
     "language": "python",
     "metadata": {},
     "outputs": [
      {
       "metadata": {},
       "output_type": "pyout",
       "prompt_number": 20,
       "text": [
        "(3, 64, 24)"
       ]
      }
     ],
     "prompt_number": 20
    },
    {
     "cell_type": "code",
     "collapsed": false,
     "input": [
      "# load data into alldata\n",
      "# alldata[0] will be for model 1 ('empirical priors')\n",
      "# alldata[1] will be for model 2 ('naive [best fit, iid] priors')\n",
      "\n",
      "for m, mod in enumerate(mnames):\n",
      "    \n",
      "    for d, dom in enumerate(domains):\n",
      "\n",
      "        if dom is 'naive': \n",
      "           # dom = ''\n",
      "            br = best_fit_br\n",
      "            nsamp = 100\n",
      "        else: \n",
      "            #dom = '_'+dom\n",
      "            br = '0.00'\n",
      "            nsamp = 100\n",
      "\n",
      "        if mod[0:6]=='clonly': \n",
      "            f1 = fpath + ('LATTICE_4_%s/%s0/csv/lis_N%s_M0_CLonly_%s%s_qud1fig%s_AIEOc4CAEP1_n%d_base%s_s%dk.csv'\\\n",
      "                          % (prior,ndepth,ndepth,prior,dom,\\\n",
      "                             fig,n_obj,br,nsamp))\n",
      "        elif mod[-3::]=='iid':\n",
      "            f1 = fpath+('LATTICE_4/00/csv/lis_N0_M0_iidnaive_qud1figFull_AIEOc4CAEP1_n6_base0.50_s100k_alphQ1_alphR1.csv')\n",
      "        else: \n",
      "            f1 = fpath+('LATTICE_4_%s/%s0/csv/lis_N%s_M0_%s%s_qud1fig%s_AIEOc4CAEP1_n%d_base%s_s%dk_alphQ%s_alphR1.csv'\\\n",
      "          % (prior,ndepth,ndepth,prior,dom,fig,n_obj,br,nsamp,alphq))\n",
      "\n",
      "        alldata[m,:,d*4:d*4+4] = pd.read_csv(f1,usecols=responses)\n",
      "\n",
      "# define space of possible outputs\n",
      "# -- output_pmf is a PMF to store the resulting distributions from the church programs\n",
      "# -- the first arguments are the possible output values\n",
      "# -- the second arguments will be overwritten and do not matter\n",
      "output_pmf = pmf.PMF(len(responses)*len(domains))\n",
      "for i, x in enumerate(itertools.product(domains,responses)):\n",
      "    outlabel = x[0]+'_'+x[1]\n",
      "    output_pmf[i] = pmf.P(outlabel, 1.0)\n",
      "\n",
      "output_pmf.normalize() "
     ],
     "language": "python",
     "metadata": {},
     "outputs": [
      {
       "output_type": "stream",
       "stream": "stdout",
       "text": [
        "/Users/mht/Documents/research/syllogism/models/modeldata/LATTICE_4/00/csv/lis_N0_M0_iidnaive_qud1figFull_AIEOc4CAEP1_n6_base0.50_s100k_alphQ1_alphR1.csv\n",
        "/Users/mht/Documents/research/syllogism/models/modeldata/LATTICE_4/00/csv/lis_N0_M0_iidnaive_qud1figFull_AIEOc4CAEP1_n6_base0.50_s100k_alphQ1_alphR1.csv\n",
        "/Users/mht/Documents/research/syllogism/models/modeldata/LATTICE_4/00/csv/lis_N0_M0_iidnaive_qud1figFull_AIEOc4CAEP1_n6_base0.50_s100k_alphQ1_alphR1.csv\n",
        "/Users/mht/Documents/research/syllogism/models/modeldata/LATTICE_4/00/csv/lis_N0_M0_iidnaive_qud1figFull_AIEOc4CAEP1_n6_base0.50_s100k_alphQ1_alphR1.csv\n",
        "/Users/mht/Documents/research/syllogism/models/modeldata/LATTICE_4/00/csv/lis_N0_M0_iidnaive_qud1figFull_AIEOc4CAEP1_n6_base0.50_s100k_alphQ1_alphR1.csv\n",
        "/Users/mht/Documents/research/syllogism/models/modeldata/LATTICE_4/00/csv/lis_N0_M0_iidnaive_qud1figFull_AIEOc4CAEP1_n6_base0.50_s100k_alphQ1_alphR1.csv\n",
        "/Users/mht/Documents/research/syllogism/models/modeldata/LATTICE_4_plausibility/00/csv/lis_N0_M0_plausibilitylightbulb_qud1figFull_AIEOc4CAEP1_n6_base0.00_s100k_alphQ1_alphR1.csv\n",
        "/Users/mht/Documents/research/syllogism/models/modeldata/LATTICE_4_plausibility/00/csv/lis_N0_M0_plausibilitytomatoplant_qud1figFull_AIEOc4CAEP1_n6_base0.00_s100k_alphQ1_alphR1.csv\n",
        "/Users/mht/Documents/research/syllogism/models/modeldata/LATTICE_4_plausibility/00/csv/lis_N0_M0_plausibilitycracker_qud1figFull_AIEOc4CAEP1_n6_base0.00_s100k_alphQ1_alphR1.csv\n",
        "/Users/mht/Documents/research/syllogism/models/modeldata/LATTICE_4_plausibility/00/csv/lis_N0_M0_plausibilitystrawberry_qud1figFull_AIEOc4CAEP1_n6_base0.00_s100k_alphQ1_alphR1.csv\n",
        "/Users/mht/Documents/research/syllogism/models/modeldata/LATTICE_4_plausibility/00/csv/lis_N0_M0_plausibilitypainting_qud1figFull_AIEOc4CAEP1_n6_base0.00_s100k_alphQ1_alphR1.csv\n",
        "/Users/mht/Documents/research/syllogism/models/modeldata/LATTICE_4_plausibility/00/csv/lis_N0_M0_plausibilityknife_qud1figFull_AIEOc4CAEP1_n6_base0.00_s100k_alphQ1_alphR1.csv\n",
        "/Users/mht/Documents/research/syllogism/models/modeldata/LATTICE_4_plausibility/00/csv/lis_N0_M0_CLonly_plausibilitylightbulb_qud1figFull_AIEOc4CAEP1_n6_base0.00_s100k.csv\n",
        "/Users/mht/Documents/research/syllogism/models/modeldata/LATTICE_4_plausibility/00/csv/lis_N0_M0_CLonly_plausibilitytomatoplant_qud1figFull_AIEOc4CAEP1_n6_base0.00_s100k.csv\n",
        "/Users/mht/Documents/research/syllogism/models/modeldata/LATTICE_4_plausibility/00/csv/lis_N0_M0_CLonly_plausibilitycracker_qud1figFull_AIEOc4CAEP1_n6_base0.00_s100k.csv\n",
        "/Users/mht/Documents/research/syllogism/models/modeldata/LATTICE_4_plausibility/00/csv/lis_N0_M0_CLonly_plausibilitystrawberry_qud1figFull_AIEOc4CAEP1_n6_base0.00_s100k.csv\n",
        "/Users/mht/Documents/research/syllogism/models/modeldata/LATTICE_4_plausibility/00/csv/lis_N0_M0_CLonly_plausibilitypainting_qud1figFull_AIEOc4CAEP1_n6_base0.00_s100k.csv\n",
        "/Users/mht/Documents/research/syllogism/models/modeldata/LATTICE_4_plausibility/00/csv/lis_N0_M0_CLonly_plausibilityknife_qud1figFull_AIEOc4CAEP1_n6_base0.00_s100k.csv\n"
       ]
      }
     ],
     "prompt_number": 24
    },
    {
     "cell_type": "code",
     "collapsed": false,
     "input": [
      "print mnames[0],mnames[1],np.corrcoef(np.ravel(alldata[0]),np.ravel(alldata[1]))[1,0]\n",
      "print mnames[0],mnames[2],np.corrcoef(np.ravel(alldata[0]),np.ravel(alldata[2]))[1,0]\n",
      "print mnames[1],mnames[2],np.corrcoef(np.ravel(alldata[1]),np.ravel(alldata[2]))[1,0]"
     ],
     "language": "python",
     "metadata": {},
     "outputs": [
      {
       "output_type": "stream",
       "stream": "stdout",
       "text": [
        "argstr_iid argstr_empr 0.869198690764\n",
        "argstr_iid clonly_empr 0.670270948883\n",
        "argstr_empr clonly_empr 0.789130783446\n"
       ]
      }
     ],
     "prompt_number": 25
    },
    {
     "cell_type": "code",
     "collapsed": false,
     "input": [
      "# generate an array of output_pmfs for each church program\n",
      "outputs = [0]*len(models)\n",
      "for m in range(len(models)) :\n",
      "    outputs[m] = copy.deepcopy(output_pmf)"
     ],
     "language": "python",
     "metadata": {},
     "outputs": [],
     "prompt_number": 26
    },
    {
     "cell_type": "code",
     "collapsed": false,
     "input": [
      "expected_kl = np.zeros((len(experiments)))\n",
      "# iterate over all possible inputs / syllogisms\n",
      "f = open(fpath+outfile+'.txt', 'w')\n",
      "\n",
      "for j,i in enumerate(experiments):\n",
      "\n",
      "    for m in range(len(models)) :\n",
      "        \n",
      "        for k, rsp in enumerate(itertools.product(domains,responses)):\n",
      "            outlabel = rsp[0]+'_'+rsp[1]\n",
      "            outputs[m].pmf[k] = pmf.P(outlabel,alldata[m,j,k])\n",
      "\n",
      "    # using the computed output distribution, compute and print the expected KL-divergence for each input\n",
      "    expected_kl[j] = oed.get_expected_kl(models, outputs)\n",
      "    f.write(i + ' ' + str(expected_kl[j]) + ' ' + str(outputs) + '\\n\\n')\n",
      "    \n",
      "f.close()"
     ],
     "language": "python",
     "metadata": {},
     "outputs": [],
     "prompt_number": 27
    },
    {
     "cell_type": "code",
     "collapsed": false,
     "input": [
      "ekl = np.array([(experiments[i],kl) for i, kl in enumerate(expected_kl)])\n",
      "#    print experiments[i] + '   ' + str(kl)\n",
      "#print ekl\n",
      "ek_sort = ekl[np.argsort(ekl[:,1])]\n",
      "if printout: \n",
      "    f = open('/Users/mht/Documents/research/syllogism/data/03syllogism_prior_psychjs/'+outfile+'_sorted.txt', 'w')\n",
      "    \n",
      "    for k in ek_sort[::-1]:\n",
      "        f.write(k[0] + ' ' + k[1] +'\\n')\n",
      "\n",
      "    f.close()"
     ],
     "language": "python",
     "metadata": {},
     "outputs": [],
     "prompt_number": 28
    },
    {
     "cell_type": "code",
     "collapsed": false,
     "input": [
      "allresp = [a[0]+'.'+a[1] for a in itertools.product(domains,responses)]\n",
      "# organize data into one data frame, wide format\n",
      "model_df = pd.DataFrame(columns=(['# syll','model'] + allresp))\n",
      "for a in range(len(alldata)):\n",
      "    d0 = pd.DataFrame(alldata[a],columns = allresp)\n",
      "    m_cat = pd.concat([experiments, d0],axis=1,ignore_index=False)\n",
      "    m_cat.insert(1,'model',mnames[a])\n",
      "    model_df = pd.concat([model_df,m_cat],axis=0)"
     ],
     "language": "python",
     "metadata": {},
     "outputs": [],
     "prompt_number": 29
    },
    {
     "cell_type": "code",
     "collapsed": false,
     "input": [
      "model_df.to_csv('/Users/mht/Documents/research/syllogism/data/03syllogism_prior_psychjs/3modeldata_'+outfile+'.csv')"
     ],
     "language": "python",
     "metadata": {},
     "outputs": [],
     "prompt_number": 30
    },
    {
     "cell_type": "markdown",
     "metadata": {},
     "source": [
      "# Pragmatics OED"
     ]
    },
    {
     "cell_type": "code",
     "collapsed": false,
     "input": [
      "import sys\n",
      "sys.path.append('/Users/mht/Documents/research/oed_py/oed/')\n",
      "\n",
      "import oed\n",
      "import pmf\n",
      "import church\n",
      "\n",
      "import copy\n",
      "import csv\n",
      "\n",
      "import itertools \n",
      "\n",
      "fpath = '/Users/mht/Documents/research/syllogism/models/modeldata/'\n",
      "#domains = ['lightbulb','tomatoplant','cracker','strawberry','painting','knife'] \n",
      "priors = ['plausibility','frequency']\n",
      "n_objects = [7]\n",
      "alphas = [3]\n",
      "domains = ['lightbulb','cracker','strawberry','knife']\n",
      "prior = priors[1]\n",
      "printout = True\n",
      "n_obj = n_objects[0]\n",
      "fig = 'Full'\n",
      "best_fit_br = '0.50'\n",
      "ndepth = '1'\n",
      "alphq = str(alphas[0])\n",
      "outfile = 'oed_'+prior+'_nobj' + str(n_obj) +'_alpha'+alphq+'emprLit_emprPrag'"
     ],
     "language": "python",
     "metadata": {},
     "outputs": [],
     "prompt_number": 7
    },
    {
     "cell_type": "code",
     "collapsed": false,
     "input": [
      "f0 = fpath+('LATTICE_4_%s/10/csv/lis_N1_M0_%s%s_qud1fig%s_AIEOc4CAEP1_n%d_base0.00_s100k_alphQ3_alphR1_bsmean.csv'\\\n",
      "          % (prior,prior,domains[0],fig, n_obj))\n",
      "df = pd.read_csv(f0)\n",
      "experiments = df[\"# syll\"]\n",
      "responses = df.columns.values[5:9]"
     ],
     "language": "python",
     "metadata": {},
     "outputs": [],
     "prompt_number": 8
    },
    {
     "cell_type": "code",
     "collapsed": false,
     "input": [
      "# define church programs\n",
      "# -- models is a PMF of the belief distribution for all the mdoels\n",
      "# -- the first arguments are the filename of each church program\n",
      "# -- the second arguments are the prior belief distribution of each church program (which is uniform in this example)\n",
      "\n",
      "mnames = ['argstr_empr','prgmtc_empr']\n",
      "\n",
      "models = pmf.PMF(2)\n",
      "models[0] = pmf.P(mnames[0]+\".church\", 1.0)\n",
      "models[1] = pmf.P(mnames[1]+\".church\", 1.0)\n",
      "models.normalize()\n",
      "\n",
      "alldata = np.zeros((len(models),\n",
      "                    len(experiments),\n",
      "                    len(responses)*len(domains))) # domains (empirical) vs naive\n",
      "\n",
      "# load data into alldata\n",
      "# alldata[0] will be for model 1 ('empirical priors')\n",
      "# alldata[1] will be for model 2 ('naive [best fit, iid] priors')\n",
      "\n",
      "for m, mod in enumerate(mnames):\n",
      "    \n",
      "    for d, dom in enumerate(domains):\n",
      "\n",
      "        if dom is 'naive': \n",
      "           # dom = ''\n",
      "            br = best_fit_br\n",
      "            nsamp = 100\n",
      "        else: \n",
      "            #dom = '_'+dom\n",
      "            br = '0.00'\n",
      "            nsamp = 100\n",
      "\n",
      "        if mod[0:6]=='argstr': \n",
      "            f1 = fpath+('LATTICE_4_%s/%s0/csv/lis_N%s_M0_%s%s_qud1fig%s_AIEOc4CAEP1_n%d_base%s_s%dk_alphQ%s_alphR1_bsmean.csv'\\\n",
      "          % (prior,'0','0',prior,dom,fig,n_obj,br,nsamp,'1'))\n",
      "        elif mod[0:6]=='prgmtc':\n",
      "            f1 = fpath+('LATTICE_4_%s/%s0/csv/lis_N%s_M0_%s%s_qud1fig%s_AIEOc4CAEP1_n%d_base%s_s%dk_alphQ%s_alphR1_bsmean.csv'\\\n",
      "          % (prior,ndepth,ndepth,prior,dom,fig,n_obj,br,nsamp,alphq))\n",
      "        else: \n",
      "            f1 = ''\n",
      "\n",
      "        alldata[m,:,d*4:d*4+4] = pd.read_csv(f1,usecols=responses)\n",
      "\n",
      "# define space of possible outputs\n",
      "# -- output_pmf is a PMF to store the resulting distributions from the church programs\n",
      "# -- the first arguments are the possible output values\n",
      "# -- the second arguments will be overwritten and do not matter\n",
      "output_pmf = pmf.PMF(len(responses)*len(domains))\n",
      "for i, x in enumerate(itertools.product(domains,responses)):\n",
      "    outlabel = x[0]+'_'+x[1]\n",
      "    output_pmf[i] = pmf.P(outlabel, 1.0)\n",
      "\n",
      "output_pmf.normalize() "
     ],
     "language": "python",
     "metadata": {},
     "outputs": [],
     "prompt_number": 9
    },
    {
     "cell_type": "code",
     "collapsed": false,
     "input": [
      "print mnames[0],mnames[1],np.corrcoef(np.ravel(alldata[0]),np.ravel(alldata[1]))[1,0]"
     ],
     "language": "python",
     "metadata": {},
     "outputs": [
      {
       "output_type": "stream",
       "stream": "stdout",
       "text": [
        "argstr_empr prgmtc_empr 0.91487073962\n"
       ]
      }
     ],
     "prompt_number": 10
    },
    {
     "cell_type": "code",
     "collapsed": false,
     "input": [
      "# generate an array of output_pmfs for each church program\n",
      "outputs = [0]*len(models)\n",
      "for m in range(len(models)) :\n",
      "    outputs[m] = copy.deepcopy(output_pmf)\n",
      "    \n",
      "expected_kl = np.zeros((len(experiments)))\n",
      "# iterate over all possible inputs / syllogisms\n",
      "f = open(fpath+outfile+'.txt', 'w')\n",
      "\n",
      "for j,i in enumerate(experiments):\n",
      "\n",
      "    for m in range(len(models)) :\n",
      "        \n",
      "        for k, rsp in enumerate(itertools.product(domains,responses)):\n",
      "            outlabel = rsp[0]+'_'+rsp[1]\n",
      "            outputs[m].pmf[k] = pmf.P(outlabel,alldata[m,j,k])\n",
      "\n",
      "    # using the computed output distribution, compute and print the expected KL-divergence for each input\n",
      "    expected_kl[j] = oed.get_expected_kl(models, outputs)\n",
      "    f.write(i + ' ' + str(expected_kl[j]) + ' ' + str(outputs) + '\\n\\n')\n",
      "    \n",
      "f.close()\n",
      "\n",
      "ekl = np.array([(experiments[i],kl) for i, kl in enumerate(expected_kl)])\n",
      "#    print experiments[i] + '   ' + str(kl)\n",
      "#print ekl\n",
      "ek_sort = ekl[np.argsort(ekl[:,1])]\n",
      "if printout: \n",
      "    f = open('/Users/mht/Documents/research/syllogism/data/03syllogism_prior_psychjs/'+outfile+'_sorted.txt', 'w')\n",
      "    \n",
      "    for k in ek_sort[::-1]:\n",
      "        f.write(k[0] + ' ' + k[1] +'\\n')\n",
      "\n",
      "    f.close()"
     ],
     "language": "python",
     "metadata": {},
     "outputs": [],
     "prompt_number": 11
    },
    {
     "cell_type": "code",
     "collapsed": false,
     "input": [
      "allresp = [a[0]+'.'+a[1] for a in itertools.product(domains,responses)]\n",
      "# organize data into one data frame, wide format\n",
      "model_df = pd.DataFrame(columns=(['# syll','model'] + allresp))\n",
      "for a in range(len(alldata)):\n",
      "    d0 = pd.DataFrame(alldata[a],columns = allresp)\n",
      "    m_cat = pd.concat([experiments, d0],axis=1,ignore_index=False)\n",
      "    m_cat.insert(1,'model',mnames[a])\n",
      "    model_df = pd.concat([model_df,m_cat],axis=0)\n",
      "    \n",
      "    \n",
      "model_df.to_csv('/Users/mht/Documents/research/syllogism/data/03syllogism_prior_psychjs/prgmtcOED_'+outfile+'.csv')"
     ],
     "language": "python",
     "metadata": {},
     "outputs": [],
     "prompt_number": 12
    },
    {
     "cell_type": "code",
     "collapsed": false,
     "input": [],
     "language": "python",
     "metadata": {},
     "outputs": []
    }
   ],
   "metadata": {}
  }
 ]
}