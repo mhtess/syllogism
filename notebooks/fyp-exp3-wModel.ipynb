{
 "metadata": {
  "name": "",
  "signature": "sha256:7e5ea77466f4e0ed9ca145e0ce1d2c530ac924404cce2ff65a2d1806b59d0f5b"
 },
 "nbformat": 3,
 "nbformat_minor": 0,
 "worksheets": [
  {
   "cells": [
    {
     "cell_type": "code",
     "collapsed": false,
     "input": [
      "%matplotlib inline\n",
      "import pandas as pd\n",
      "import numpy as np\n",
      "import matplotlib.pyplot as plt\n",
      "import itertools\n",
      "from scikits import bootstrap\n",
      "\n",
      "from scipy import optimize\n",
      "from scipy.special import gammaln\n",
      "\n",
      "from numpy import array, log, exp\n",
      "\n",
      "import sys\n",
      "import os\n",
      "import csv\n",
      "\n",
      "from itertools import izip\n",
      "from ggplot import *"
     ],
     "language": "python",
     "metadata": {},
     "outputs": [],
     "prompt_number": 1
    },
    {
     "cell_type": "code",
     "collapsed": false,
     "input": [
      "os.chdir(\"/Users/mht/Documents/research/syllogism/models\")\n",
      "from syll_model import syllogism_model"
     ],
     "language": "python",
     "metadata": {},
     "outputs": [],
     "prompt_number": 2
    },
    {
     "cell_type": "code",
     "collapsed": false,
     "input": [
      "# Load data sets\n",
      "infile = pd.read_csv(\"/Users/mht/Documents/research/syllogism/data/02syllogism-4ac/syllogism02-4f_conclusions.csv\")"
     ],
     "language": "python",
     "metadata": {},
     "outputs": [],
     "prompt_number": 3
    },
    {
     "cell_type": "code",
     "collapsed": false,
     "input": [
      "domain_key = {3:\"bottle\",13:\"basket\",15:\"cushion\",16:\"microwave\"}\n",
      "\n",
      "def revmapper(to):\n",
      "    for k,v in domain_key.iteritems():\n",
      "      if v == to: return k\n",
      "\n",
      "\n",
      "datatype = 'experiment'\n",
      "expname = '02syllogism-4ac'\n",
      "ctypes = 'AIEO'\n",
      "serv = '0'\n",
      "\n",
      "n_obj, br0 = 4, 0.51\n",
      "ndepth, mdepth = 0, 0\n",
      "alphq0, alphr0 = 3, 1 \n",
      "vc, nvc = 4, 0 \n",
      "EPin = 1\n",
      "fig = 'Full'#'1'\n",
      "lis = 'lis'\n",
      "\n",
      "responses = [\"Asp\",\"Esp\",\"Isp\",\"Osp\"];"
     ],
     "language": "python",
     "metadata": {},
     "outputs": [],
     "prompt_number": 4
    },
    {
     "cell_type": "code",
     "collapsed": false,
     "input": [
      "def lklhd(df_means,md_means,responses):\n",
      "    #compute likelihood\n",
      "    hu_srt = df_means.sort(columns=['syll','domain'])\n",
      "    md_srt = md_means.sort(columns=['syll','domain'])\n",
      "    lkhd = sum(log(np.sum(md_srt[responses]*hu_srt[responses],axis=1)))\n",
      "    return lkhd\n",
      "\n",
      "def crrltn(df_means,md_means):\n",
      "    # correlation\n",
      "    md_melt=pd.melt(md_means,id_vars=[\"syll\",\"domain\"])\n",
      "    hu_melt=pd.melt(df_means,id_vars=[\"syll\",\"domain\"])\n",
      "    df = pd.merge(md_melt,hu_melt,on=[\"syll\",\"domain\",\"variable\"])\n",
      "    corr = df[\"value_x\"].corr(df[\"value_y\"])\n",
      "    return corr"
     ],
     "language": "python",
     "metadata": {},
     "outputs": [],
     "prompt_number": 5
    },
    {
     "cell_type": "heading",
     "level": 3,
     "metadata": {},
     "source": [
      "Descriptive stats on human data"
     ]
    },
    {
     "cell_type": "code",
     "collapsed": false,
     "input": [
      "tme = infile.time[0::4]\n",
      "print \"Mean time to complete study = \" + str(round(np.mean(tme),2)) + \" minutes\"\n",
      "print \"Standard deviation = \" + str(round(np.std(tme),2)) + \" minutes\""
     ],
     "language": "python",
     "metadata": {},
     "outputs": [
      {
       "output_type": "stream",
       "stream": "stdout",
       "text": [
        "Mean time to complete study = 5.52 minutes\n",
        "Standard deviation = 4.47 minutes\n"
       ]
      }
     ],
     "prompt_number": 8
    },
    {
     "cell_type": "code",
     "collapsed": false,
     "input": [
      "infile[[\"time\",\"Asp\",\"Esp\",\"Isp\",\"Osp\",\"N\"]].describe()"
     ],
     "language": "python",
     "metadata": {},
     "outputs": [
      {
       "html": [
        "<div style=\"max-height:1000px;max-width:1500px;overflow:auto;\">\n",
        "<table border=\"1\" class=\"dataframe\">\n",
        "  <thead>\n",
        "    <tr style=\"text-align: right;\">\n",
        "      <th></th>\n",
        "      <th>time</th>\n",
        "      <th>Asp</th>\n",
        "      <th>Esp</th>\n",
        "      <th>Isp</th>\n",
        "      <th>Osp</th>\n",
        "      <th>N</th>\n",
        "    </tr>\n",
        "  </thead>\n",
        "  <tbody>\n",
        "    <tr>\n",
        "      <th>count</th>\n",
        "      <td> 1400.000000</td>\n",
        "      <td> 1400.000000</td>\n",
        "      <td> 1400.000000</td>\n",
        "      <td> 1400.0000</td>\n",
        "      <td> 1400.000000</td>\n",
        "      <td> 1400.000000</td>\n",
        "    </tr>\n",
        "    <tr>\n",
        "      <th>mean</th>\n",
        "      <td>    5.524886</td>\n",
        "      <td>    0.168407</td>\n",
        "      <td>    0.206579</td>\n",
        "      <td>    0.5582</td>\n",
        "      <td>    0.578857</td>\n",
        "      <td>    0.279686</td>\n",
        "    </tr>\n",
        "    <tr>\n",
        "      <th>std</th>\n",
        "      <td>    4.473888</td>\n",
        "      <td>    0.295488</td>\n",
        "      <td>    0.331249</td>\n",
        "      <td>    0.3999</td>\n",
        "      <td>    0.393024</td>\n",
        "      <td>    0.356150</td>\n",
        "    </tr>\n",
        "    <tr>\n",
        "      <th>min</th>\n",
        "      <td>    0.870000</td>\n",
        "      <td>    0.000000</td>\n",
        "      <td>    0.000000</td>\n",
        "      <td>    0.0000</td>\n",
        "      <td>    0.000000</td>\n",
        "      <td>    0.000000</td>\n",
        "    </tr>\n",
        "    <tr>\n",
        "      <th>25%</th>\n",
        "      <td>    2.930000</td>\n",
        "      <td>    0.000000</td>\n",
        "      <td>    0.000000</td>\n",
        "      <td>    0.0475</td>\n",
        "      <td>    0.170000</td>\n",
        "      <td>    0.000000</td>\n",
        "    </tr>\n",
        "    <tr>\n",
        "      <th>50%</th>\n",
        "      <td>    4.170000</td>\n",
        "      <td>    0.000000</td>\n",
        "      <td>    0.000000</td>\n",
        "      <td>    0.5900</td>\n",
        "      <td>    0.640000</td>\n",
        "      <td>    0.070000</td>\n",
        "    </tr>\n",
        "    <tr>\n",
        "      <th>75%</th>\n",
        "      <td>    6.130000</td>\n",
        "      <td>    0.230000</td>\n",
        "      <td>    0.330000</td>\n",
        "      <td>    1.0000</td>\n",
        "      <td>    1.000000</td>\n",
        "      <td>    0.500000</td>\n",
        "    </tr>\n",
        "    <tr>\n",
        "      <th>max</th>\n",
        "      <td>   29.830000</td>\n",
        "      <td>    1.000000</td>\n",
        "      <td>    1.000000</td>\n",
        "      <td>    1.0000</td>\n",
        "      <td>    1.000000</td>\n",
        "      <td>    1.000000</td>\n",
        "    </tr>\n",
        "  </tbody>\n",
        "</table>\n",
        "</div>"
       ],
       "metadata": {},
       "output_type": "pyout",
       "prompt_number": 9,
       "text": [
        "              time          Asp          Esp        Isp          Osp  \\\n",
        "count  1400.000000  1400.000000  1400.000000  1400.0000  1400.000000   \n",
        "mean      5.524886     0.168407     0.206579     0.5582     0.578857   \n",
        "std       4.473888     0.295488     0.331249     0.3999     0.393024   \n",
        "min       0.870000     0.000000     0.000000     0.0000     0.000000   \n",
        "25%       2.930000     0.000000     0.000000     0.0475     0.170000   \n",
        "50%       4.170000     0.000000     0.000000     0.5900     0.640000   \n",
        "75%       6.130000     0.230000     0.330000     1.0000     1.000000   \n",
        "max      29.830000     1.000000     1.000000     1.0000     1.000000   \n",
        "\n",
        "                 N  \n",
        "count  1400.000000  \n",
        "mean      0.279686  \n",
        "std       0.356150  \n",
        "min       0.000000  \n",
        "25%       0.000000  \n",
        "50%       0.070000  \n",
        "75%       0.500000  \n",
        "max       1.000000  "
       ]
      }
     ],
     "prompt_number": 9
    },
    {
     "cell_type": "code",
     "collapsed": false,
     "input": [
      "hist, edges = np.histogram(tme, bins=30)"
     ],
     "language": "python",
     "metadata": {},
     "outputs": [],
     "prompt_number": 10
    },
    {
     "cell_type": "code",
     "collapsed": false,
     "input": [
      "ggplot(aes(x='time'),data=infile[0::4])+\\\n",
      "    geom_histogram(binwidth= 0.5) +\\\n",
      "    ggtitle(\"distribution of time to complete study\")+\\\n",
      "    xlab(\"time in minutes\")+\\\n",
      "    ylab(\"number of subjects\")"
     ],
     "language": "python",
     "metadata": {},
     "outputs": [
      {
       "output_type": "stream",
       "stream": "stderr",
       "text": [
        "/Users/mht/anaconda/lib/python2.7/site-packages/pandas/util/decorators.py:53: FutureWarning: rows is deprecated, use index instead\n",
        "  warnings.warn(msg, FutureWarning)\n"
       ]
      },
      {
       "metadata": {},
       "output_type": "display_data",
       "png": "[encoded data removed]",
       "text": [
        "<matplotlib.figure.Figure at 0x109239250>"
       ]
      },
      {
       "metadata": {},
       "output_type": "pyout",
       "prompt_number": 11,
       "text": [
        "<ggplot: (272057081)>"
       ]
      }
     ],
     "prompt_number": 11
    },
    {
     "cell_type": "heading",
     "level": 3,
     "metadata": {},
     "source": [
      "Human data: means, for all syllogisms X domains"
     ]
    },
    {
     "cell_type": "code",
     "collapsed": false,
     "input": [
      "infile.syll = infile.syll.str.replace('4','1'); # actually figure 1 aristotelian syllogisms\n",
      "syllogisms = pd.Series(infile.syll).unique(); syllogisms.sort()\n",
      "domains = pd.Series(infile.matId).unique(); domains.sort()"
     ],
     "language": "python",
     "metadata": {},
     "outputs": [],
     "prompt_number": 12
    },
    {
     "cell_type": "code",
     "collapsed": false,
     "input": [
      "# New df for the means\n",
      "df_means = pd.DataFrame(columns=(['syll','domain'] + responses))\n",
      "\n",
      "for i, (s,d) in enumerate(itertools.product(syllogisms,domains)): # Loop syllogism X domain\n",
      "\n",
      "    df0 = infile[(infile.matId==d) & (infile.syll==s)][responses] # Subset df by responses\n",
      "    normed_means = df0.div(df0.sum(axis=1),axis=0).apply(np.mean) # Normalize each syll, take means\n",
      "    df_means.loc[i] = pd.Series([s,d],[\"syll\",\"domain\"]).append(normed_means) # Load normed means"
     ],
     "language": "python",
     "metadata": {},
     "outputs": [],
     "prompt_number": 13
    },
    {
     "cell_type": "code",
     "collapsed": false,
     "input": [
      "df_means.head()\n",
      "ok = pd.melt(df_means,id_vars=['syll','domain'])\n",
      "subst = ok[ok[\"syll\"]==\"AI1\"]\n",
      "ggplot(subst,aes(x='variable',y='value',fill='domain',width=1)) + \\\n",
      "    geom_bar(stat='identity',position='dodge')"
     ],
     "language": "python",
     "metadata": {},
     "outputs": [
      {
       "metadata": {},
       "output_type": "display_data",
       "png": "[encoded data removed]",
       "text": [
        "<matplotlib.figure.Figure at 0x103784bd0>"
       ]
      },
      {
       "metadata": {},
       "output_type": "pyout",
       "prompt_number": 14,
       "text": [
        "<ggplot: (272070893)>"
       ]
      }
     ],
     "prompt_number": 14
    },
    {
     "cell_type": "heading",
     "level": 5,
     "metadata": {},
     "source": [
      "This can be used with pd.apply to compute the bootstrapped 95% CIs. (to write)"
     ]
    },
    {
     "cell_type": "code",
     "collapsed": false,
     "input": [
      "def bci(x):\n",
      "    a = bootstrap.ci(x)\n",
      "    return a[0], a[1]\n",
      "\n",
      "#df0.div(df0.sum(axis=1),axis=0).apply(bci)\n",
      "\n",
      "# what to do about rows with all 0s?"
     ],
     "language": "python",
     "metadata": {},
     "outputs": [],
     "prompt_number": 15
    },
    {
     "cell_type": "code",
     "collapsed": false,
     "input": [
      "df_means.head()"
     ],
     "language": "python",
     "metadata": {},
     "outputs": [
      {
       "html": [
        "<div style=\"max-height:1000px;max-width:1500px;overflow:auto;\">\n",
        "<table border=\"1\" class=\"dataframe\">\n",
        "  <thead>\n",
        "    <tr style=\"text-align: right;\">\n",
        "      <th></th>\n",
        "      <th>syll</th>\n",
        "      <th>domain</th>\n",
        "      <th>Asp</th>\n",
        "      <th>Esp</th>\n",
        "      <th>Isp</th>\n",
        "      <th>Osp</th>\n",
        "    </tr>\n",
        "  </thead>\n",
        "  <tbody>\n",
        "    <tr>\n",
        "      <th>0</th>\n",
        "      <td> AA1</td>\n",
        "      <td>  3</td>\n",
        "      <td>  0.5289436</td>\n",
        "      <td> 0.06709707</td>\n",
        "      <td> 0.2932995</td>\n",
        "      <td>  0.1106598</td>\n",
        "    </tr>\n",
        "    <tr>\n",
        "      <th>1</th>\n",
        "      <td> AA1</td>\n",
        "      <td> 13</td>\n",
        "      <td>  0.5314902</td>\n",
        "      <td> 0.05029193</td>\n",
        "      <td> 0.3501104</td>\n",
        "      <td> 0.06810753</td>\n",
        "    </tr>\n",
        "    <tr>\n",
        "      <th>2</th>\n",
        "      <td> AA1</td>\n",
        "      <td> 15</td>\n",
        "      <td>  0.6951511</td>\n",
        "      <td> 0.01117767</td>\n",
        "      <td>  0.224169</td>\n",
        "      <td>  0.0695022</td>\n",
        "    </tr>\n",
        "    <tr>\n",
        "      <th>3</th>\n",
        "      <td> AA1</td>\n",
        "      <td> 16</td>\n",
        "      <td>  0.5778519</td>\n",
        "      <td> 0.05016691</td>\n",
        "      <td> 0.3124849</td>\n",
        "      <td>  0.0594963</td>\n",
        "    </tr>\n",
        "    <tr>\n",
        "      <th>4</th>\n",
        "      <td> AE1</td>\n",
        "      <td>  3</td>\n",
        "      <td> 0.01335512</td>\n",
        "      <td>   0.477304</td>\n",
        "      <td>   0.11271</td>\n",
        "      <td>  0.3966309</td>\n",
        "    </tr>\n",
        "  </tbody>\n",
        "</table>\n",
        "</div>"
       ],
       "metadata": {},
       "output_type": "pyout",
       "prompt_number": 16,
       "text": [
        "  syll domain         Asp         Esp        Isp         Osp\n",
        "0  AA1      3   0.5289436  0.06709707  0.2932995   0.1106598\n",
        "1  AA1     13   0.5314902  0.05029193  0.3501104  0.06810753\n",
        "2  AA1     15   0.6951511  0.01117767   0.224169   0.0695022\n",
        "3  AA1     16   0.5778519  0.05016691  0.3124849   0.0594963\n",
        "4  AE1      3  0.01335512    0.477304    0.11271   0.3966309"
       ]
      }
     ],
     "prompt_number": 16
    },
    {
     "cell_type": "heading",
     "level": 1,
     "metadata": {},
     "source": [
      "Models"
     ]
    },
    {
     "cell_type": "code",
     "collapsed": false,
     "input": [
      "def prep_mods(m,responses,d): # function to organize data from input file, inserting domain number\n",
      "    m1=m[[\"# syll\"]+responses]\n",
      "    new_cols= m1.columns.values;\n",
      "    new_cols[0]=\"syll\";\n",
      "    m1.columns = new_cols\n",
      "    modified = m1[m1[\"syll\"].str.contains(\"1\")] # select figure 1 sylls only\n",
      "    modified.insert(1,\"domain\",d) # insert domain number column\n",
      "    return modified"
     ],
     "language": "python",
     "metadata": {},
     "outputs": [],
     "prompt_number": 17
    },
    {
     "cell_type": "code",
     "collapsed": false,
     "input": [
      "def run_model(n_obj,br,ndepth,mdepth,alphq,alphr):\n",
      "    syllorder, model_data = syllogism_model(n_obj,br,ndepth,mdepth,alphq,alphr,\\\n",
      "                                            serv,nvc,vc,'CA',ctypes,fig,lis,EPin,'naive')\n",
      "    \n",
      "#     md = pd.DataFrame(data=model_data,columns=[\"a\",\"e\",\"i\",\"o\",\"Asp\",\"Esp\",\"Isp\",\"Osp\",\"N\"])\n",
      "    \n",
      "#     # duplicate model predictions 4 times (4 domains), with different domain numbers\n",
      "#     md_means = pd.DataFrame(columns=(['syll','domain'] + responses)) # set up model data frame\n",
      "#     md0 = md[md.columns[(md != 0).any()]] # Take only columns with predictions (e.g. 4 response vs. 8)\n",
      "#     md0.insert(0,\"syll\",syllorder) # insert sylls\n",
      "#     for i,d in enumerate(domains):\n",
      "#         md1 = md0.copy() # intialize df\n",
      "#         md1.insert(0,\"domain\",d) #insert domain number\n",
      "#         md_means = pd.concat([md_means,md1],ignore_index=True) # add to large model data frame\n",
      "        \n",
      "#     #compute likelihood\n",
      "#     hu_srt = df_means.sort(columns=['syll','domain'])\n",
      "#     md_srt = md_means.sort(columns=['syll','domain'])\n",
      "#     lkhd = sum(log(np.sum(md_srt[responses]*hu_srt[responses],axis=1)))\n",
      "    \n",
      "#     # correlation\n",
      "#     md_melt=pd.melt(md_means,id_vars=[\"syll\",\"domain\"])\n",
      "#     hu_melt=pd.melt(df_means,id_vars=[\"syll\",\"domain\"])\n",
      "#     df = pd.merge(md_melt,hu_melt,on=[\"syll\",\"domain\",\"variable\"])\n",
      "#     corr = df[\"value_x\"].corr(df[\"value_y\"])\n",
      "#     return corr"
     ],
     "language": "python",
     "metadata": {},
     "outputs": [],
     "prompt_number": 6
    },
    {
     "cell_type": "code",
     "collapsed": false,
     "input": [
      "run_model(6,0.25,0,0,1,1)"
     ],
     "language": "python",
     "metadata": {},
     "outputs": [
      {
       "output_type": "stream",
       "stream": "stdout",
       "text": [
        "sampling and featurizing... br=0.25\n",
        "6 = n balls"
       ]
      },
      {
       "output_type": "stream",
       "stream": "stdout",
       "text": [
        "\n",
        "listening, reasoning, speaking... alpha1\n",
        "listening, reasoning, speaking... alpha0"
       ]
      },
      {
       "output_type": "stream",
       "stream": "stdout",
       "text": [
        "\n"
       ]
      }
     ],
     "prompt_number": 7
    },
    {
     "cell_type": "heading",
     "level": 3,
     "metadata": {},
     "source": [
      "Naive priors model"
     ]
    },
    {
     "cell_type": "code",
     "collapsed": false,
     "input": [
      "def syll_optimize(z):\n",
      "    \n",
      "    if (ndepth=='1'): #if interpretation model, optimize alpha for interpretation + br\n",
      "        br, alphq = z\n",
      "        alphr = alphr0\n",
      "    elif (mdepth=='1'): #if production model, optimize alpha for production + br\n",
      "        br, alphr = z\n",
      "        alphq = alphq0\n",
      "    else:\n",
      "        br = z\n",
      "        alphq = 1\n",
      "        alphr = 1\n",
      "        \n",
      "#    br, n_obj = z\n",
      "    print br\n",
      "\n",
      "    syllorder, model_data = syllogism_model(n_obj,br,ndepth,mdepth,alphq,alphr,\\\n",
      "                                            serv,nvc,vc,'CA',ctypes,fig,lis,EPin,'naive')\n",
      "    \n",
      "    md = pd.DataFrame(data=model_data,columns=[\"a\",\"e\",\"i\",\"o\",\"Asp\",\"Esp\",\"Isp\",\"Osp\",\"N\"])\n",
      "    \n",
      "    # duplicate model predictions 4 times (4 domains), with different domain numbers\n",
      "    md_means = pd.DataFrame(columns=(['syll','domain'] + responses)) # set up model data frame\n",
      "    md0 = md[md.columns[(md != 0).any()]] # Take only columns with predictions (e.g. 4 response vs. 8)\n",
      "    md0.insert(0,\"syll\",syllorder) # insert sylls\n",
      "    for i,d in enumerate(domains):\n",
      "        md1 = md0.copy() # intialize df\n",
      "        md1.insert(0,\"domain\",d) #insert domain number\n",
      "        md_means = pd.concat([md_means,md1],ignore_index=True) # add to large model data frame\n",
      "        \n",
      "    #compute likelihood\n",
      "    hu_srt = df_means.sort(columns=['syll','domain'])\n",
      "    md_srt = md_means.sort(columns=['syll','domain'])\n",
      "    lkhd = sum(log(np.sum(md_srt[responses]*hu_srt[responses],axis=1)))\n",
      "    \n",
      "    # correlation\n",
      "    md_melt=pd.melt(md_means,id_vars=[\"syll\",\"domain\"])\n",
      "    hu_melt=pd.melt(df_means,id_vars=[\"syll\",\"domain\"])\n",
      "    df = pd.merge(md_melt,hu_melt,on=[\"syll\",\"domain\",\"variable\"])\n",
      "    corr = df[\"value_x\"].corr(df[\"value_y\"])\n",
      "    print corr\n",
      "    return -corr"
     ],
     "language": "python",
     "metadata": {},
     "outputs": [],
     "prompt_number": 90
    },
    {
     "cell_type": "code",
     "collapsed": false,
     "input": [
      "if (ndepth=='1'): #if interpretation model, optimize alpha for interpretation + br\n",
      "    print 'intepretation'\n",
      "    x0 = np.array([br0,alphq0])\n",
      "elif (mdepth=='1'): #if production model, optimize alpha for production + br\n",
      "    x0 = np.array([br0,alphr0])\n",
      "    print 'production'\n",
      "else:\n",
      "    x0 = np.array([br0])\n",
      "    rranges = np.arange(0.05, 0.45, 0.05)\n",
      "    print 'literal'\n",
      "\n",
      "\n",
      "\n",
      "#bnds = (0,1)\n",
      "#resNM = optimize.minimize_scalar(syll_optimize,x0, method='Broyden2',bounds=bnds)\n",
      "\n",
      "def constr1(x):\n",
      "    return x\n",
      "\n",
      "def constr2(x):\n",
      "    return 1-x\n",
      "\n",
      "def constr3(x):\n",
      "    return int(isinstance( x[1], ( int, long ) )) - 1\n",
      "\n",
      "#x0 = np.array([br0,n_obj0])\n",
      "\n",
      "optimize.fmin_cobyla(syll_optimize, x0, [constr1, constr2],rhobeg=0.01)\n",
      "\n",
      "#resNM = optimize.brute(syll_optimize,rranges, full_output=True)\n",
      "#for brz in np.arange(0.15,0.45,0.05):\n",
      "    #syll_optimize([brz,alphq0])\n",
      "#    syll_optimize(brz)"
     ],
     "language": "python",
     "metadata": {},
     "outputs": [
      {
       "output_type": "stream",
       "stream": "stdout",
       "text": [
        "literal\n",
        "[ 0.45]\n",
        "sampling and featurizing... br=0.45\n",
        "8 = n balls"
       ]
      },
      {
       "output_type": "stream",
       "stream": "stdout",
       "text": [
        "\n",
        "listening, reasoning, speaking... alpha1\n",
        "listening, reasoning, speaking... alpha0"
       ]
      },
      {
       "output_type": "stream",
       "stream": "stdout",
       "text": [
        "\n",
        "0.788979913603"
       ]
      },
      {
       "output_type": "stream",
       "stream": "stdout",
       "text": [
        "\n",
        "[ 0.46]\n",
        "sampling and featurizing... br=0.46\n",
        "8 = n balls"
       ]
      },
      {
       "output_type": "stream",
       "stream": "stdout",
       "text": [
        "\n",
        "listening, reasoning, speaking... alpha1\n",
        "listening, reasoning, speaking... alpha0"
       ]
      },
      {
       "output_type": "stream",
       "stream": "stdout",
       "text": [
        "\n",
        "0.791463351823"
       ]
      },
      {
       "output_type": "stream",
       "stream": "stdout",
       "text": [
        "\n",
        "[ 0.47]\n",
        "sampling and featurizing... br=0.47\n",
        "8 = n balls"
       ]
      },
      {
       "output_type": "stream",
       "stream": "stdout",
       "text": [
        "\n",
        "listening, reasoning, speaking... alpha1\n",
        "listening, reasoning, speaking... alpha0"
       ]
      },
      {
       "output_type": "stream",
       "stream": "stdout",
       "text": [
        "\n",
        "0.78842051536"
       ]
      },
      {
       "output_type": "stream",
       "stream": "stdout",
       "text": [
        "\n",
        "[ 0.465]\n",
        "listening, reasoning, speaking... alpha1\n",
        "0.78842051536"
       ]
      },
      {
       "output_type": "stream",
       "stream": "stdout",
       "text": [
        "\n",
        "[ 0.4575]\n",
        "listening, reasoning, speaking... alpha1\n",
        "0.791463351823"
       ]
      },
      {
       "output_type": "stream",
       "stream": "stdout",
       "text": [
        "\n",
        "[ 0.4596875]\n",
        "listening, reasoning, speaking... alpha1\n",
        "0.791463351823"
       ]
      },
      {
       "output_type": "stream",
       "stream": "stdout",
       "text": [
        "\n",
        "[ 0.45995]\n",
        "listening, reasoning, speaking... alpha1\n",
        "0.791463351823"
       ]
      },
      {
       "output_type": "stream",
       "stream": "stdout",
       "text": [
        "\n"
       ]
      },
      {
       "metadata": {},
       "output_type": "pyout",
       "prompt_number": 107,
       "text": [
        "array([ 0.46])"
       ]
      }
     ],
     "prompt_number": 107
    },
    {
     "cell_type": "heading",
     "level": 2,
     "metadata": {},
     "source": [
      "Empirical priors models"
     ]
    },
    {
     "cell_type": "code",
     "collapsed": false,
     "input": [
      "def syll_optim_empirical(z,n_obj):\n",
      "    \n",
      "    if ndepth is 1: #if interpretation model, optimize alpha for interpretation + br\n",
      "        alphq = z\n",
      "        alphr = alphr0\n",
      "    elif mdepth is 1: #if production model, optimize alpha for production + br\n",
      "        alphr = z\n",
      "        alphq = alphq0\n",
      "    else:\n",
      "        alphq = 1\n",
      "        alphr = 1\n",
      "\n",
      "    br = 0\n",
      "    print n_obj\n",
      "    #domains = ['bottle','basket', 'cushion', 'microwave']\n",
      "    #domains = ['belief','unbelief']\n",
      "    domains = ['margprev']#,'prevent']\n",
      "    domains = ['allblf','nalblf']\n",
      "    md_means = pd.DataFrame(columns=(['syll','domain'] + responses)) # set up model data frame\n",
      "    print alphq\n",
      "    print ndepth\n",
      "    \n",
      "    for dom in domains:\n",
      "\n",
      "        syllorder, model_data = syllogism_model(n_obj,br,ndepth,mdepth,alphq,alphr,\\\n",
      "                                            serv,nvc,vc,'CA',ctypes,fig,lis,EPin,dom)\n",
      "\n",
      "        md = pd.DataFrame(data=model_data,columns=[\"a\",\"e\",\"i\",\"o\",\"Asp\",\"Esp\",\"Isp\",\"Osp\",\"N\"])\n",
      "        md0 = md[md.columns[(md != 0).any()]] # Take only columns with predictions (e.g. 4 response vs. 8)\n",
      "        md0.insert(0,\"syll\",syllorder) # insert sylls\n",
      "        md0.insert(1,\"domain\",revmapper(dom))\n",
      "        md_means = pd.concat([md_means,md0],ignore_index=True)\n",
      "\n",
      " #   lkhd = lklhd(df_means,md_means,responses)    #compute likelihood\n",
      "\n",
      " #   corr = crrltn(df_means,md_means) # correlation\n",
      "\n",
      " #   print corr\n",
      " #   return -corr"
     ],
     "language": "python",
     "metadata": {},
     "outputs": [],
     "prompt_number": 6
    },
    {
     "cell_type": "code",
     "collapsed": false,
     "input": [
      "for n_obj in np.arange(6,10,1):\n",
      "    syll_optim_empirical(1,n_obj)"
     ],
     "language": "python",
     "metadata": {},
     "outputs": [
      {
       "output_type": "stream",
       "stream": "stdout",
       "text": [
        "6\n",
        "1\n",
        "0\n",
        "sampling and featurizing 6 allblfs\n",
        "6 = n balls"
       ]
      },
      {
       "output_type": "stream",
       "stream": "stdout",
       "text": [
        "\n",
        "listening, reasoning, speaking... alpha1\n",
        "listening, reasoning, speaking... alpha0"
       ]
      },
      {
       "output_type": "stream",
       "stream": "stdout",
       "text": [
        "\n",
        "sampling and featurizing 6 nalblfs"
       ]
      },
      {
       "output_type": "stream",
       "stream": "stdout",
       "text": [
        "\n",
        "6 = n balls"
       ]
      },
      {
       "output_type": "stream",
       "stream": "stdout",
       "text": [
        "\n",
        "listening, reasoning, speaking... alpha1\n",
        "listening, reasoning, speaking... alpha0"
       ]
      },
      {
       "output_type": "stream",
       "stream": "stdout",
       "text": [
        "\n",
        "7"
       ]
      },
      {
       "output_type": "stream",
       "stream": "stdout",
       "text": [
        "\n",
        "1\n",
        "0\n",
        "sampling and featurizing 7 allblfs\n",
        "7 = n balls"
       ]
      },
      {
       "output_type": "stream",
       "stream": "stdout",
       "text": [
        "\n",
        "listening, reasoning, speaking... alpha1\n",
        "listening, reasoning, speaking... alpha0"
       ]
      },
      {
       "output_type": "stream",
       "stream": "stdout",
       "text": [
        "\n",
        "sampling and featurizing 7 nalblfs"
       ]
      },
      {
       "output_type": "stream",
       "stream": "stdout",
       "text": [
        "\n",
        "7 = n balls"
       ]
      },
      {
       "output_type": "stream",
       "stream": "stdout",
       "text": [
        "\n",
        "listening, reasoning, speaking... alpha1\n",
        "listening, reasoning, speaking... alpha0"
       ]
      },
      {
       "output_type": "stream",
       "stream": "stdout",
       "text": [
        "\n",
        "8"
       ]
      },
      {
       "output_type": "stream",
       "stream": "stdout",
       "text": [
        "\n",
        "1\n",
        "0\n",
        "sampling and featurizing 8 allblfs\n",
        "8 = n balls"
       ]
      },
      {
       "output_type": "stream",
       "stream": "stdout",
       "text": [
        "\n",
        "listening, reasoning, speaking... alpha1\n",
        "listening, reasoning, speaking... alpha0"
       ]
      },
      {
       "output_type": "stream",
       "stream": "stdout",
       "text": [
        "\n",
        "sampling and featurizing 8 nalblfs"
       ]
      },
      {
       "output_type": "stream",
       "stream": "stdout",
       "text": [
        "\n",
        "8 = n balls"
       ]
      },
      {
       "output_type": "stream",
       "stream": "stdout",
       "text": [
        "\n",
        "listening, reasoning, speaking... alpha1\n",
        "listening, reasoning, speaking... alpha0"
       ]
      },
      {
       "output_type": "stream",
       "stream": "stdout",
       "text": [
        "\n",
        "9"
       ]
      },
      {
       "output_type": "stream",
       "stream": "stdout",
       "text": [
        "\n",
        "1\n",
        "0\n",
        "sampling and featurizing 9 allblfs\n",
        "9 = n balls"
       ]
      },
      {
       "output_type": "stream",
       "stream": "stdout",
       "text": [
        "\n",
        "listening, reasoning, speaking... alpha1\n",
        "listening, reasoning, speaking... alpha0"
       ]
      },
      {
       "output_type": "stream",
       "stream": "stdout",
       "text": [
        "\n",
        "sampling and featurizing 9 nalblfs"
       ]
      },
      {
       "output_type": "stream",
       "stream": "stdout",
       "text": [
        "\n",
        "9 = n balls"
       ]
      },
      {
       "output_type": "stream",
       "stream": "stdout",
       "text": [
        "\n",
        "listening, reasoning, speaking... alpha1\n",
        "listening, reasoning, speaking... alpha0"
       ]
      },
      {
       "output_type": "stream",
       "stream": "stdout",
       "text": [
        "\n"
       ]
      }
     ],
     "prompt_number": 7
    },
    {
     "cell_type": "code",
     "collapsed": false,
     "input": [
      "%debug"
     ],
     "language": "python",
     "metadata": {},
     "outputs": [
      {
       "output_type": "stream",
       "stream": "stdout",
       "text": [
        "> \u001b[0;32m/Users/mht/anaconda/lib/python2.7/site-packages/numpy/core/shape_base.py\u001b[0m(277)\u001b[0;36mhstack\u001b[0;34m()\u001b[0m\n",
        "\u001b[0;32m    275 \u001b[0;31m        \u001b[0;32mreturn\u001b[0m \u001b[0m_nx\u001b[0m\u001b[0;34m.\u001b[0m\u001b[0mconcatenate\u001b[0m\u001b[0;34m(\u001b[0m\u001b[0marrs\u001b[0m\u001b[0;34m,\u001b[0m \u001b[0;36m0\u001b[0m\u001b[0;34m)\u001b[0m\u001b[0;34m\u001b[0m\u001b[0m\n",
        "\u001b[0m\u001b[0;32m    276 \u001b[0;31m    \u001b[0;32melse\u001b[0m\u001b[0;34m:\u001b[0m\u001b[0;34m\u001b[0m\u001b[0m\n",
        "\u001b[0m\u001b[0;32m--> 277 \u001b[0;31m        \u001b[0;32mreturn\u001b[0m \u001b[0m_nx\u001b[0m\u001b[0;34m.\u001b[0m\u001b[0mconcatenate\u001b[0m\u001b[0;34m(\u001b[0m\u001b[0marrs\u001b[0m\u001b[0;34m,\u001b[0m \u001b[0;36m1\u001b[0m\u001b[0;34m)\u001b[0m\u001b[0;34m\u001b[0m\u001b[0m\n",
        "\u001b[0m\n"
       ]
      },
      {
       "name": "stdout",
       "output_type": "stream",
       "stream": "stdout",
       "text": [
        "ipdb> q\n"
       ]
      }
     ],
     "prompt_number": 8
    },
    {
     "cell_type": "code",
     "collapsed": false,
     "input": [
      "syllorder, model_data = syllogism_model(12,br,ndepth,mdepth,alphq,alphr,\\\n",
      "                                    serv,nvc,vc,'CA',ctypes,fig,lis,EPin,dom)"
     ],
     "language": "python",
     "metadata": {},
     "outputs": [
      {
       "output_type": "stream",
       "stream": "stdout",
       "text": [
        "sampling and featurizing 12 microwaves\n",
        "12 = n balls"
       ]
      },
      {
       "output_type": "stream",
       "stream": "stdout",
       "text": [
        "\n",
        "listening, reasoning, speaking... alpha1\n",
        "listening, reasoning, speaking... alpha0"
       ]
      },
      {
       "output_type": "stream",
       "stream": "stdout",
       "text": [
        "\n"
       ]
      }
     ],
     "prompt_number": 45
    },
    {
     "cell_type": "heading",
     "level": 1,
     "metadata": {},
     "source": [
      "------"
     ]
    },
    {
     "cell_type": "code",
     "collapsed": false,
     "input": [],
     "language": "python",
     "metadata": {},
     "outputs": []
    }
   ],
   "metadata": {}
  }
 ]
}