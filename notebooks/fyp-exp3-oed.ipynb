{
 "metadata": {
  "name": "",
  "signature": "sha256:498f4f296d68ec805a040e7588f85b8716df2248c65d39d259def76679341e1b"
 },
 "nbformat": 3,
 "nbformat_minor": 0,
 "worksheets": [
  {
   "cells": [
    {
     "cell_type": "code",
     "collapsed": false,
     "input": [
      "%matplotlib inline\n",
      "\n",
      "import sys\n",
      "sys.path.append('/Users/mht/Documents/research/oed_py/oed/')\n",
      "\n",
      "import oed\n",
      "import pmf\n",
      "import church\n",
      "\n",
      "import copy\n",
      "import csv\n",
      "\n",
      "import os\n",
      "import numpy as np\n",
      "import pandas as pd\n",
      "import itertools\n",
      "from ggplot import *"
     ],
     "language": "python",
     "metadata": {},
     "outputs": [],
     "prompt_number": 1
    },
    {
     "cell_type": "code",
     "collapsed": false,
     "input": [
      "fpath = '/Users/mht/Documents/research/syllogism/models/modeldata/'\n",
      "domains = ['bottle','basket','cushion','microwave']\n",
      "domains = ['belief','unbelief']\n",
      "domains = ['margprev','prevent']\n",
      "domains = ['allblf','nalblf']\n",
      "domains = ['causal','iid']\n",
      "prior = 'CC_EE_ec'\n",
      "#allpriors = ['MC_EE_ec','MC_EE_cc','MC_EP_ec', \\\n",
      "#             'MC_EP_cc','MC_PP_ec','MC_PP_cc', \\\n",
      "#            'CC_EE_ec','CC_EE_ee','CC_EP_ec', \\\n",
      "#             'CC_EP_ee','CC_PP_ec','CC_PP_ee']\n",
      "printout = True\n",
      "n_obj = 6\n",
      "fig = 'Full'\n",
      "best_fit_br = '0.50'\n",
      "ndepth = '1'\n",
      "alphq = '3'\n",
      "outfile = 'oed_'+prior+'_depth' + ndepth+'iidArgStr_causalArgStr_causalCLonly'\n"
     ],
     "language": "python",
     "metadata": {},
     "outputs": [],
     "prompt_number": 11
    },
    {
     "cell_type": "code",
     "collapsed": false,
     "input": [
      "f0 = fpath+('LATTICE_4_%s/00/csv/lis_N0_M0_%s%s_qud1fig%s_AIEOc4CAEP1_n%d_base0.00_s100k_alphQ1_alphR1.csv'\\\n",
      "          % (domains[0],domains[0],'CC_EE_ec',fig, n_obj))\n",
      "df = pd.read_csv(f0)\n",
      "experiments = df[\"# syll\"]\n",
      "responses = df.columns.values[5:9]"
     ],
     "language": "python",
     "metadata": {},
     "outputs": [],
     "prompt_number": 7
    },
    {
     "cell_type": "markdown",
     "metadata": {},
     "source": [
      "---\n",
      "###For disambiguating models with different priors"
     ]
    },
    {
     "cell_type": "raw",
     "metadata": {},
     "source": [
      "# define church programs\n",
      "# -- models is a PMF of the belief distribution for all the mdoels\n",
      "# -- the first arguments are the filename of each church program\n",
      "# -- the second arguments are the prior belief distribution of each church program (which is uniform in this example)\n",
      "models = pmf.PMF(4)\n",
      "models[0] = pmf.P(\"basket.church\", 1.0)\n",
      "models[1] = pmf.P(\"bottle.church\", 1.0)\n",
      "models[2] = pmf.P(\"cushion.church\", 1.0)\n",
      "models[3] = pmf.P(\"microwave.church\", 1.0)\n",
      "models.normalize()\n",
      "\n",
      "alldata = np.zeros((len(models),len(experiments),len(responses))) # between domains\n",
      "\n",
      "for i, dom in enumerate(domains):\n",
      "    f1 = fpath+('LATTICE_4_%s/00/csv/lis_N0_M0_qud1fig%s_AIEOc4CAEP1_n%d_base0.00_s100k_alphQ1_alphR1.csv'\\\n",
      "          % (dom,fig, n_obj))\n",
      "    alldata[i] = pd.read_csv(f1,usecols=responses)\n",
      "\n",
      "# define space of possible outputs\n",
      "# -- output_pmf is a PMF to store the resulting distributions from the church programs\n",
      "# -- the first arguments are the possible output values\n",
      "# -- the second arguments will be overwritten and do not matter\n",
      "output_pmf = pmf.PMF(4)\n",
      "output_pmf[ 0] = pmf.P('Asp', 1.0)\n",
      "output_pmf[ 1] = pmf.P('Esp', 1.0)\n",
      "output_pmf[ 2] = pmf.P('Isp', 1.0)\n",
      "output_pmf[ 3] = pmf.P('Osp', 1.0)\n",
      "output_pmf.normalize() "
     ]
    },
    {
     "cell_type": "markdown",
     "metadata": {},
     "source": [
      "---\n",
      "###For disambiguiating *empirical prior* models with *naive (single) prior* model\n",
      "\n",
      "*Two things are confounded here: independent priors, and priors that vary across domains. The empirical priors have priors that vary across domains, and that are non-independent (i.e. for a given prior, the properties are non-independnt). As it's written here, the naive priors model is going to be same across domains and it's going have independent properties.*"
     ]
    },
    {
     "cell_type": "raw",
     "metadata": {},
     "source": [
      "# define church programs\n",
      "# -- models is a PMF of the belief distribution for all the mdoels\n",
      "# -- the first arguments are the filename of each church program\n",
      "# -- the second arguments are the prior belief distribution of each church program (which is uniform in this example)\n",
      "\n",
      "mnames = ['empirical','naive']\n",
      "\n",
      "models = pmf.PMF(2)\n",
      "models[0] = pmf.P(mnames[0]+\".church\", 1.0)\n",
      "models[1] = pmf.P(mnames[1]+\".church\", 1.0)\n",
      "models.normalize()\n",
      "\n",
      "alldata = np.zeros((len(models),\n",
      "                    len(experiments),\n",
      "                    len(responses)*len(domains))) # domains (empirical) vs naive\n",
      "\n",
      "# load data into alldata\n",
      "# alldata[0] will be for model 1 ('empirical priors')\n",
      "# alldata[1] will be for model 2 ('naive [best fit, iid] priors')\n",
      "\n",
      "for m, mod in enumerate(mnames):\n",
      "    \n",
      "    for d, dom in enumerate(domains):\n",
      "\n",
      "        if mod is 'naive': \n",
      "            dom = ''\n",
      "            br = best_fit_br\n",
      "        else: \n",
      "            dom = '_'+dom\n",
      "            br = '0.00'\n",
      "\n",
      "        f1 = fpath+('LATTICE_4%s/00/csv/lis_N0_M0_qud1fig%s_AIEOc4CAEP1_n%d_base%s_s100k_alphQ1_alphR1.csv'\\\n",
      "          % (dom,fig,n_obj,br))\n",
      "        \n",
      "        alldata[m,:,d*4:d*4+4] = pd.read_csv(f1,usecols=responses)\n",
      "\n",
      "# define space of possible outputs\n",
      "# -- output_pmf is a PMF to store the resulting distributions from the church programs\n",
      "# -- the first arguments are the possible output values\n",
      "# -- the second arguments will be overwritten and do not matter\n",
      "output_pmf = pmf.PMF(len(responses)*len(domains))\n",
      "for i, x in enumerate(itertools.product(domains,responses)):\n",
      "    outlabel = x[0]+'_'+x[1]\n",
      "    output_pmf[i] = pmf.P(outlabel, 1.0)\n",
      "\n",
      "output_pmf.normalize() "
     ]
    },
    {
     "cell_type": "markdown",
     "metadata": {},
     "source": [
      "---\n",
      "###For disambiguiating *conclusion-only* model from *argument-strength* model."
     ]
    },
    {
     "cell_type": "raw",
     "metadata": {},
     "source": [
      "# define church programs\n",
      "# -- models is a PMF of the belief distribution for all the mdoels\n",
      "# -- the first arguments are the filename of each church program\n",
      "# -- the second arguments are the prior belief distribution of each church program (which is uniform in this example)\n",
      "\n",
      "mnames = ['argstr','clonly']\n",
      "domains = ['belief']\n",
      "\n",
      "models = pmf.PMF(2)\n",
      "models[0] = pmf.P(mnames[0]+\".church\", 1.0)\n",
      "models[1] = pmf.P(mnames[1]+\".church\", 1.0)\n",
      "models.normalize()\n",
      "\n",
      "alldata = np.zeros((len(models),\n",
      "                    len(experiments),\n",
      "                    len(responses)*len(domains))) # domains (empirical) vs naive\n",
      "\n",
      "# load data into alldata\n",
      "# alldata[0] will be for model 1 ('empirical priors')\n",
      "# alldata[1] will be for model 2 ('naive [best fit, iid] priors')\n",
      "\n",
      "for m, mod in enumerate(mnames):\n",
      "    \n",
      "    for d, dom in enumerate(domains):\n",
      "\n",
      "        if dom is not 'naive':\n",
      "            dom = '_'+dom\n",
      "            br = '0.00'\n",
      "        if mod is 'clonly': \n",
      "            f1 = fpath + ('LATTICE_4%s/00/csv/lis_N0_M0_Conly_qud1fig%s_AIEOc4CAEP1_n%d_base%s_s100k.csv'\\\n",
      "                          % (dom,fig,n_obj,br))\n",
      "        else: \n",
      "            f1 = fpath+('LATTICE_4%s/00/csv/lis_N0_M0_qud1fig%s_AIEOc4CAEP1_n%d_base%s_s100k_alphQ1_alphR1.csv'\\\n",
      "          % (dom,fig,n_obj,br))\n",
      "        \n",
      "        alldata[m,:,d*4:d*4+4] = pd.read_csv(f1,usecols=responses)\n",
      "\n",
      "# define space of possible outputs\n",
      "# -- output_pmf is a PMF to store the resulting distributions from the church programs\n",
      "# -- the first arguments are the possible output values\n",
      "# -- the second arguments will be overwritten and do not matter\n",
      "output_pmf = pmf.PMF(len(responses)*len(domains))\n",
      "for i, x in enumerate(itertools.product(domains,responses)):\n",
      "    outlabel = x[0]+'_'+x[1]\n",
      "    output_pmf[i] = pmf.P(outlabel, 1.0)\n",
      "\n",
      "output_pmf.normalize() "
     ]
    },
    {
     "cell_type": "markdown",
     "metadata": {},
     "source": [
      "---\n",
      "###For disambiguiating Belief *conclusion-only*, Belief *argument-strength* model, and Naive *argument-strength*\n",
      "\n",
      "This is important because we want to simulatenously say \n",
      "\n",
      "1. people are doing reasoning (conclusion-only vs argument-strength), and \n",
      "\n",
      "2. people are sensitive to the base rates (belief argument-strength vs. naive argument-strength)\n",
      "\n",
      "As a first pass, we're considering the posterior distribution over the 4 conclusions as the response. We may want to look at single conclusions, for instance <code>(map reasoner1 conclusions)</code>, treating each premise-conclusion pair as an experiment."
     ]
    },
    {
     "cell_type": "code",
     "collapsed": false,
     "input": [
      "# define church programs\n",
      "# -- models is a PMF of the belief distribution for all the mdoels\n",
      "# -- the first arguments are the filename of each church program\n",
      "# -- the second arguments are the prior belief distribution of each church program (which is uniform in this example)\n",
      "\n",
      "mnames = ['argstr_iid','argstr_causal','clonly_causal']\n",
      "\n",
      "domains = ['iid','causal','causal']\n",
      "\n",
      "models = pmf.PMF(3)\n",
      "models[0] = pmf.P(mnames[0]+\".church\", 1.0)\n",
      "models[1] = pmf.P(mnames[1]+\".church\", 1.0)\n",
      "models[2] = pmf.P(mnames[2]+\".church\", 1.0)\n",
      "models.normalize()\n",
      "\n",
      "alldata = np.zeros((len(models),\n",
      "                    len(experiments),\n",
      "                    len(responses))) # domains (empirical) vs naive\n",
      "\n",
      "# load data into alldata\n",
      "# alldata[0] will be for model 1 ('empirical priors')\n",
      "# alldata[1] will be for model 2 ('naive [best fit, iid] priors')\n",
      "\n",
      "for m, mod in enumerate(mnames):\n",
      "    \n",
      "    dom = domains[m]\n",
      "\n",
      "    if dom is 'naive': \n",
      "        dom = ''\n",
      "        br = best_fit_br\n",
      "        nsamp = 100\n",
      "    else: \n",
      "        dom = '_'+dom\n",
      "        br = '0.00'\n",
      "        nsamp = 100\n",
      "            \n",
      "    if mod[0:6]=='clonly': \n",
      "        f1 = fpath + ('LATTICE_4%s/%s0/csv/lis_N%s_M0_CLonly%s%s_qud1fig%s_AIEOc4CAEP1_n%d_base%s_s%dk.csv'\\\n",
      "                      % (dom,ndepth,ndepth,dom,prior,\\\n",
      "                         fig,n_obj,br,nsamp))\n",
      "    else: \n",
      "        f1 = fpath+('LATTICE_4%s/%s0/csv/lis_N%s_M0%s%s_qud1fig%s_AIEOc4CAEP1_n%d_base%s_s%dk_alphQ%s_alphR1.csv'\\\n",
      "      % (dom,ndepth,ndepth,dom,prior,fig,n_obj,br,nsamp,alphq))\n",
      "\n",
      "    alldata[m,:] = pd.read_csv(f1,usecols=responses)\n",
      "\n",
      "# define space of possible outputs\n",
      "# -- output_pmf is a PMF to store the resulting distributions from the church programs\n",
      "# -- the first arguments are the possible output values\n",
      "# -- the second arguments will be overwritten and do not matter\n",
      "output_pmf = pmf.PMF(len(responses))\n",
      "for i, x in enumerate(responses):\n",
      "    outlabel = x\n",
      "    output_pmf[i] = pmf.P(outlabel, 1.0)\n",
      "\n",
      "output_pmf.normalize() "
     ],
     "language": "python",
     "metadata": {},
     "outputs": [],
     "prompt_number": 8
    },
    {
     "cell_type": "markdown",
     "metadata": {},
     "source": [
      "---\n",
      "How correlated are the two or three models?"
     ]
    },
    {
     "cell_type": "code",
     "collapsed": false,
     "input": [
      "print mnames[0],mnames[1],np.corrcoef(np.ravel(alldata[0]),np.ravel(alldata[1]))[1,0]\n",
      "print mnames[0],mnames[2],np.corrcoef(np.ravel(alldata[0]),np.ravel(alldata[2]))[1,0]\n",
      "print mnames[1],mnames[2],np.corrcoef(np.ravel(alldata[1]),np.ravel(alldata[2]))[1,0]"
     ],
     "language": "python",
     "metadata": {},
     "outputs": [
      {
       "output_type": "stream",
       "stream": "stdout",
       "text": [
        "argstr_iid argstr_causal -0.0529113628987\n",
        "argstr_iid clonly_causal -0.40338155867\n",
        "argstr_causal clonly_causal 0.672236662426\n"
       ]
      }
     ],
     "prompt_number": 9
    },
    {
     "cell_type": "code",
     "collapsed": false,
     "input": [
      "# generate an array of output_pmfs for each church program\n",
      "outputs = [0]*len(models)\n",
      "for m in range(len(models)) :\n",
      "    outputs[m] = copy.deepcopy(output_pmf)"
     ],
     "language": "python",
     "metadata": {},
     "outputs": [],
     "prompt_number": 10
    },
    {
     "cell_type": "markdown",
     "metadata": {},
     "source": [
      "Use this expected_kl rendition where **each \"model\" is predictions for a single model**."
     ]
    },
    {
     "cell_type": "code",
     "collapsed": false,
     "input": [
      "expected_kl = np.zeros((len(experiments)))\n",
      "# iterate over all possible inputs / syllogisms\n",
      "if printout:\n",
      "    f = open('/Users/mht/Documents/research/syllogism/data/03belief_tests/'+outfile+'.txt', 'w')\n",
      "\n",
      "for j,i in enumerate(experiments):\n",
      "\n",
      "    for m in range(len(models)) :\n",
      "        \n",
      "        for k, rsp in enumerate(responses):\n",
      "            outlabel = rsp\n",
      "            outputs[m].pmf[k] = pmf.P(outlabel,alldata[m,j,k])\n",
      "\n",
      "    # using the computed output distribution, compute and print the expected KL-divergence for each input\n",
      "    expected_kl[j] = oed.get_expected_kl(models, outputs)\n",
      "    if printout:\n",
      "        f.write(i + ' ' + str(expected_kl[j]) + ' ' + str(outputs) + '\\n\\n')\n",
      "    \n",
      "if printout:\n",
      "    f.close()"
     ],
     "language": "python",
     "metadata": {},
     "outputs": [],
     "prompt_number": 12
    },
    {
     "cell_type": "markdown",
     "metadata": {},
     "source": [
      "Use this expected_kl rendition where **each \"model\" is in fact multiple models** (e.g. to distinguish a model makes predictions based on the same priors as vs. one that makes different predictions for different prios)"
     ]
    },
    {
     "cell_type": "raw",
     "metadata": {},
     "source": [
      "expected_kl = np.zeros((len(experiments)))\n",
      "# iterate over all possible inputs / syllogisms\n",
      "f = open(fpath+outfile+'.txt', 'w')\n",
      "\n",
      "for j,i in enumerate(experiments):\n",
      "\n",
      "    for m in range(len(models)) :\n",
      "        \n",
      "        for k, rsp in enumerate(itertools.product(domains,responses)):\n",
      "            outlabel = rsp[0]+'_'+rsp[1]\n",
      "            outputs[m].pmf[k] = pmf.P(outlabel,alldata[m,j,k])\n",
      "\n",
      "    # using the computed output distribution, compute and print the expected KL-divergence for each input\n",
      "    expected_kl[j] = oed.get_expected_kl(models, outputs)\n",
      "    f.write(i + ' ' + str(expected_kl[j]) + ' ' + str(outputs) + '\\n\\n')\n",
      "    \n",
      "f.close()\n"
     ]
    },
    {
     "cell_type": "code",
     "collapsed": false,
     "input": [
      "ekl = np.array([(experiments[i],kl) for i, kl in enumerate(expected_kl)])\n",
      "#    print experiments[i] + '   ' + str(kl)\n",
      "#print ekl\n",
      "ek_sort = ekl[np.argsort(ekl[:,1])]\n",
      "if printout: \n",
      "    f = open('/Users/mht/Documents/research/syllogism/data/03belief_tests/'+outfile+'_sorted.txt', 'w')\n",
      "    \n",
      "    for k in ek_sort[::-1]:\n",
      "        f.write(k[0] + ' ' + k[1] +'\\n')\n",
      "\n",
      "    f.close()"
     ],
     "language": "python",
     "metadata": {},
     "outputs": [],
     "prompt_number": 13
    },
    {
     "cell_type": "code",
     "collapsed": false,
     "input": [
      "print ek_sort[::-1]"
     ],
     "language": "python",
     "metadata": {},
     "outputs": [
      {
       "output_type": "stream",
       "stream": "stdout",
       "text": [
        "[['OA1' '0.50846737602']\n",
        " ['EA2' '0.49655904261']\n",
        " ['AE2' '0.49655904261']\n",
        " ['OA2' '0.495406110909']\n",
        " ['AE4' '0.487236781721']\n",
        " ['EA1' '0.4865332954']\n",
        " ['AO4' '0.460289876199']\n",
        " ['AO2' '0.417809513761']\n",
        " ['EI4' '0.411857913443']\n",
        " ['EI1' '0.406860873428']\n",
        " ['AO3' '0.405555863312']\n",
        " ['EA4' '0.404947475733']\n",
        " ['OI3' '0.400892072708']\n",
        " ['EI3' '0.393875241777']\n",
        " ['EI2' '0.39025232169']\n",
        " ['EA3' '0.388737204027']\n",
        " ['OI1' '0.388041237306']\n",
        " ['OA3' '0.378340032718']\n",
        " ['OI4' '0.368188199923']\n",
        " ['IO3' '0.362994964633']\n",
        " ['OI2' '0.358646788059']\n",
        " ['OO3' '0.358433406544']\n",
        " ['OA4' '0.357490354056']\n",
        " ['IE2' '0.355628344']\n",
        " ['IE1' '0.352184501837']\n",
        " ['EO3' '0.343033233907']\n",
        " ['AE1' '0.339835929245']\n",
        " ['IE4' '0.330866348054']\n",
        " ['OE1' '0.324586204567']\n",
        " ['IO4' '0.324574163546']\n",
        " ['EE1' '0.318916762201']\n",
        " ['IE3' '0.314105661402']\n",
        " ['EO1' '0.312766164326']\n",
        " ['IO1' '0.312644476921']\n",
        " ['EO4' '0.309785171239']\n",
        " ['AE3' '0.304699748254']\n",
        " ['OO1' '0.304276942641']\n",
        " ['IO2' '0.29971539253']\n",
        " ['AO1' '0.298067011969']\n",
        " ['OO4' '0.29695701746']\n",
        " ['EO2' '0.293350504644']\n",
        " ['EE3' '0.292448794197']\n",
        " ['OE3' '0.292101517646']\n",
        " ['OO2' '0.29137659234']\n",
        " ['OE2' '0.288264129203']\n",
        " ['EE2' '0.286401617753']\n",
        " ['OE4' '0.249241988759']\n",
        " ['EE4' '0.248611659888']\n",
        " ['AI2' '0.174952738639']\n",
        " ['II1' '0.149916770152']\n",
        " ['AI4' '0.14505188892']\n",
        " ['II2' '0.122109057585']\n",
        " ['II3' '0.112163213083']\n",
        " ['IA1' '0.0992635830658']\n",
        " ['AA2' '0.0932934306158']\n",
        " ['AI1' '0.0870211986164']\n",
        " ['AA1' '0.0865083535927']\n",
        " ['II4' '0.0775799256943']\n",
        " ['IA2' '0.073272576504']\n",
        " ['AA4' '0.0690296933414']\n",
        " ['IA3' '0.0543329836034']\n",
        " ['AI3' '0.0389030582015']\n",
        " ['AA3' '0.0379488056924']\n",
        " ['IA4' '0.0376223405888']]\n"
       ]
      }
     ],
     "prompt_number": 14
    },
    {
     "cell_type": "heading",
     "level": 1,
     "metadata": {},
     "source": [
      "Plot some data"
     ]
    },
    {
     "cell_type": "code",
     "collapsed": false,
     "input": [
      "# organize data into one data frame, wide format\n",
      "model_df = pd.DataFrame(columns=(['# syll','model'] + [\"Asp\",\"Esp\",\"Isp\",\"Osp\"]))\n",
      "for a in range(len(alldata)):\n",
      "    d0 = pd.DataFrame(alldata[a],columns = [\"Asp\",\"Esp\",\"Isp\",\"Osp\"])\n",
      "    m_cat = pd.concat([experiments, d0],axis=1,ignore_index=False)\n",
      "    m_cat.insert(1,'model',mnames[a])\n",
      "    model_df = pd.concat([model_df,m_cat],axis=0)"
     ],
     "language": "python",
     "metadata": {},
     "outputs": [],
     "prompt_number": 15
    },
    {
     "cell_type": "code",
     "collapsed": false,
     "input": [
      "m_pred = pd.melt(model_df,id_vars = ['# syll','model'], value_name='posterior',var_name='conclusion')"
     ],
     "language": "python",
     "metadata": {},
     "outputs": [],
     "prompt_number": 16
    },
    {
     "cell_type": "code",
     "collapsed": false,
     "input": [
      "model_df.to_csv('/Users/mht/Documents/research/syllogism/data/03belief_tests/alldata_'+outfile+'.csv')"
     ],
     "language": "python",
     "metadata": {},
     "outputs": [],
     "prompt_number": 17
    },
    {
     "cell_type": "code",
     "collapsed": false,
     "input": [
      "top_exp = ek_sort[::-1][12:24,0]\n",
      "print top_exp"
     ],
     "language": "python",
     "metadata": {},
     "outputs": [
      {
       "output_type": "stream",
       "stream": "stdout",
       "text": [
        "['OE1' 'OE3' 'IE1' 'IE2' 'IE4' 'IE3' 'AO4' 'EE2' 'EE1' 'EE3' 'EE4' 'OE2']\n"
       ]
      }
     ],
     "prompt_number": 162
    },
    {
     "cell_type": "code",
     "collapsed": false,
     "input": [
      "ggplot(m_pred[m_pred[\"# syll\"].isin(top_exp)], \\\n",
      "       aes(x='conclusion',y='posterior',fill='model',width=0.5))+ \\\n",
      "geom_bar(stat='identity',position='position_dodge(width=2)',color='black')+ \\\n",
      "facet_wrap('# syll')"
     ],
     "language": "python",
     "metadata": {},
     "outputs": [
      {
       "metadata": {},
       "output_type": "display_data",
       "png": "[encoded data removed]",
       "text": [
        "<matplotlib.figure.Figure at 0x1159310d0>"
       ]
      },
      {
       "metadata": {},
       "output_type": "pyout",
       "prompt_number": 155,
       "text": [
        "<ggplot: (291058173)>"
       ]
      }
     ],
     "prompt_number": 155
    },
    {
     "cell_type": "code",
     "collapsed": false,
     "input": [
      "model_df[model_df[\"# syll\"].isin(['AA4'])]"
     ],
     "language": "python",
     "metadata": {},
     "outputs": [
      {
       "html": [
        "<div style=\"max-height:1000px;max-width:1500px;overflow:auto;\">\n",
        "<table border=\"1\" class=\"dataframe\">\n",
        "  <thead>\n",
        "    <tr style=\"text-align: right;\">\n",
        "      <th></th>\n",
        "      <th># syll</th>\n",
        "      <th>model</th>\n",
        "      <th>Asp</th>\n",
        "      <th>Esp</th>\n",
        "      <th>Isp</th>\n",
        "      <th>Osp</th>\n",
        "    </tr>\n",
        "  </thead>\n",
        "  <tbody>\n",
        "    <tr>\n",
        "      <th>48</th>\n",
        "      <td> AA4</td>\n",
        "      <td> argstr_belief</td>\n",
        "      <td> 0.385638</td>\n",
        "      <td> 0.00000</td>\n",
        "      <td> 0.50000</td>\n",
        "      <td> 0.114362</td>\n",
        "    </tr>\n",
        "    <tr>\n",
        "      <th>48</th>\n",
        "      <td> AA4</td>\n",
        "      <td>  argstr_naive</td>\n",
        "      <td> 0.002890</td>\n",
        "      <td> 0.00000</td>\n",
        "      <td> 0.50000</td>\n",
        "      <td> 0.497110</td>\n",
        "    </tr>\n",
        "    <tr>\n",
        "      <th>48</th>\n",
        "      <td> AA4</td>\n",
        "      <td> clonly_belief</td>\n",
        "      <td> 0.400430</td>\n",
        "      <td> 0.02934</td>\n",
        "      <td> 0.47066</td>\n",
        "      <td> 0.099570</td>\n",
        "    </tr>\n",
        "  </tbody>\n",
        "</table>\n",
        "</div>"
       ],
       "metadata": {},
       "output_type": "pyout",
       "prompt_number": 149,
       "text": [
        "   # syll          model       Asp      Esp      Isp       Osp\n",
        "48    AA4  argstr_belief  0.385638  0.00000  0.50000  0.114362\n",
        "48    AA4   argstr_naive  0.002890  0.00000  0.50000  0.497110\n",
        "48    AA4  clonly_belief  0.400430  0.02934  0.47066  0.099570"
       ]
      }
     ],
     "prompt_number": 149
    },
    {
     "cell_type": "code",
     "collapsed": false,
     "input": [],
     "language": "python",
     "metadata": {},
     "outputs": []
    }
   ],
   "metadata": {}
  }
 ]
}