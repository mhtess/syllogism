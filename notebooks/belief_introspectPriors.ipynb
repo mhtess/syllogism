{
 "metadata": {
  "name": "",
  "signature": "sha256:67b0546a02518631e1f07de221a834ef33ce5c9c590bdb6035a24482cad2bf2e"
 },
 "nbformat": 3,
 "nbformat_minor": 0,
 "worksheets": [
  {
   "cells": [
    {
     "cell_type": "markdown",
     "metadata": {},
     "source": [
      "From recent belief bias literature (Dube, 2010; Klauer 2000), the proxy for belief is taken to be inclusion relationships. A <strong>believable</strong> conclusion is one in which the correct inclusion relationship holds (e.g. <em>some birds are not robbins</em>); an <strong>unbelieveable</strong> conclusions is the opposite. \n",
      "\n",
      "The way the man behind the curtain gets away with this is by using an unknown middle term... typically an esoteric word, e.g. <em>hamerkop</em>. \n",
      "\n",
      "This leaves us with the situation that the subject has strong prior beliefs about how two of the terms in the syllogism relate. The subject likely doesn't have strong beliefs about how the esoteric middle term relates to the other terms."
     ]
    },
    {
     "cell_type": "markdown",
     "metadata": {},
     "source": [
      "In a probabilistic model, the generative process is clear. Let's assume **A** is a subcategory and **C** is the category (**A** = robbins, **C** = birds) and **B** is the esoteric middle term.\n",
      "\n",
      "We know, \n",
      "\n",
      "$\\Pr(C\\mid A) = 1$\n",
      "\n",
      "$\\Pr(A\\mid C) > 0$\n",
      "\n",
      "$\\Pr(A\\mid \\overline{C}) = 0$\n",
      "\n",
      "$\\Pr(B\\mid A) = \\Pr(B)$\n",
      "\n",
      "$\\Pr(B\\mid C) = \\Pr(B)$\n",
      "\n",
      "Let's start by generating a *C* (a bird), according to some probablity $\\gamma$.\n",
      "\n",
      "If we have a bird, the probability of being a robbin is non-zero: $\\alpha$\n",
      "\n",
      "If we don't have a bird, the probability of being a robbin is 0.\n",
      "\n",
      "If we don't have a bird, the probability of being a not-a-robbin is non-zero: $\\delta$.\n",
      "\n",
      "\n",
      "The probability of generating a *B* is independent of whether or not it is an A or C: $\\beta$"
     ]
    },
    {
     "cell_type": "markdown",
     "metadata": {},
     "source": [
      "Let's consider now all the eight possibilities of properties, and some reasonable probabilities associated with each:\n",
      "\n",
      "\n",
      "\n",
      "* $\\overline{A}, \\overline{B}, \\overline{C} = (1-\\gamma)*\\delta*(1-\\beta)$\n",
      "\n",
      "* $A, \\overline{B}, \\overline{C} = 0$\n",
      "* $\\overline{A}, B, \\overline{C} = (1-\\gamma)*\\delta*\\beta$\n",
      "* $\\overline{A}, \\overline{B}, C = \\gamma*(1-\\alpha)*(1-\\beta)$\n",
      "\n",
      "* $A, B, \\overline{C} = 0$\n",
      "* $A, \\overline{B}, C = \\gamma*\\alpha*(1-\\beta)$\n",
      "* $\\overline{A}, B, C = \\gamma*(1-\\alpha)*\\beta$\n",
      "\n",
      "* $A, B, C = \\gamma*\\alpha*\\beta$\n"
     ]
    },
    {
     "cell_type": "code",
     "collapsed": false,
     "input": [
      "import matplotlib.pyplot as plt\n",
      "%matplotlib inline\n",
      "import numpy as np\n",
      "import pandas as pd\n",
      "from scipy.optimize import minimize\n",
      "import os\n",
      "import sys"
     ],
     "language": "python",
     "metadata": {},
     "outputs": [],
     "prompt_number": 4
    },
    {
     "cell_type": "code",
     "collapsed": false,
     "input": [
      "a = 0.3 # P(bird)\n",
      "b = 0.3 # P(metazoan)\n",
      "c = 0.3 # P(robbin | bird)\n",
      "z = 0.001 # P(robbin|~bird)"
     ],
     "language": "python",
     "metadata": {},
     "outputs": [],
     "prompt_number": 5
    },
    {
     "cell_type": "raw",
     "metadata": {},
     "source": [
      "For example---\n",
      "if bird (a):\n",
      "    c = 0.3 C\n",
      "else:\n",
      "    c = 0.001 Z"
     ]
    },
    {
     "cell_type": "code",
     "collapsed": false,
     "input": [
      "f000 = (1-a)*(1-b)*(1-z)\n",
      "f100 = a*(1-b)*(1-c)\n",
      "f010 = (1-a)*b*(1-z)\n",
      "f001 = (1-a)*(1-b)*z\n",
      "f110 = a*b*(1-c)\n",
      "f101 = a*(1-b)*c\n",
      "f011 = (1-a)*b*z\n",
      "f111 = a*b*c"
     ],
     "language": "python",
     "metadata": {},
     "outputs": [],
     "prompt_number": 61
    },
    {
     "cell_type": "heading",
     "level": 1,
     "metadata": {},
     "source": [
      "Multiple cause priors"
     ]
    },
    {
     "cell_type": "markdown",
     "metadata": {},
     "source": [
      "Let's consider: **C** is an effect and **A** is a cause (**C** = \"high GPA\", **A** = \"likes to study\") and **B** is a secondary causal term (**B** = \"easy classes\").\n",
      "\n",
      "Let's start by generating a *A* (a student who likes to study), according to some probablity $\\alpha$.\n",
      "\n",
      "and a *B* (a student who is in an easy school district, e.g.), according to some probablity $\\beta$.\n",
      "\n",
      "Then, in various combinations, they lead to C."
     ]
    },
    {
     "cell_type": "raw",
     "metadata": {},
     "source": [
      "For example---\n",
      "if a:\n",
      "    if b:\n",
      "        c = 0.9 C\n",
      "    else:\n",
      "        c = 0.7 X\n",
      "else:\n",
      "    if b:\n",
      "        c = 0.7 Y\n",
      "    else\n",
      "        c = 0.2 Z"
     ]
    },
    {
     "cell_type": "code",
     "collapsed": false,
     "input": [
      "# enabling, effect-cause conclusion\n",
      "# a = 0.4\n",
      "# b = 0.4\n",
      "# c = 0.9\n",
      "# x = 0.7\n",
      "# y = 0.7\n",
      "# z = 0.2\n",
      "# preventing, effect-cause conclusion\n",
      "# a = 0.4\n",
      "# b = 0.4\n",
      "# c = 0.05\n",
      "# x = 0.15\n",
      "# y = 0.15\n",
      "# z = 0.6\n",
      "# mixed, effect-cause conclusion\n",
      "a = 0.4\n",
      "b = 0.4\n",
      "c = 0.4\n",
      "x = 0.9\n",
      "y = 0.1\n",
      "z = 0.4\n",
      "# effect-cause conclusion \n",
      "f000 = (1-a)*(1-b)*(1-z)\n",
      "f100 = a*(1-b)*(1-x)\n",
      "f010 = (1-a)*b*(1-y)\n",
      "f001 = (1-a)*(1-b)*z\n",
      "f110 = a*b*(1-c)\n",
      "f101 = a*(1-b)*x\n",
      "f011 = (1-a)*b*y\n",
      "f111 = a*b*c"
     ],
     "language": "python",
     "metadata": {},
     "outputs": [],
     "prompt_number": 100
    },
    {
     "cell_type": "code",
     "collapsed": false,
     "input": [
      "# enabling, cause-cause conclusion\n",
      "# a = 0.4\n",
      "# c = 0.4\n",
      "# b = 0.9\n",
      "# x = 0.7\n",
      "# y = 0.7\n",
      "# z = 0.2\n",
      "# preventing, cause-cause conclusion\n",
      "a = 0.4\n",
      "c = 0.4\n",
      "b = 0.05\n",
      "x = 0.15\n",
      "y = 0.15\n",
      "z = 0.6\n",
      "# mixed, cause-cause conclusion\n",
      "# a = 0.4\n",
      "# c = 0.4\n",
      "# b = 0.4\n",
      "# x = 0.9\n",
      "# y = 0.1\n",
      "# z = 0.4\n",
      "# cause-cause conclusion \n",
      "f000 = (1-a)*(1-z)*(1-c)\n",
      "f100 = a*(1-x)*(1-c)\n",
      "f010 = (1-a)*z*(1-c)\n",
      "f001 = (1-a)*(1-y)*c\n",
      "f110 = a*x*(1-c)\n",
      "f101 = a*(1-b)*c\n",
      "f011 = (1-a)*y*c\n",
      "f111 = a*b*c"
     ],
     "language": "python",
     "metadata": {},
     "outputs": [],
     "prompt_number": 190
    },
    {
     "cell_type": "heading",
     "level": 1,
     "metadata": {},
     "source": [
      "Common cause priors"
     ]
    },
    {
     "cell_type": "markdown",
     "metadata": {},
     "source": [
      "Let's consider: **C** is an effect and **A** is a cause (**C** = \"wore shoes in bed last night\", **A** = \"was drunk\") and **B** is a secondary effect term (**B** = \"has a headache\").\n",
      "\n",
      "Let's start by generating a *A* (a drunk person), according to some probablity $\\alpha$.\n",
      "\n",
      "For example---\n",
      "<code>\n",
      "if a:\n",
      "    b = 0.7 B\n",
      "    c = 0.7 C\n",
      "else:\n",
      "    b = 0.1 X\n",
      "    c = 0.1 Y\n",
      "</code>\n",
      "\n",
      "Concrete example. A = Company is pouring chemicals into the river. B = Leaves falling off trees. C = Fish dying."
     ]
    },
    {
     "cell_type": "code",
     "collapsed": false,
     "input": [
      "# # enabling, effect-cause conclusion\n",
      "# a = 0.4\n",
      "# b = 0.7\n",
      "# c = 0.7\n",
      "# x = 0.1\n",
      "# y = 0.1\n",
      "# preventing, effect-cause conclusion\n",
      "# a = 0.4\n",
      "# b = 0.1\n",
      "# c = 0.1\n",
      "# x = 0.7\n",
      "# y = 0.7\n",
      "# mixed, effect-cause conclusion\n",
      "# a = 0.4\n",
      "# b = 0.7\n",
      "# c = 0.1\n",
      "# x = 0.1\n",
      "# y = 0.7\n",
      "# effect-cause conclusion \n",
      "f000 = (1-a)*(1-x)*(1-y)\n",
      "f100 = a*(1-b)*(1-c)\n",
      "f010 = (1-a)*x*(1-y)\n",
      "f001 = (1-a)*(1-x)*y\n",
      "f110 = a*b*(1-c)\n",
      "f101 = a*(1-b)*c\n",
      "f011 = (1-a)*x*y\n",
      "f111 = a*b*c\n"
     ],
     "language": "python",
     "metadata": {},
     "outputs": [],
     "prompt_number": 129
    },
    {
     "cell_type": "code",
     "collapsed": false,
     "input": [
      "# # enabling, effect-effect conclusion\n",
      "# b = 0.4\n",
      "# a = 0.7\n",
      "# c = 0.7\n",
      "# x = 0.1\n",
      "# y = 0.1\n",
      "# preventing, effect-effect conclusion\n",
      "# b = 0.4\n",
      "# a = 0.1\n",
      "# c = 0.1\n",
      "# x = 0.7\n",
      "# y = 0.7\n",
      "# mixed, effect-effect conclusion\n",
      "b = 0.4\n",
      "a = 0.7\n",
      "c = 0.1\n",
      "x = 0.1\n",
      "y = 0.7\n",
      "# effect-effect conclusion \n",
      "f000 = (1-x)*(1-b)*(1-y)\n",
      "f100 = x*(1-b)*(1-y)\n",
      "f010 = (1-a)*b*(1-c)\n",
      "f001 = (1-x)*(1-b)*y\n",
      "f110 = a*b*(1-c)\n",
      "f101 = x*(1-b)*y\n",
      "f011 = (1-a)*b*c\n",
      "f111 = a*b*c"
     ],
     "language": "python",
     "metadata": {},
     "outputs": [],
     "prompt_number": 160
    },
    {
     "cell_type": "code",
     "collapsed": false,
     "input": [
      "# marginals\n",
      "pa = f100+f110+f101+f111\n",
      "pb = f010+f110+f011+f111\n",
      "pc = f001+f011+f101+f111\n",
      "print pa\n",
      "print pb\n",
      "print pc\n",
      "m000 = (1-pa)*(1-pb)*(1-pc)\n",
      "m100 = pa*(1-pb)*(1-pc)\n",
      "m010 = (1-pa)*pb*(1-pc)\n",
      "m001 = (1-pa)*(1-pb)*pc\n",
      "m110 = pa*pb*(1-pc)\n",
      "m101 = pa*(1-pb)*pc\n",
      "m011 = (1-pa)*pb*pc\n",
      "m111 = pa*pb*pc"
     ],
     "language": "python",
     "metadata": {},
     "outputs": [
      {
       "output_type": "stream",
       "stream": "stdout",
       "text": [
        "0.4\n",
        "0.296\n",
        "0.4\n"
       ]
      }
     ],
     "prompt_number": 191
    },
    {
     "cell_type": "code",
     "collapsed": false,
     "input": [
      "colnames = ['111', '110', '101', '011', '100', '010', '001', '000']\n",
      "priors = [f111, f110, f101, f011, f100, f010, f001, f000]\n",
      "norm_priors=[p/sum(priors) for p in priors]\n",
      "norm_df = pd.DataFrame(data=norm_priors,index=colnames,columns=['causal']).transpose()\n",
      "\n",
      "mpriors = [m111, m110, m101, m011, m100, m010, m001, m000]\n",
      "mnorm_priors=[p/sum(mpriors) for p in mpriors]\n",
      "mnorm_df = pd.DataFrame(data=mnorm_priors,index=colnames,columns=['marginal']).transpose()"
     ],
     "language": "python",
     "metadata": {},
     "outputs": [],
     "prompt_number": 192
    },
    {
     "cell_type": "code",
     "collapsed": false,
     "input": [
      "print norm_df\n",
      "print mnorm_df"
     ],
     "language": "python",
     "metadata": {},
     "outputs": [
      {
       "output_type": "stream",
       "stream": "stdout",
       "text": [
        "          111    110    101    011    100    010    001    000\n",
        "causal  0.008  0.036  0.152  0.036  0.204  0.216  0.204  0.144\n",
        "              111      110      101      011      100      010      001  \\\n",
        "marginal  0.04736  0.07104  0.11264  0.07104  0.16896  0.10656  0.16896   \n",
        "\n",
        "              000  \n",
        "marginal  0.25344  \n"
       ]
      }
     ],
     "prompt_number": 193
    },
    {
     "cell_type": "code",
     "collapsed": false,
     "input": [
      "index = np.arange(len(priors))\n",
      "plt.bar(index-0.2, norm_priors, width=0.4,color='b',alpha=0.5)\n",
      "plt.bar(index+0.2, mnorm_priors, width=0.4,color='r',alpha=0.5)\n",
      "plt.xticks(index+0.2,('111','110','101','011','100','010','001','000'))\n",
      "plt.show()"
     ],
     "language": "python",
     "metadata": {},
     "outputs": [
      {
       "metadata": {},
       "output_type": "display_data",
       "png": "[encoded data removed]",
       "text": [
        "<matplotlib.figure.Figure at 0x108459950>"
       ]
      }
     ],
     "prompt_number": 194
    },
    {
     "cell_type": "code",
     "collapsed": false,
     "input": [
      "# find best fit i.i.d. br\n",
      "\n",
      "def fun1(x):\n",
      "    return x**3\n",
      "\n",
      "def fun2(x):\n",
      "    return (x**2)*(1-x)\n",
      "\n",
      "def fun3(x):\n",
      "    return x*((1-x)**2)\n",
      "\n",
      "def fun4(x):\n",
      "    return (1-x)**3\n",
      "\n",
      "def objective(x,priors): # is it right to sum across domains? or multiply?\n",
      "    p1dev = ((fun1(x)-priors[\"111\"])**2).sum()\n",
      "    p2dev = ((fun2(x)-priors[[\"110\",\"011\",\"101\"]])**2).sum().sum()\n",
      "    p3dev = ((fun3(x)-priors[[\"100\",\"010\",\"001\"]])**2).sum().sum()\n",
      "    p4dev = ((fun4(x)-priors[\"000\"])**2).sum()\n",
      "    return p1dev+p2dev+p3dev+p4dev"
     ],
     "language": "python",
     "metadata": {},
     "outputs": [],
     "prompt_number": 195
    },
    {
     "cell_type": "code",
     "collapsed": false,
     "input": [
      "x0 = np.array([0.3])\n",
      "min_out = minimize(objective,x0,args=(norm_df,),method='nelder-mead')\n",
      "print min_out"
     ],
     "language": "python",
     "metadata": {},
     "outputs": [
      {
       "output_type": "stream",
       "stream": "stdout",
       "text": [
        "  status: 0\n",
        "    nfev: 26\n",
        " success: True\n",
        "     fun: 0.031017551556409506\n",
        "       x: array([ 0.40306641])\n",
        " message: 'Optimization terminated successfully.'\n",
        "     nit: 13\n"
       ]
      }
     ],
     "prompt_number": 196
    },
    {
     "cell_type": "code",
     "collapsed": false,
     "input": [
      "bf_pred = np.zeros((len(norm_df.columns.values),1))\n",
      "bf_pred[0] = fun1(min_out.x)\n",
      "bf_pred[1:4] = fun2(min_out.x)\n",
      "bf_pred[4:7] = fun3(min_out.x)\n",
      "bf_pred[7] = fun4(min_out.x)\n",
      "bf_df = pd.DataFrame(data=bf_pred,index=colnames,columns=['iid']).transpose()\n",
      "bf_df"
     ],
     "language": "python",
     "metadata": {},
     "outputs": [
      {
       "html": [
        "<div style=\"max-height:1000px;max-width:1500px;overflow:auto;\">\n",
        "<table border=\"1\" class=\"dataframe\">\n",
        "  <thead>\n",
        "    <tr style=\"text-align: right;\">\n",
        "      <th></th>\n",
        "      <th>111</th>\n",
        "      <th>110</th>\n",
        "      <th>101</th>\n",
        "      <th>011</th>\n",
        "      <th>100</th>\n",
        "      <th>010</th>\n",
        "      <th>001</th>\n",
        "      <th>000</th>\n",
        "    </tr>\n",
        "  </thead>\n",
        "  <tbody>\n",
        "    <tr>\n",
        "      <th>iid</th>\n",
        "      <td> 0.065483</td>\n",
        "      <td> 0.096979</td>\n",
        "      <td> 0.096979</td>\n",
        "      <td> 0.096979</td>\n",
        "      <td> 0.143625</td>\n",
        "      <td> 0.143625</td>\n",
        "      <td> 0.143625</td>\n",
        "      <td> 0.212705</td>\n",
        "    </tr>\n",
        "  </tbody>\n",
        "</table>\n",
        "</div>"
       ],
       "metadata": {},
       "output_type": "pyout",
       "prompt_number": 197,
       "text": [
        "          111       110       101       011       100       010       001  \\\n",
        "iid  0.065483  0.096979  0.096979  0.096979  0.143625  0.143625  0.143625   \n",
        "\n",
        "          000  \n",
        "iid  0.212705  "
       ]
      }
     ],
     "prompt_number": 197
    },
    {
     "cell_type": "code",
     "collapsed": false,
     "input": [
      "concat_priors = pd.concat((norm_df,mnorm_df,bf_df))\n",
      "filename ='03belief_tests_MC_PP_cc.csv'"
     ],
     "language": "python",
     "metadata": {},
     "outputs": [],
     "prompt_number": 198
    },
    {
     "cell_type": "code",
     "collapsed": false,
     "input": [
      "concat_priors.to_csv('/Users/mht/Documents/research/syllogism/data/03belief_tests/'+filename)"
     ],
     "language": "python",
     "metadata": {},
     "outputs": [],
     "prompt_number": 199
    },
    {
     "cell_type": "heading",
     "level": 1,
     "metadata": {},
     "source": [
      "Run some models"
     ]
    },
    {
     "cell_type": "code",
     "collapsed": false,
     "input": [
      "os.chdir(\"/Users/mht/Documents/research/syllogism/models\")\n",
      "from syll_model import syllogism_model"
     ],
     "language": "python",
     "metadata": {},
     "outputs": [],
     "prompt_number": 6
    },
    {
     "cell_type": "code",
     "collapsed": false,
     "input": [
      "n_obj, br, ndepth, mdepth, alphq, alphr = 6, 0, 1, 0, 3, 1\n",
      "serv, nvc, vc, vcord, exp, fig, lis, EPin = 0, 0, 4,'CA','AIEO', 'Full', 'lis', 1\n",
      "prrs, prrt = 'MC_EE_ec', 'causal'"
     ],
     "language": "python",
     "metadata": {},
     "outputs": [],
     "prompt_number": 7
    },
    {
     "cell_type": "code",
     "collapsed": false,
     "input": [
      "allpriors = ['MC_EE_ec','MC_EE_cc','MC_EP_ec', \\\n",
      "             'MC_EP_cc','MC_PP_ec','MC_PP_cc', \\\n",
      "            'CC_EE_ec','CC_EE_ee','CC_EP_ec', \\\n",
      "             'CC_EP_ee','CC_PP_ec','CC_PP_ee']\n",
      "ap = 'CC_EE_ec'\n",
      "alltypes = ['causal','iid']"
     ],
     "language": "python",
     "metadata": {},
     "outputs": [],
     "prompt_number": 10
    },
    {
     "cell_type": "code",
     "collapsed": false,
     "input": [
      "#for ap in allpriors:\n",
      "for at in alltypes:\n",
      "    syllorder, model_data = syllogism_model(n_obj,br,ndepth,mdepth,alphq,alphr,\\\n",
      "                                            priors=ap,\\\n",
      "                                            priortype=at)"
     ],
     "language": "python",
     "metadata": {},
     "outputs": [
      {
       "output_type": "stream",
       "stream": "stdout",
       "text": [
        "listening, reasoning, speaking... alpha3\n",
        "listening, reasoning, speaking... alpha0"
       ]
      },
      {
       "output_type": "stream",
       "stream": "stdout",
       "text": [
        "\n",
        "listening, reasoning, speaking... alpha3"
       ]
      },
      {
       "output_type": "stream",
       "stream": "stdout",
       "text": [
        "\n",
        "listening, reasoning, speaking... alpha0"
       ]
      },
      {
       "output_type": "stream",
       "stream": "stdout",
       "text": [
        "\n"
       ]
      }
     ],
     "prompt_number": 11
    },
    {
     "cell_type": "code",
     "collapsed": false,
     "input": [],
     "language": "python",
     "metadata": {},
     "outputs": []
    }
   ],
   "metadata": {}
  }
 ]
}