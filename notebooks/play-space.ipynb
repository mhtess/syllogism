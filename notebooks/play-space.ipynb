{
 "metadata": {
  "name": "",
  "signature": "sha256:ffeb482b65c149c605495c000aa644b9e0ec0ee24b578739735d1df2070b986a"
 },
 "nbformat": 3,
 "nbformat_minor": 0,
 "worksheets": [
  {
   "cells": [
    {
     "cell_type": "code",
     "collapsed": false,
     "input": [
      "import pandas as pd"
     ],
     "language": "python",
     "metadata": {},
     "outputs": [],
     "prompt_number": 2
    },
    {
     "cell_type": "code",
     "collapsed": false,
     "input": [
      "expname = '03belief_tests_'\n",
      "priors = 'CC_EE_ec'\n",
      "priorpath = ('/Users/mht/Documents/research/syllogism/data/03belief_tests/') #% (expname))\n",
      "priorfile = priorpath + expname + priors + '.csv'\n",
      "phead = pd.read_csv(priorfile,dtype='string')\n"
     ],
     "language": "python",
     "metadata": {},
     "outputs": [],
     "prompt_number": 3
    },
    {
     "cell_type": "code",
     "collapsed": false,
     "input": [
      "phead"
     ],
     "language": "python",
     "metadata": {},
     "outputs": [
      {
       "html": [
        "<div style=\"max-height:1000px;max-width:1500px;overflow:auto;\">\n",
        "<table border=\"1\" class=\"dataframe\">\n",
        "  <thead>\n",
        "    <tr style=\"text-align: right;\">\n",
        "      <th></th>\n",
        "      <th>Unnamed: 0</th>\n",
        "      <th>111</th>\n",
        "      <th>110</th>\n",
        "      <th>101</th>\n",
        "      <th>011</th>\n",
        "      <th>100</th>\n",
        "      <th>010</th>\n",
        "      <th>001</th>\n",
        "      <th>000</th>\n",
        "    </tr>\n",
        "  </thead>\n",
        "  <tbody>\n",
        "    <tr>\n",
        "      <th>0</th>\n",
        "      <td>   causal</td>\n",
        "      <td>  0.19599999999999998</td>\n",
        "      <td>               0.084</td>\n",
        "      <td>               0.084</td>\n",
        "      <td>               0.006</td>\n",
        "      <td> 0.03600000000000001</td>\n",
        "      <td>               0.054</td>\n",
        "      <td> 0.054000000000000006</td>\n",
        "      <td> 0.48600000000000004</td>\n",
        "    </tr>\n",
        "    <tr>\n",
        "      <th>1</th>\n",
        "      <td> marginal</td>\n",
        "      <td>  0.04623999999999999</td>\n",
        "      <td> 0.08975999999999999</td>\n",
        "      <td> 0.08975999999999999</td>\n",
        "      <td> 0.06935999999999999</td>\n",
        "      <td>             0.17424</td>\n",
        "      <td>             0.13464</td>\n",
        "      <td>  0.13463999999999998</td>\n",
        "      <td> 0.26136000000000004</td>\n",
        "    </tr>\n",
        "    <tr>\n",
        "      <th>2</th>\n",
        "      <td>      iid</td>\n",
        "      <td> 0.008647175894893671</td>\n",
        "      <td> 0.03348199013599001</td>\n",
        "      <td> 0.03348199013599001</td>\n",
        "      <td> 0.03348199013599001</td>\n",
        "      <td> 0.12964275008312603</td>\n",
        "      <td> 0.12964275008312603</td>\n",
        "      <td>  0.12964275008312603</td>\n",
        "      <td>  0.5019786034477581</td>\n",
        "    </tr>\n",
        "  </tbody>\n",
        "</table>\n",
        "</div>"
       ],
       "metadata": {},
       "output_type": "pyout",
       "prompt_number": 4,
       "text": [
        "  Unnamed: 0                   111                  110                  101  \\\n",
        "0     causal   0.19599999999999998                0.084                0.084   \n",
        "1   marginal   0.04623999999999999  0.08975999999999999  0.08975999999999999   \n",
        "2        iid  0.008647175894893671  0.03348199013599001  0.03348199013599001   \n",
        "\n",
        "                   011                  100                  010  \\\n",
        "0                0.006  0.03600000000000001                0.054   \n",
        "1  0.06935999999999999              0.17424              0.13464   \n",
        "2  0.03348199013599001  0.12964275008312603  0.12964275008312603   \n",
        "\n",
        "                    001                  000  \n",
        "0  0.054000000000000006  0.48600000000000004  \n",
        "1   0.13463999999999998  0.26136000000000004  \n",
        "2   0.12964275008312603   0.5019786034477581  "
       ]
      }
     ],
     "prompt_number": 4
    },
    {
     "cell_type": "code",
     "collapsed": false,
     "input": [
      "features = phead.columns.values[1::]\n",
      "features"
     ],
     "language": "python",
     "metadata": {},
     "outputs": [
      {
       "metadata": {},
       "output_type": "pyout",
       "prompt_number": 11,
       "text": [
        "array(['111', '110', '101', '011', '100', '010', '001', '000'], dtype=object)"
       ]
      }
     ],
     "prompt_number": 11
    },
    {
     "cell_type": "code",
     "collapsed": false,
     "input": [
      "priortype = 'iid'"
     ],
     "language": "python",
     "metadata": {},
     "outputs": [],
     "prompt_number": 12
    },
    {
     "cell_type": "code",
     "collapsed": false,
     "input": [
      "domain_priors = phead.loc[phead.iloc[:,0] == priortype][features]\n"
     ],
     "language": "python",
     "metadata": {},
     "outputs": [],
     "prompt_number": 13
    },
    {
     "cell_type": "code",
     "collapsed": false,
     "input": [
      "domain_priors"
     ],
     "language": "python",
     "metadata": {},
     "outputs": [
      {
       "html": [
        "<div style=\"max-height:1000px;max-width:1500px;overflow:auto;\">\n",
        "<table border=\"1\" class=\"dataframe\">\n",
        "  <thead>\n",
        "    <tr style=\"text-align: right;\">\n",
        "      <th></th>\n",
        "      <th>111</th>\n",
        "      <th>110</th>\n",
        "      <th>101</th>\n",
        "      <th>011</th>\n",
        "      <th>100</th>\n",
        "      <th>010</th>\n",
        "      <th>001</th>\n",
        "      <th>000</th>\n",
        "    </tr>\n",
        "  </thead>\n",
        "  <tbody>\n",
        "    <tr>\n",
        "      <th>2</th>\n",
        "      <td> 0.008647175894893671</td>\n",
        "      <td> 0.03348199013599001</td>\n",
        "      <td> 0.03348199013599001</td>\n",
        "      <td> 0.03348199013599001</td>\n",
        "      <td> 0.12964275008312603</td>\n",
        "      <td> 0.12964275008312603</td>\n",
        "      <td> 0.12964275008312603</td>\n",
        "      <td> 0.5019786034477581</td>\n",
        "    </tr>\n",
        "  </tbody>\n",
        "</table>\n",
        "</div>"
       ],
       "metadata": {},
       "output_type": "pyout",
       "prompt_number": 14,
       "text": [
        "                    111                  110                  101  \\\n",
        "2  0.008647175894893671  0.03348199013599001  0.03348199013599001   \n",
        "\n",
        "                   011                  100                  010  \\\n",
        "2  0.03348199013599001  0.12964275008312603  0.12964275008312603   \n",
        "\n",
        "                   001                 000  \n",
        "2  0.12964275008312603  0.5019786034477581  "
       ]
      }
     ],
     "prompt_number": 14
    },
    {
     "cell_type": "code",
     "collapsed": false,
     "input": [],
     "language": "python",
     "metadata": {},
     "outputs": []
    }
   ],
   "metadata": {}
  }
 ]
}