{
 "metadata": {
  "name": ""
 },
 "nbformat": 3,
 "nbformat_minor": 0,
 "worksheets": [
  {
   "cells": [
    {
     "cell_type": "code",
     "collapsed": false,
     "input": [
      "from __future__ import division\n",
      "import itertools as it\n",
      "import random\n",
      "import numpy as np\n",
      "import matplotlib.pyplot as plt\n",
      "from collections import Counter\n",
      "import os\n",
      "os.chdir('C:/Users/Henry/Documents/SCIENCE/COGNITION/meSEARCH/MODEL/')"
     ],
     "language": "python",
     "metadata": {},
     "outputs": [],
     "prompt_number": 1
    },
    {
     "cell_type": "code",
     "collapsed": false,
     "input": [
      "def A_eval(s,p):\n",
      "    return (np.array(np.logical_or(s,~p).all(axis=1))&s.any(axis=1)&p.any(axis=1))\n",
      "    \n",
      "def O_eval(s,p):\n",
      "    return (np.array(~np.logical_or(s,~p).all(axis=1))&s.any(axis=1)&p.any(axis=1))\n",
      "\n",
      "def E_eval(s,p):\n",
      "    return (np.array(np.logical_or(~p,~s).all(axis=1))&s.any(axis=1)&p.any(axis=1))\n",
      "\n",
      "def I_eval(s,p):\n",
      "    return (np.array(~np.logical_or(~p,~s).all(axis=1))&s.any(axis=1)&p.any(axis=1))\n",
      "\n",
      "def A_evaln(s,p):\n",
      "    return (np.array(np.logical_or(s,abs(1-p)).all(axis=1))&s.any(axis=1)&p.any(axis=1))\n",
      "    \n",
      "def O_evaln(s,p):\n",
      "    return (np.array(~np.logical_or(s,abs(1-p)).all(axis=1))&s.any(axis=1)&p.any(axis=1))\n",
      "\n",
      "def E_evaln(s,p):\n",
      "    return (np.array(np.logical_or(abs(1-p),abs(1-s)).all(axis=1))&s.any(axis=1)&p.any(axis=1))\n",
      "\n",
      "def I_evaln(s,p):\n",
      "    return (np.array(~np.logical_or(abs(1-p),abs(1-s)).all(axis=1))&s.any(axis=1)&p.any(axis=1))"
     ],
     "language": "python",
     "metadata": {},
     "outputs": [],
     "prompt_number": 2
    },
    {
     "cell_type": "code",
     "collapsed": false,
     "input": [
      "def marignals_f1(base,sr,pr,mr):\n",
      "    m_rate = base*sr+(1-base)*base\n",
      "    p_rate = m_rate*mr+(1-m_rate)*base\n",
      "    return m_rate, p_rate\n",
      "    \n",
      "def marignals_f2(base,sr,pr,mr):\n",
      "    m_rate = base**2*max(sr,pr)+(1-base)*base*sr+base*(1-base)*pr+((1-base)**2)*base\n",
      "    return m_rate\n",
      "\n",
      "def marignals_f3(base,sr,pr,mr):\n",
      "    s_rate = base*mr+(1-base)*base\n",
      "    p_rate = base*mr+(1-base)*base\n",
      "    return s_rate, p_rate\n",
      "\n",
      "def marignals_f4(base,sr,pr,mr):\n",
      "    m_rate = base*pr+(1-base)*base\n",
      "    s_rate = m_rate*mr+(1-m_rate)*base\n",
      "    return m_rate, s_rate    "
     ],
     "language": "python",
     "metadata": {},
     "outputs": [],
     "prompt_number": 3
    },
    {
     "cell_type": "code",
     "collapsed": false,
     "input": [
      "def sample_multiprior(pV):    \n",
      "    features = list(it.product((1,0),repeat=3))\n",
      "    pairs = zip(pV,features)\n",
      "    probabilities = np.random.multinomial(n_balls,zip(*pairs)[0])\n",
      "    result = zip(probabilities,zip(*pairs)[1])\n",
      "    final = list([list([r[1] for _ in range(r[0])]) for r in result if r[0]*r[1]!=()])\n",
      "    whatiwant=[]\n",
      "    [[whatiwant.append(g) for g in f] for f in final]\n",
      "    samples = zip(*whatiwant)\n",
      "    return samples[0],samples[1],samples[2]"
     ],
     "language": "python",
     "metadata": {},
     "outputs": [],
     "prompt_number": 4
    },
    {
     "cell_type": "code",
     "collapsed": false,
     "input": [
      "def getcodes(trgt, cnd):\n",
      "    fid = open('property_codes0.txt')    \n",
      "    codehead = fid.readline().split(',')\n",
      "    syll = ''\n",
      "    cond = ''\n",
      "    while ((syll != trgt) | (cond != cnd)):\n",
      "        code = fid.readline().split(',')\n",
      "        syll = code[0]\n",
      "        cond = int(code[1])\n",
      "        if code == '':\n",
      "            break\n",
      "    props = code[2::]\n",
      "    pn = [int(p) for p in props]\n",
      "    fid.close()\n",
      "    return pn"
     ],
     "language": "python",
     "metadata": {},
     "outputs": [],
     "prompt_number": 45
    },
    {
     "cell_type": "code",
     "collapsed": false,
     "input": [
      "def getpriors(propsn,cond,s):\n",
      "    c1 = []\n",
      "    for p in propsn:\n",
      "        if p!=0:\n",
      "            gname = 'mean_priors.txt'\n",
      "            g = open(gname)\n",
      "            pnum = ''\n",
      "            while pnum!=p:\n",
      "                pr = g.readline()\n",
      "                if pr == '':\n",
      "                    break\n",
      "                pr0 = pr.split(',')\n",
      "                if len(pr0) > 1: pnum = int(pr0[2].split('\"')[1][1])\n",
      "            ps = g.readline().split()\n",
      "            psi = ps.index(s)\n",
      "            pt = g.readline().split()\n",
      "            if pt[0] == cond: \n",
      "                c1.append(float(pt[psi+1]))\n",
      "            else: \n",
      "                pt = g.readline().split()\n",
      "                c1.append(float(pt[psi+1]))\n",
      "        else: c1.append(0)\n",
      "        g.close()\n",
      "    return c1"
     ],
     "language": "python",
     "metadata": {},
     "outputs": [],
     "prompt_number": 46
    },
    {
     "cell_type": "code",
     "collapsed": false,
     "input": [
      "def sample_indfig(sr,mr,pr):\n",
      "    S = np.random.uniform(size=n_balls) < sr\n",
      "    M = np.random.uniform(size=n_balls) < mr\n",
      "    P = np.random.uniform(size=n_balls) < pr\n",
      "    return S, M, P"
     ],
     "language": "python",
     "metadata": {},
     "outputs": [],
     "prompt_number": 47
    },
    {
     "cell_type": "code",
     "collapsed": false,
     "input": [
      "def sample_fig1():\n",
      "    S = np.random.uniform(size=n_balls) < base_rate\n",
      "    M = np.random.uniform(size=n_balls) < np.where(S, s_rate, base_rate)\n",
      "    P = np.random.uniform(size=n_balls) < np.where(M, m_rate, base_rate)    \n",
      "    return S, M, P\n",
      "\n",
      "# <codecell>\n",
      "\n",
      "def sample_fig2():\n",
      "    S = np.random.uniform(size=n_balls) < base_rate\n",
      "    P = np.random.uniform(size=n_balls) < base_rate\n",
      "    M = np.random.uniform(size=n_balls) < np.where(np.logical_or(S,P), s_rate, base_rate)\n",
      "    return S, M, P\n",
      "\n",
      "# <codecell>\n",
      "\n",
      "def sample_fig3():\n",
      "    M = np.random.uniform(size=n_balls) < base_rate\n",
      "    S = np.random.uniform(size=n_balls) < np.where(M, m_rate, base_rate)\n",
      "    P = np.random.uniform(size=n_balls) < np.where(M, m_rate, base_rate)\n",
      "    return S, M, P\n",
      "\n",
      "# <codecell>\n",
      "\n",
      "def sample_fig4():\n",
      "    P = np.random.uniform(size=n_balls) < base_rate\n",
      "    M = np.random.uniform(size=n_balls) < np.where(P, p_rate, base_rate)\n",
      "    S = np.random.uniform(size=n_balls) < np.where(M, m_rate, base_rate)\n",
      "    return S, M, P"
     ],
     "language": "python",
     "metadata": {},
     "outputs": [],
     "prompt_number": 48
    },
    {
     "cell_type": "code",
     "collapsed": false,
     "input": [
      "norm_exp = 1.0\n",
      "n_balls = 4\n",
      "base_rate = 0.25\n",
      "s_rate = 0.25\n",
      "m_rate = 0.25\n",
      "p_rate = 0.25\n",
      "n_samples = 100"
     ],
     "language": "python",
     "metadata": {},
     "outputs": [],
     "prompt_number": 49
    },
    {
     "cell_type": "code",
     "collapsed": false,
     "input": [
      "measuredPriors = (())\n",
      "\n",
      "Relations = [A_evaln,I_evaln,E_evaln,O_evaln]\n",
      "Fignums = ['1','2','3','4']\n",
      "Figures = [['M P', 'S M', 'S P'],['P M', 'S M', 'S P'],\n",
      "           ['M P', 'M S', 'S P'],['P M', 'M S', 'S P']]\n",
      "\n",
      "\n",
      "exp0prem_moods = list(((A_evaln,E_evaln),(I_evaln,A_evaln),\n",
      "                  (E_evaln,A_evaln),(E_evaln,I_evaln),\n",
      "                    (A_evaln,I_evaln),(A_evaln,A_evaln)))\n",
      "                    \n",
      "exp0fignums = list(('4','4','3','3','4','2'))\n",
      "\n",
      "exp0figures = list(((Figures[3]),(Figures[3]),(Figures[2]),\n",
      "                    (Figures[2]),(Figures[3]),(Figures[1])))\n",
      "                    \n",
      "epm = (('AE4'),('IA4'),('EA3'),('EI3'),('AI4'),('AA2'))\n",
      "\n",
      "epm_full = list(it.product(epm,['A','I','E','O']))\n",
      "exp0full_moods = list(it.product(exp0prem_moods,Relations))\n",
      "moodtexts = list(it.product(['A','I','E','O'],repeat=3))"
     ],
     "language": "python",
     "metadata": {},
     "outputs": [],
     "prompt_number": 50
    },
    {
     "cell_type": "code",
     "collapsed": false,
     "input": [
      "exp0full_moodsf = []\n",
      "for test in exp0full_moods:\n",
      "    newtest= []\n",
      "    for i in test:\n",
      "        if isinstance(i,tuple):\n",
      "            for item in i:\n",
      "               newtest.append(item)\n",
      "        else:\n",
      "            newtest.append(i)\n",
      "    exp0full_moodsf.append(newtest)\n",
      "    \n",
      "Moods = list(it.product(Relations,repeat=3))\n",
      "func_list = [sample_fig1, sample_fig2, sample_fig3, sample_fig4]\n",
      "final = []"
     ],
     "language": "python",
     "metadata": {},
     "outputs": [],
     "prompt_number": 51
    },
    {
     "cell_type": "code",
     "collapsed": false,
     "input": [
      "print exp0figures"
     ],
     "language": "python",
     "metadata": {},
     "outputs": [
      {
       "output_type": "stream",
       "stream": "stdout",
       "text": [
        "[['P M', 'M S', 'S P'], ['P M', 'M S', 'S P'], ['M P', 'M S', 'S P'], ['M P', 'M S', 'S P'], ['P M', 'M S', 'S P'], ['P M', 'S M', 'S P']]\n"
       ]
      }
     ],
     "prompt_number": 58
    },
    {
     "cell_type": "code",
     "collapsed": false,
     "input": [
      "for Condition in range(1,3):\n",
      "    for k, figure in enumerate(exp0figures):\n",
      "        X, Y = zip(*[f.split() for f in figure])\n",
      "        mydict = {}\n",
      "        target = epm[k]\n",
      "        codes = getcodes(target,Condition)\n",
      "        priorVector = getpriors(codes,Condition,target)\n",
      "        print target, Condition\n",
      "        print priorVector"
     ],
     "language": "python",
     "metadata": {},
     "outputs": [
      {
       "output_type": "stream",
       "stream": "stdout",
       "text": [
        "AE4 1\n",
        "[0.10651246, 0.09979204, 0.1510487, 0.09811345, 0.1725915, 0.09025516, 0.1664674, 0.1152193]\n",
        "IA4 1\n",
        "[0.1086691, 0.07854537, 0.12238522, 0.1515548, 0.1250252, 0.12297559, 0.1506674, 0.1401773]\n",
        "EA3 1\n",
        "[0.1124968, 0.1548485, 0.1256791, 0.1086966, 0.0971035, 0.1308314, 0.14312597, 0.12721797]\n",
        "EI3 1\n",
        "[0.1058253, 0.07910544, 0.10326231, 0.14858798, 0.1402912, 0.1373626, 0.1415396, 0.1440256]\n",
        "AI4 1\n",
        "[0.1185518, 0.1726063, 0.05371802, 0.15795665, 0.1193732, 0.1608222, 0.06671363, 0.1502581]\n",
        "AA2 1\n",
        "[0.1569497, 0.1281595, 0.1192537, 0.1097585, 0.1459731, 0.1173971, 0.08807695, 0.1344314]\n",
        "AE4 2\n",
        "[0.1725915, 0.1664674, 0.09025516, 0.1152193, 0.10651246, 0.09811345, 0.09979204, 0.1510487]\n",
        "IA4 2\n",
        "[0.07854537, 0.12297559, 0.1515548, 0.1401773, 0.1086691, 0.1250252, 0.12238522, 0.1506674]\n",
        "EA3 2\n",
        "[0.1256791, 0.1124968, 0.1086966, 0.1548485, 0.14312597, 0.0971035, 0.12721797, 0.1308314]\n",
        "EI3 2\n",
        "[0.1058253, 0, 0, 0.1402912, 0.07910544, 0, 0, 0.1373626]\n",
        "AI4 2\n",
        "[0.1185518, 0.05371802, 0.1726063, 0.15795665, 0.1193732, 0.06671363, 0.1608222, 0.1502581]\n",
        "AA2 2\n",
        "[0.1569497, 0.1459731, 0.1281595, 0.1173971, 0.1192537, 0.08807695, 0.1097585, 0.1344314]\n"
       ]
      }
     ],
     "prompt_number": 60
    },
    {
     "cell_type": "markdown",
     "metadata": {},
     "source": [
      "This is the stage I am at. Data is organized fine. This is mean data. Do we want to calculate mutual information from the individual subjects data? We could get an MI score for each subject, and see if these vary appreciably across the two conditions?"
     ]
    },
    {
     "cell_type": "code",
     "collapsed": false,
     "input": [
      "print moodtexts"
     ],
     "language": "python",
     "metadata": {},
     "outputs": [
      {
       "output_type": "stream",
       "stream": "stdout",
       "text": [
        "[('A', 'A', 'A'), ('A', 'A', 'I'), ('A', 'A', 'E'), ('A', 'A', 'O'), ('A', 'I', 'A'), ('A', 'I', 'I'), ('A', 'I', 'E'), ('A', 'I', 'O'), ('A', 'E', 'A'), ('A', 'E', 'I'), ('A', 'E', 'E'), ('A', 'E', 'O'), ('A', 'O', 'A'), ('A', 'O', 'I'), ('A', 'O', 'E'), ('A', 'O', 'O'), ('I', 'A', 'A'), ('I', 'A', 'I'), ('I', 'A', 'E'), ('I', 'A', 'O'), ('I', 'I', 'A'), ('I', 'I', 'I'), ('I', 'I', 'E'), ('I', 'I', 'O'), ('I', 'E', 'A'), ('I', 'E', 'I'), ('I', 'E', 'E'), ('I', 'E', 'O'), ('I', 'O', 'A'), ('I', 'O', 'I'), ('I', 'O', 'E'), ('I', 'O', 'O'), ('E', 'A', 'A'), ('E', 'A', 'I'), ('E', 'A', 'E'), ('E', 'A', 'O'), ('E', 'I', 'A'), ('E', 'I', 'I'), ('E', 'I', 'E'), ('E', 'I', 'O'), ('E', 'E', 'A'), ('E', 'E', 'I'), ('E', 'E', 'E'), ('E', 'E', 'O'), ('E', 'O', 'A'), ('E', 'O', 'I'), ('E', 'O', 'E'), ('E', 'O', 'O'), ('O', 'A', 'A'), ('O', 'A', 'I'), ('O', 'A', 'E'), ('O', 'A', 'O'), ('O', 'I', 'A'), ('O', 'I', 'I'), ('O', 'I', 'E'), ('O', 'I', 'O'), ('O', 'E', 'A'), ('O', 'E', 'I'), ('O', 'E', 'E'), ('O', 'E', 'O'), ('O', 'O', 'A'), ('O', 'O', 'I'), ('O', 'O', 'E'), ('O', 'O', 'O')]\n"
       ]
      }
     ],
     "prompt_number": 54
    },
    {
     "cell_type": "code",
     "collapsed": false,
     "input": [
      "# Not sure what's going wrong here.\n",
      "for Condition in range(1,3):\n",
      "    for k, figure in enumerate(exp0figures):\n",
      "        X, Y = zip(*[f.split() for f in figure])\n",
      "        mydict = {}\n",
      "        target = epm[k]\n",
      "        codes = getcodes(target,Condition)\n",
      "        priorVector = getpriors(codes,Condition,target)\n",
      "        clist = []\n",
      "        samples = np.array([sample_multiprior(priorVector) for _ in range(1000*n_samples)])\n",
      "        S, M, P = samples.transpose(1, 0, 2)\n",
      "        for j in range(4):          \n",
      "            c = Counter()\n",
      "            rsi = np.array([func(eval(Y[i]),eval(X[i])) for i, func in enumerate(exp0full_moodsf[j+4*k])])\n",
      "            c.update(rsi[2,rsi[:2].all(axis=0)])        \n",
      "            clist.append(c)\n",
      "        cvals = [cl.values() for cl in clist]\n",
      "        rs0 = [(cl[True]/(sum(cl.values())))**(float(norm_exp)) for cl in clist]\n",
      "        final.append(rs0)"
     ],
     "language": "python",
     "metadata": {},
     "outputs": [
      {
       "output_type": "stream",
       "stream": "stdout",
       "text": [
        "0\n",
        "AE4\n",
        "1"
       ]
      },
      {
       "output_type": "stream",
       "stream": "stdout",
       "text": [
        "\n",
        "IA4\n",
        "2"
       ]
      },
      {
       "output_type": "stream",
       "stream": "stdout",
       "text": [
        "\n",
        "EA3\n",
        "3"
       ]
      },
      {
       "output_type": "stream",
       "stream": "stdout",
       "text": [
        "\n",
        "EI3\n",
        "4"
       ]
      },
      {
       "output_type": "stream",
       "stream": "stdout",
       "text": [
        "\n",
        "AI4\n",
        "5"
       ]
      },
      {
       "output_type": "stream",
       "stream": "stdout",
       "text": [
        "\n",
        "AA2\n",
        "0"
       ]
      },
      {
       "output_type": "stream",
       "stream": "stdout",
       "text": [
        "\n",
        "AE4\n",
        "1"
       ]
      },
      {
       "output_type": "stream",
       "stream": "stdout",
       "text": [
        "\n",
        "IA4\n",
        "2"
       ]
      },
      {
       "output_type": "stream",
       "stream": "stdout",
       "text": [
        "\n",
        "EA3\n",
        "3"
       ]
      },
      {
       "ename": "ZeroDivisionError",
       "evalue": "division by zero",
       "output_type": "pyerr",
       "traceback": [
        "\u001b[1;31m---------------------------------------------------------------------------\u001b[0m\n\u001b[1;31mZeroDivisionError\u001b[0m                         Traceback (most recent call last)",
        "\u001b[1;32m<ipython-input-52-f0ac779fe7e4>\u001b[0m in \u001b[0;36m<module>\u001b[1;34m()\u001b[0m\n\u001b[0;32m     17\u001b[0m             \u001b[0mclist\u001b[0m\u001b[1;33m.\u001b[0m\u001b[0mappend\u001b[0m\u001b[1;33m(\u001b[0m\u001b[0mc\u001b[0m\u001b[1;33m)\u001b[0m\u001b[1;33m\u001b[0m\u001b[0m\n\u001b[0;32m     18\u001b[0m         \u001b[0mcvals\u001b[0m \u001b[1;33m=\u001b[0m \u001b[1;33m[\u001b[0m\u001b[0mcl\u001b[0m\u001b[1;33m.\u001b[0m\u001b[0mvalues\u001b[0m\u001b[1;33m(\u001b[0m\u001b[1;33m)\u001b[0m \u001b[1;32mfor\u001b[0m \u001b[0mcl\u001b[0m \u001b[1;32min\u001b[0m \u001b[0mclist\u001b[0m\u001b[1;33m]\u001b[0m\u001b[1;33m\u001b[0m\u001b[0m\n\u001b[1;32m---> 19\u001b[1;33m         \u001b[0mrs0\u001b[0m \u001b[1;33m=\u001b[0m \u001b[1;33m[\u001b[0m\u001b[1;33m(\u001b[0m\u001b[0mcl\u001b[0m\u001b[1;33m[\u001b[0m\u001b[0mTrue\u001b[0m\u001b[1;33m]\u001b[0m\u001b[1;33m/\u001b[0m\u001b[1;33m(\u001b[0m\u001b[0msum\u001b[0m\u001b[1;33m(\u001b[0m\u001b[0mcl\u001b[0m\u001b[1;33m.\u001b[0m\u001b[0mvalues\u001b[0m\u001b[1;33m(\u001b[0m\u001b[1;33m)\u001b[0m\u001b[1;33m)\u001b[0m\u001b[1;33m)\u001b[0m\u001b[1;33m)\u001b[0m\u001b[1;33m**\u001b[0m\u001b[1;33m(\u001b[0m\u001b[0mfloat\u001b[0m\u001b[1;33m(\u001b[0m\u001b[0mnorm_exp\u001b[0m\u001b[1;33m)\u001b[0m\u001b[1;33m)\u001b[0m \u001b[1;32mfor\u001b[0m \u001b[0mcl\u001b[0m \u001b[1;32min\u001b[0m \u001b[0mclist\u001b[0m\u001b[1;33m]\u001b[0m\u001b[1;33m\u001b[0m\u001b[0m\n\u001b[0m\u001b[0;32m     20\u001b[0m         \u001b[0mfinal\u001b[0m\u001b[1;33m.\u001b[0m\u001b[0mappend\u001b[0m\u001b[1;33m(\u001b[0m\u001b[0mrs0\u001b[0m\u001b[1;33m)\u001b[0m\u001b[1;33m\u001b[0m\u001b[0m\n",
        "\u001b[1;31mZeroDivisionError\u001b[0m: division by zero"
       ]
      },
      {
       "output_type": "stream",
       "stream": "stdout",
       "text": [
        "\n",
        "EI3\n"
       ]
      }
     ],
     "prompt_number": 52
    },
    {
     "cell_type": "code",
     "collapsed": false,
     "input": [
      "rs0n = [(100*score/(sum(rs0[int(4*floor(j/4)):int(4*ceil((j+.01)/4))]))) for j,score in enumerate(rs0)]\n",
      "rs1 = [(sum(cl.values())) for cl in clist]        "
     ],
     "language": "python",
     "metadata": {},
     "outputs": []
    },
    {
     "cell_type": "code",
     "collapsed": false,
     "input": [
      "fname = 'model_experimentalPriors_n%d_s%dk_normExp%.1f.tsv' % (n_balls,n_samples, norm_exp)\n",
      "fid = open(fname,'w')\n",
      "for i, line in enumerate(rs0n):\n",
      "    fid.write('%s%s%s%d %.2f  %d\\n' \n",
      "        % (moodtexts[mod(i,64)][0],moodtexts[mod(i,64)][1],\n",
      "                     moodtexts[mod(i,64)][2],int(floor(i/64)+1), line, rs1[i]))        \n",
      "    \n",
      "fid.close()\n",
      "\n",
      "import os\n",
      "source = 'C:\\Users\\Henry\\Documents\\IPython Notebooks\\\\'\n",
      "destination = 'C:\\Users\\Henry\\Documents\\SCIENCE\\COGNITION\\meSEARCH\\DATA\\SYLLOGISM\\\\'\n",
      "os.rename((source+fname),(destination+fname))"
     ],
     "language": "python",
     "metadata": {},
     "outputs": []
    }
   ],
   "metadata": {}
  }
 ]
}