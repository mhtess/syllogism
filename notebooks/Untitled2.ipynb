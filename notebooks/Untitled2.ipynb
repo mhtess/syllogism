{
 "metadata": {
  "name": "",
  "signature": "sha256:a5150084a4aff36a912b92647ddf44e082c717a3e57c94d699302685071123b1"
 },
 "nbformat": 3,
 "nbformat_minor": 0,
 "worksheets": []
}