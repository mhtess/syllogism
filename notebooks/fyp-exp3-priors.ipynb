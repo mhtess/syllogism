{
 "metadata": {
  "name": "",
  "signature": "sha256:025653ca8c5b0e082e930c72aace41bce31e560e71dc20e14158c0e5a3f1a445"
 },
 "nbformat": 3,
 "nbformat_minor": 0,
 "worksheets": [
  {
   "cells": [
    {
     "cell_type": "code",
     "collapsed": false,
     "input": [
      "import csv\n",
      "import numpy as np\n",
      "import pandas as pd\n",
      "from scipy.optimize import minimize\n",
      "import matplotlib.pyplot as plt\n",
      "%matplotlib inline  "
     ],
     "language": "python",
     "metadata": {},
     "outputs": [],
     "prompt_number": 1
    },
    {
     "cell_type": "code",
     "collapsed": false,
     "input": [
      "expname = '02syllogism-4ac'\n",
      "priorpath = ('/Users/mht/Documents/research/syllogism/data/%s' % (expname))\n",
      "priorfile = priorpath + '/syllogism02-4f_priors_means.csv'"
     ],
     "language": "python",
     "metadata": {},
     "outputs": [],
     "prompt_number": 2
    },
    {
     "cell_type": "code",
     "collapsed": false,
     "input": [
      "priors = pd.read_csv(priorfile,usecols=range(1,9))"
     ],
     "language": "python",
     "metadata": {},
     "outputs": [],
     "prompt_number": 3
    },
    {
     "cell_type": "code",
     "collapsed": false,
     "input": [
      "priors.columns.values"
     ],
     "language": "python",
     "metadata": {},
     "outputs": [
      {
       "metadata": {},
       "output_type": "pyout",
       "prompt_number": 4,
       "text": [
        "array(['111', '110', '101', '011', '100', '010', '001', '000'], dtype=object)"
       ]
      }
     ],
     "prompt_number": 4
    },
    {
     "cell_type": "heading",
     "level": 1,
     "metadata": {},
     "source": [
      "Bernoulli( <code>br</code> ) ~ i.i.d."
     ]
    },
    {
     "cell_type": "code",
     "collapsed": false,
     "input": [
      "# define objective function to minimize\n",
      "\n",
      "def fun1(x):\n",
      "    return x**3\n",
      "\n",
      "def fun2(x):\n",
      "    return (x**2)*(1-x)\n",
      "\n",
      "def fun3(x):\n",
      "    return x*((1-x)**2)\n",
      "\n",
      "def fun4(x):\n",
      "    return (1-x)**3\n",
      "\n",
      "def objective(x): # is it right to sum across domains? or multiply?\n",
      "    p1dev = ((fun1(x)-priors[\"111\"])**2).sum()\n",
      "    p2dev = ((fun2(x)-priors[[\"110\",\"011\",\"101\"]])**2).sum().sum()\n",
      "    p3dev = ((fun3(x)-priors[[\"100\",\"010\",\"001\"]])**2).sum().sum()\n",
      "    p4dev = ((fun4(x)-priors[\"000\"])**2).sum()\n",
      "    return p1dev+p2dev+p3dev+p4dev"
     ],
     "language": "python",
     "metadata": {},
     "outputs": [],
     "prompt_number": 5
    },
    {
     "cell_type": "code",
     "collapsed": false,
     "input": [
      "# minimization scheme\n",
      "\n",
      "x0 = np.array([0.3])\n",
      "min_out = minimize(objective,x0,method='nelder-mead')\n",
      "print min_out"
     ],
     "language": "python",
     "metadata": {},
     "outputs": [
      {
       "output_type": "stream",
       "stream": "stdout",
       "text": [
        "  status: 0\n",
        "    nfev: 30\n",
        " success: True\n",
        "     fun: 0.024114611154535774\n",
        "       x: array([ 0.51445313])\n",
        " message: 'Optimization terminated successfully.'\n",
        "     nit: 15\n"
       ]
      }
     ],
     "prompt_number": 6
    },
    {
     "cell_type": "code",
     "collapsed": false,
     "input": [
      "# use best fit (flip) to generate distribution over 3 properties\n",
      "\n",
      "bf_pred = np.zeros((len(priors.columns.values),1))\n",
      "bf_pred[0] = fun1(min_out.x)\n",
      "bf_pred[1:4] = fun2(min_out.x)\n",
      "bf_pred[4:7] = fun3(min_out.x)\n",
      "#bf_pred[7] = fun4(min_out.x)"
     ],
     "language": "python",
     "metadata": {},
     "outputs": [],
     "prompt_number": 7
    },
    {
     "cell_type": "code",
     "collapsed": false,
     "input": [
      "# correlation between all elicited priors and best fit (flip)\n",
      "\n",
      "bf_pred4 = pd.DataFrame([list(bf_pred)], index=range(4),columns=priors.columns.values) #best fit predictions X 4\n",
      "pr_melt=pd.melt(priors)\n",
      "bf_melt=pd.melt(bf_pred4)\n",
      "bf_melt[\"value\"] = bf_melt[\"value\"].astype(float)\n",
      "a = pd.merge(bf_melt,pr_melt,on='variable')\n",
      "a0=a.drop_duplicates()\n",
      "corr = a0[\"value_x\"].corr(a0[\"value_y\"])\n",
      "print corr\n"
     ],
     "language": "python",
     "metadata": {},
     "outputs": [
      {
       "output_type": "stream",
       "stream": "stdout",
       "text": [
        "0.112896747683\n"
       ]
      }
     ],
     "prompt_number": 8
    },
    {
     "cell_type": "code",
     "collapsed": false,
     "input": [
      "#plot that shit\n",
      "\n",
      "fig, ((ax, bx), (cx, dx)) = plt.subplots(nrows=2, ncols=2)\n",
      "fig.set_size_inches(10,6)\n",
      "\n",
      "#ax = plt.subplot(211)\n",
      "x = np.arange(len(priors.columns.values))\n",
      "ax.bar(x-0.2, bf_pred, width=0.4,color='b',alpha=0.6)\n",
      "ax.bar(x+0.2, priors.iloc[0],width=0.4,color='r',alpha=0.6)\n",
      "plt.ylim((0,0.200))\n",
      "\n",
      "#bx = plt.subplot(212)\n",
      "bx.bar(x-0.2, bf_pred, width=0.4,color='b',alpha=0.6)\n",
      "bx.bar(x+0.2, priors.iloc[1],width=0.4,color='r',alpha=0.6)\n",
      "plt.ylim((0,0.200))\n",
      "\n",
      "#cx = plt.subplot(221)\n",
      "cx.bar(x-0.2, bf_pred, width=0.4,color='b',alpha=0.6)\n",
      "cx.bar(x+0.2, priors.iloc[2],width=0.4,color='r',alpha=0.6)\n",
      "plt.ylim((0,0.200))\n",
      "\n",
      "#dx = plt.subplot(222)\n",
      "dx.bar(x-0.2, bf_pred, width=0.4,color='b',alpha=0.6)\n",
      "dx.bar(x+0.2, priors.iloc[3],width=0.4,color='r',alpha=0.6)\n",
      "plt.ylim((0,0.200))\n",
      "\n",
      "plt.show()"
     ],
     "language": "python",
     "metadata": {},
     "outputs": [
      {
       "metadata": {},
       "output_type": "display_data",
       "png": "[encoded data removed]",
       "text": [
        "<matplotlib.figure.Figure at 0x108196bd0>"
       ]
      }
     ],
     "prompt_number": 9
    },
    {
     "cell_type": "heading",
     "level": 1,
     "metadata": {},
     "source": [
      "A, B, C ~ Bernoulli ( <code>a, b, c</code>) i.d. (not identical)"
     ]
    },
    {
     "cell_type": "code",
     "collapsed": false,
     "input": [
      "# define objective function to minimize\n",
      "\n",
      "def fun1(a,b,c):\n",
      "    return a*b*c\n",
      "\n",
      "def fun2(a,b,c):\n",
      "    return a*b*(1-c)\n",
      "\n",
      "def fun3(a,b,c):\n",
      "    return a*(1-b)*(1-c)\n",
      "\n",
      "def fun4(a,b,c):\n",
      "    return (1-a)*(1-b)*(1-c)"
     ],
     "language": "python",
     "metadata": {},
     "outputs": [],
     "prompt_number": 10
    },
    {
     "cell_type": "code",
     "collapsed": false,
     "input": [
      "def objective(x,priors):\n",
      "    \n",
      "    p1dev = ((fun1(x[0],x[1],x[2])-priors[\"111\"])**2).sum()\n",
      "    \n",
      "    p2dev = ((fun2(x[0],x[1],x[2])-priors[\"110\"])**2).sum()+ \\\n",
      "            ((fun2(x[2],x[0],x[1])-priors[\"101\"])**2).sum()+ \\\n",
      "            ((fun2(x[1],x[2],x[0])-priors[\"011\"])**2).sum()\n",
      "    \n",
      "    p3dev = ((fun3(x[0],x[1],x[2])-priors[\"100\"])**2).sum()+ \\\n",
      "            ((fun3(x[1],x[2],x[0])-priors[\"010\"])**2).sum()+ \\\n",
      "            ((fun3(x[2],x[0],x[1])-priors[\"001\"])**2).sum()\n",
      "            \n",
      "    p4dev = ((fun1(x[0],x[1],x[2])-priors[\"000\"])**2).sum()\n",
      "    \n",
      "    return p1dev+p2dev+p3dev+p4dev"
     ],
     "language": "python",
     "metadata": {},
     "outputs": [],
     "prompt_number": 11
    },
    {
     "cell_type": "code",
     "collapsed": false,
     "input": [
      "x0 = np.array([0.3,0.3,0.3])\n",
      "opt_br = []\n",
      "for pr in priors.iterrows():\n",
      "    min_out = minimize(objective,x0,args=(pr[1],),method='nelder-mead')\n",
      "    opt_br.append(min_out.x)"
     ],
     "language": "python",
     "metadata": {},
     "outputs": [],
     "prompt_number": 12
    },
    {
     "cell_type": "code",
     "collapsed": false,
     "input": [
      "# use best fit (flips) to generate distribution over 3 properties\n",
      "bf_pred4 = pd.DataFrame(columns=priors.columns.values) #best fit predictions X 4\n",
      "\n",
      "for i, br in enumerate(opt_br):\n",
      "    bf_pred = np.zeros((len(priors.columns.values),1))\n",
      "    bf_pred[0] = fun1(br[0],br[1],br[2])\n",
      "\n",
      "    bf_pred[1] = fun2(br[0],br[1],br[2])\n",
      "    bf_pred[2] = fun2(br[2],br[0],br[1])\n",
      "    bf_pred[3] = fun2(br[0],br[1],br[0])\n",
      "\n",
      "    bf_pred[4] = fun3(br[0],br[1],br[2])\n",
      "    bf_pred[5] = fun3(br[1],br[2],br[0])\n",
      "    bf_pred[6] = fun3(br[2],br[0],br[1])\n",
      "\n",
      "    bf_pred[7] = fun4(br[0],br[1],br[2])\n",
      "  #  print bf_pred[:,0]\n",
      "    bf_pred4.loc[i] = bf_pred[:,0]"
     ],
     "language": "python",
     "metadata": {},
     "outputs": [],
     "prompt_number": 13
    },
    {
     "cell_type": "code",
     "collapsed": false,
     "input": [
      "# insert domain numbers for merging purposes\n",
      "bf_pred4.columns.values[1::]\n",
      "bf_pred4.insert(0,'domain',[1,2,3,4])\n",
      "priors.insert(0,'domain',[1,2,3,4])"
     ],
     "language": "python",
     "metadata": {},
     "outputs": [],
     "prompt_number": 14
    },
    {
     "cell_type": "code",
     "collapsed": false,
     "input": [
      "# correlation between all elicited priors and best fit (flips)\n",
      "pr_melt=pd.melt(priors,id_vars=['domain'],value_vars=['111', '110', '101', '011', '100', '010', '001', '000'])\n",
      "bf_melt=pd.melt(bf_pred4,id_vars=['domain'],value_vars=['111', '110', '101', '011', '100', '010', '001', '000'])\n",
      "a = pd.merge(bf_melt,pr_melt,on=['variable','domain'])\n",
      "corr = a[\"value_x\"].corr(a[\"value_y\"])\n",
      "print corr"
     ],
     "language": "python",
     "metadata": {},
     "outputs": [
      {
       "output_type": "stream",
       "stream": "stdout",
       "text": [
        "0.749692706681\n"
       ]
      }
     ],
     "prompt_number": 15
    },
    {
     "cell_type": "code",
     "collapsed": false,
     "input": [
      "#plot that shit\n",
      "\n",
      "fig, ((ax, bx), (cx, dx)) = plt.subplots(nrows=2, ncols=2)\n",
      "fig.set_size_inches(10,6)\n",
      "plt.setp(((ax, bx), (cx, dx)), xticks=x+0.2, \n",
      "         xticklabels=('111','110','101','011','100','010','001','000'))\n",
      "\n",
      "\n",
      "#ax = plt.subplot(211)\n",
      "x = np.arange(len(priors.columns.values[1::]))\n",
      "ax.bar(x+0.2, bf_pred4.loc[0][1::], width=0.4,color='g',alpha=0.5)\n",
      "ax.bar(x-0.2, priors.iloc[0][1::],width=0.4,color='y',alpha=0.5)\n",
      "ax.set_ylim((0,0.200))\n",
      "\n",
      "#bx = plt.subplot(212)\n",
      "bx.bar(x+0.2, bf_pred4.loc[1][1::], width=0.4,color='g',alpha=0.5)\n",
      "bx.bar(x-0.2, priors.iloc[1][1::],width=0.4,color='y',alpha=0.5)\n",
      "bx.set_ylim((0,0.200))\n",
      "\n",
      "#cx = plt.subplot(221)\n",
      "cx.bar(x+0.2, bf_pred4.loc[2][1::], width=0.4,color='g',alpha=0.5)\n",
      "cx.bar(x-0.2, priors.iloc[2][1::],width=0.4,color='y',alpha=0.5)\n",
      "cx.set_ylim((0,0.200))\n",
      "\n",
      "#dx = plt.subplot(222)\n",
      "dx.bar(x+0.2, bf_pred4.loc[3][1::], width=0.4,color='g',alpha=0.5)\n",
      "dx.bar(x-0.2, priors.iloc[3][1::],width=0.4,color='y',alpha=0.5)\n",
      "dx.set_ylim((0,0.200))\n",
      "\n",
      "plt.show()"
     ],
     "language": "python",
     "metadata": {},
     "outputs": [
      {
       "metadata": {},
       "output_type": "display_data",
       "png": "[encoded data removed]",
       "text": [
        "<matplotlib.figure.Figure at 0x1083a7110>"
       ]
      }
     ],
     "prompt_number": 16
    },
    {
     "cell_type": "code",
     "collapsed": false,
     "input": [],
     "language": "python",
     "metadata": {},
     "outputs": []
    }
   ],
   "metadata": {}
  }
 ]
}