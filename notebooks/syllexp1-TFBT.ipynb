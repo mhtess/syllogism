{
 "metadata": {
  "name": "",
  "signature": "sha256:f5856f95e7c76b6f7a2ad029f36eb7e13df6d1abab1f905f168e1151e6cef7e3"
 },
 "nbformat": 3,
 "nbformat_minor": 0,
 "worksheets": [
  {
   "cells": [
    {
     "cell_type": "markdown",
     "metadata": {},
     "source": [
      "# Experiment 1: Bayesian data analysis"
     ]
    },
    {
     "cell_type": "markdown",
     "metadata": {},
     "source": [
      "`tfbt_run.py` loops through parameter values to compute model predictions for the \"family\" of models\n",
      "\n",
      "`syllmodel_given_data.py` has a number of functions to calculate (log) priors and (log) likelihoods"
     ]
    },
    {
     "cell_type": "code",
     "collapsed": false,
     "input": [
      "import os\n",
      "os.chdir('/Users/mht/Documents/research/syllogism/models/')\n",
      "import syllmodel_given_data as tfbt\n",
      "import pandas as pd"
     ],
     "language": "python",
     "metadata": {},
     "outputs": [],
     "prompt_number": 4
    },
    {
     "cell_type": "code",
     "collapsed": false,
     "input": [
      "dataf = '/Users/mht/Documents/research/syllogism/data/03syllogism_reasoning/syllbelief-exp-means_collapsed_sansOutliers.csv'\n",
      "data=pd.read_csv(dataf,usecols=['domain','syll','All','None','Some','Some_not'])"
     ],
     "language": "python",
     "metadata": {},
     "outputs": [],
     "prompt_number": 10
    },
    {
     "cell_type": "code",
     "collapsed": false,
     "input": [
      "modelpath = '/Users/mht/Documents/research/syllogism/models/modeldata/LATTICE_4_tfbt/'"
     ],
     "language": "python",
     "metadata": {},
     "outputs": [],
     "prompt_number": 17
    },
    {
     "cell_type": "code",
     "collapsed": false,
     "input": [
      "domains = ['cracker', 'knife', 'lightbulb', 'strawberry']\n",
      "number_of_objects = range(4,10)\n",
      "syllogisms = ['AO2', 'EA3', 'IE1', 'OA1']"
     ],
     "language": "python",
     "metadata": {},
     "outputs": [],
     "prompt_number": 35
    },
    {
     "cell_type": "code",
     "collapsed": false,
     "input": [
      "for n_obj in number_of_objects:\n",
      "    for dom in domains:\n",
      "        "
     ],
     "language": "python",
     "metadata": {},
     "outputs": []
    },
    {
     "cell_type": "code",
     "collapsed": false,
     "input": [
      "n_obj = 4\n",
      "dom = domains[0]\n"
     ],
     "language": "python",
     "metadata": {},
     "outputs": [],
     "prompt_number": 16
    },
    {
     "cell_type": "code",
     "collapsed": false,
     "input": [
      "model = pd.read_csv(((modelpath+dom+'/00/csv/' \\\n",
      "            +'lis_N0_M0_tfbtcracker_qud1figFull_AIEOc4CAEP1_n%d_base0.00'\\\n",
      "            +'_s100k_alphQ1_alphR1_bsmean.csv') % n_obj),\n",
      "            usecols=['# syll','all.C-A','none.C-A','some.C-A','not-all.C-A'])\n",
      "\n",
      "model[model[\"# syll\"].isin(syllogisms)]"
     ],
     "language": "python",
     "metadata": {},
     "outputs": [],
     "prompt_number": 52
    },
    {
     "cell_type": "code",
     "collapsed": false,
     "input": [],
     "language": "python",
     "metadata": {},
     "outputs": []
    }
   ],
   "metadata": {}
  }
 ]
}